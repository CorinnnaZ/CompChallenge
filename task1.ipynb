{
 "cells": [
  {
   "cell_type": "markdown",
   "metadata": {},
   "source": [
    "#Task 1a\n",
    "Use the ***Sellmeier formula*** to plot the refractive index of crown glass vs wavelength over the range of visible light (approximately 400nm to 800nm)"
   ]
  },
  {
   "cell_type": "code",
   "execution_count": null,
   "metadata": {},
   "outputs": [],
   "source": [
    "import matplotlib.pyplot as plt\n",
    "import math\n",
    "\n",
    "# lambda\n",
    "# needs to be in range 400 to 800 nanometres\n",
    "x_metres = [i for i in range(400, 800)] \n",
    "x = [i/1000 for i in x_metres]\n",
    "\n",
    "\n",
    "# sellmeier coefficients\n",
    "a = [1.03961212, 0.231792344, 1.01146945]\n",
    "b = [0.00600069867, 0.0200179144, 103.560653]\n",
    "n = []\n",
    "\n",
    "for wl in x:\n",
    "    summation = []\n",
    "    for j in range(3):\n",
    "        s = ((a[j] * (wl**2))/((wl**2)-b[j]))\n",
    "        summation.append(s)\n",
    "    n_discrete = math.sqrt(1 + sum(summation))\n",
    "    n.append(n_discrete)\n",
    "\n",
    "plt.plot(x, n)\n",
    "plt.xlabel(\"Wavelength (m)\")\n",
    "plt.ylabel(\"Refractive Index\")\n",
    "plt.show()\n",
    "# output the speed of light in the updated medium below by asking the user to input\n",
    "# a number in range of wavelenghts and then it will be displayed, initially in the\n",
    "# shell, but then later learn to get a more integrated effect\n"
   ]
  }
 ],
 "metadata": {
  "language_info": {
   "name": "python"
  }
 },
 "nbformat": 4,
 "nbformat_minor": 2
}

{
 "cells": [
  {
   "cell_type": "markdown",
   "metadata": {},
   "source": [
    "#Task 1a\n",
    "Use the ***Sellmeier formula*** to plot the refractive index of crown glass vs wavelength over the range of visible light (approximately 400nm to 800nm)"
   ]
  }
 ],
 "metadata": {
  "language_info": {
   "name": "python"
  }
 },
 "nbformat": 4,
 "nbformat_minor": 2
}

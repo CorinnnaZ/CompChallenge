{
 "cells": [
  {
   "cell_type": "markdown",
   "metadata": {},
   "source": [
    "#Task 1a\n",
    "Use the ***Sellmeier formula*** to plot the refractive index of crown glass vs wavelength over the range of visible light (approximately 400nm to 800nm)"
   ]
  },
  {
   "cell_type": "code",
   "execution_count": null,
   "metadata": {},
   "outputs": [],
   "source": [
    "import matplotlib.pyplot as plt\n",
    "import math\n",
    "\n",
    "def task1a():\n",
    "    # lambda\n",
    "    # needs to be in range 400 to 800 nanometres\n",
    "    x_nanometres = [i for i in range(400, 801)] \n",
    "    x = [i/1000 for i in x_nanometres] # converted to micrometres for sellmeier's equation\n",
    "\n",
    "\n",
    "    # sellmeier coefficients\n",
    "    a = [1.03961212, 0.231792344, 1.01146945]\n",
    "    b = [0.00600069867, 0.0200179144, 103.560653]\n",
    "    n = []\n",
    "\n",
    "    for wl in x:\n",
    "        summation = []\n",
    "        for j in range(3):\n",
    "            s = ((a[j] * (wl**2))/((wl**2)-b[j]))\n",
    "            summation.append(s)\n",
    "        n_discrete = math.sqrt(1 + sum(summation))\n",
    "        n.append(n_discrete)\n",
    "\n",
    "    plt.plot(x_nanometres, n)\n",
    "    plt.xlabel(\"Wavelength (nm)\")\n",
    "    plt.ylabel(\"Refractive Index\")\n",
    "    plt.title('Refractive Index of Crown Glass')\n",
    "    plt.show()\n",
    "    # output the speed of light in the updated medium below by asking the user to input\n",
    "    # a number in range of wavelenghts and then it will be displayed, initially in the\n",
    "    # shell, but then later learn to get a more integrated effect\n",
    "\n",
    "def task1b():\n",
    "    \"\"\"defining variables\"\"\"\n",
    "    c = 3*(10**8)\n",
    "    wavelength_metres = [i for i in range(405, 795)] # how can I make this truly continuous?\n",
    "    true_wavelength_list = [(i/(10**9)) for i in wavelength_metres]\n",
    "    frequency_list = [(c/wl) for wl in true_wavelength_list]\n",
    "    n = []\n",
    "    for frequency in frequency_list:\n",
    "        embed_1 = math.sqrt(1/(1.731 - 0.261 *((frequency/(10**15))**2)))\n",
    "        n_discrete = math.sqrt(embed_1 + 1)\n",
    "        n.append(n_discrete)\n",
    "        \n",
    "          \n",
    "    plt.plot(frequency_list, n)\n",
    "    plt.xlabel(\"Frequency ((10^14) Hz)\")\n",
    "    plt.ylabel(\"Refractive Index\")\n",
    "    plt.show()\n",
    "task1b()\n"
   ]
  }
 ],
 "metadata": {
  "language_info": {
   "name": "python"
  }
 },
 "nbformat": 4,
 "nbformat_minor": 2
}

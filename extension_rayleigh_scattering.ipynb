{
  "cells": [
    {
      "cell_type": "markdown",
      "id": "ee1c6d08",
      "metadata": {
        "id": "ee1c6d08"
      },
      "source": [
        "# Extension: Rayleigh Scattering\n",
        "*Why is the sky blue? Why is this important?*"
      ]
    },
    {
      "cell_type": "markdown",
      "id": "d83abef1",
      "metadata": {
        "id": "d83abef1"
      },
      "source": [
        "## Overview\n",
        "\n",
        "#### Direction\n",
        "*This is the current trajectory of completing this*\n",
        "\n",
        "- Follow *Scratch-A-Pixel*'s tutorial on volume rendering and apply to Python\n",
        "- Follow their tutorial on \"procedural generation of virtual worlds\" and hope that Python is sufficient\n",
        "- Read more in-depth about Rayleigh Scattering and develop how I want this to progress\n",
        "\n",
        "#### Resources\n",
        "https://youtu.be/NuDhD6-4ZQI?si=kuyAbs2qCtaZTa50\n",
        "https://www.scratchapixel.com/lessons/procedural-generation-virtual-worlds/simulating-sky/simulating-colors-of-the-sky.html\n",
        "https://dl.acm.org/doi/pdf/10.1145/166117.166140\n",
        "https://www.scratchapixel.com/lessons/3d-basic-rendering/volume-rendering-for-developers/intro-volume-rendering.html"
      ]
    },
    {
      "cell_type": "markdown",
      "id": "8ce4ca8a",
      "metadata": {
        "id": "8ce4ca8a"
      },
      "source": [
        "## Intention For Model\n",
        "*I intend to produce two/three agent based models (ABMs) of the interaction of light with particles in the atmosphere with respect to (wrt) the optical phenomenon that occurs.*\n",
        "\n",
        "#### Particle Animation\n",
        "A simple model showing how blue light scatters but longer wavelengths of light more easily reach the surface of Earth. A corresponding explanation of this can be written up (should be written up beforehand) to explore this.\n",
        "\n",
        "#### Atmospheric Gradient\n",
        "- Using the results of the earlier models, I would like to simulate the \"true\" colour of the atmosphere (stating/approximating the uncertainties that derived from me not - for example - considering Mei Scattering or using more specific modelling effects) with the Rayleigh Scattering model. To produce my intended gradient of the atmosphere, I assume that I will be using Monte Carlo approximations and will demonstrate how the simple rules (likely 3 or 4 equations) produce the colour of our atmosphere."
      ]
    },
    {
      "cell_type": "markdown",
      "id": "d0661552",
      "metadata": {
        "id": "d0661552"
      },
      "source": [
        "# Contextual Understanding\n",
        "*There are few resources that I have to understand initially before progressing onto this*\n",
        "\n",
        "**Beer-Lambert Equation:**\n",
        "The more dense an object is, the higher the absorption coefficient, $\\sigma$, which in turn means the more opaque the solid it when light passes through it. Although not directly applied to optics as of yet, this principle may help in the modelling of Rayleigh Scattering."
      ]
    },
    {
      "cell_type": "code",
      "source": [
        "# import modules\n",
        "import numpy as np\n",
        "import matplotlib.pyplot as plt\n",
        "from matplotlib.widgets import Slider, Button\n",
        "\n",
        "# \"constants\"\n",
        "distances = np.linspace(0, 10, 100)\n",
        "coeff = 0.55\n",
        "\n",
        "# T = e^(-distance * absorption coeffiecient)\n",
        "T = [np.exp((-i) * (coeff)) for i in distances]\n",
        "\n",
        "# plotting\n",
        "plt.plot(distances, T)\n",
        "plt.xlim(0, max(distances))\n",
        "plt.show()\n"
      ],
      "metadata": {
        "colab": {
          "base_uri": "https://localhost:8080/",
          "height": 430
        },
        "id": "SIDzeAdFMFQR",
        "outputId": "04998f6f-9bb6-4f15-a31f-a55c93f0546a"
      },
      "id": "SIDzeAdFMFQR",
      "execution_count": 8,
      "outputs": [
        {
          "output_type": "display_data",
          "data": {
            "text/plain": [
              "<Figure size 640x480 with 1 Axes>"
            ],
            "image/png": "[encoded data removed]"
          },
          "metadata": {}
        }
      ]
    },
    {
      "cell_type": "markdown",
      "source": [
        "1. apply the basic code of the vector thing that I was doing onto this\n",
        "2. do d.t. until I am tired or low on efficiency (then sleep)"
      ],
      "metadata": {
        "id": "KMUowDBg2l0J"
      },
      "id": "KMUowDBg2l0J"
    },
    {
      "cell_type": "code",
      "source": [
        "import numpy as np\n",
        "import matplotlib.pyplot as plt\n",
        "import ipywidgets as widgets\n",
        "from IPython.display import display\n",
        "\n",
        "# data\n",
        "distances = np.linspace(0, 10, 100)\n",
        "\n",
        "def plot_transmission(coeff=0.55):\n",
        "\n",
        "    # equation\n",
        "    T = np.exp(-distances * coeff)\n",
        "\n",
        "    # fig size controls aspect ratio\n",
        "    plt.figure(figsize=(10, 5))\n",
        "\n",
        "    plt.xlim(0, 10)\n",
        "    plt.ylim(0, 1)\n",
        "    plt.xlabel('Distance')\n",
        "    plt.ylabel('Transmission (T)')\n",
        "    plt.title(f'Exponential Decay: T = e^(-distance × {coeff:.2f})')\n",
        "\n",
        "    plt.grid(True, alpha=0.3)\n",
        "\n",
        "    plt.plot(distances, T, 'b-', linewidth=2)\n",
        "    plt.show()\n",
        "\n",
        "# Create interactive widget\n",
        "widgets.interactive(plot_transmission, coeff=(0.1, 10.0, 0.05))"
      ],
      "metadata": {
        "id": "Ny94P8ru6tKH",
        "outputId": "fac3a31d-3205-45a8-b2d1-17e61ab7fb55",
        "colab": {
          "base_uri": "https://localhost:8080/",
          "height": 519,
          "referenced_widgets": [
            "e60bcf2052ab457e9084be9f6d7586a2",
            "832cb73983bc49a9a25eae9fae086b4b",
            "995447cc5cec41cf91cf7c10876e02ee",
            "2f14af8f735b48c7b27407219bc631bf",
            "a2528b68c78a468e9fc4da89874ed5fa",
            "e8981889b3f040d5a66594acc5183118",
            "2679e62dfec7446888fe028667ab2136"
          ]
        }
      },
      "id": "Ny94P8ru6tKH",
      "execution_count": 19,
      "outputs": [
        {
          "output_type": "display_data",
          "data": {
            "text/plain": [
              "interactive(children=(FloatSlider(value=0.55, description='coeff', max=10.0, min=0.1, step=0.05), Output()), _…"
            ],
            "application/vnd.jupyter.widget-view+json": {
              "version_major": 2,
              "version_minor": 0,
              "model_id": "e60bcf2052ab457e9084be9f6d7586a2"
            }
          },
          "metadata": {}
        }
      ]
    }
  ],
  "metadata": {
    "kernelspec": {
      "display_name": "Python 3 (ipykernel)",
      "language": "python",
      "name": "python3"
    },
    "language_info": {
      "codemirror_mode": {
        "name": "ipython",
        "version": 3
      },
      "file_extension": ".py",
      "mimetype": "text/x-python",
      "name": "python",
      "nbconvert_exporter": "python",
      "pygments_lexer": "ipython3",
      "version": "3.12.1"
    },
    "colab": {
      "provenance": []
    },
    "widgets": {
      "application/vnd.jupyter.widget-state+json": {
        "e60bcf2052ab457e9084be9f6d7586a2": {
          "model_module": "@jupyter-widgets/controls",
          "model_name": "VBoxModel",
          "model_module_version": "1.5.0",
          "state": {
            "_dom_classes": [
              "widget-interact"
            ],
            "_model_module": "@jupyter-widgets/controls",
            "_model_module_version": "1.5.0",
            "_model_name": "VBoxModel",
            "_view_count": null,
            "_view_module": "@jupyter-widgets/controls",
            "_view_module_version": "1.5.0",
            "_view_name": "VBoxView",
            "box_style": "",
            "children": [
              "IPY_MODEL_832cb73983bc49a9a25eae9fae086b4b",
              "IPY_MODEL_995447cc5cec41cf91cf7c10876e02ee"
            ],
            "layout": "IPY_MODEL_2f14af8f735b48c7b27407219bc631bf"
          }
        },
        "832cb73983bc49a9a25eae9fae086b4b": {
          "model_module": "@jupyter-widgets/controls",
          "model_name": "FloatSliderModel",
          "model_module_version": "1.5.0",
          "state": {
            "_dom_classes": [],
            "_model_module": "@jupyter-widgets/controls",
            "_model_module_version": "1.5.0",
            "_model_name": "FloatSliderModel",
            "_view_count": null,
            "_view_module": "@jupyter-widgets/controls",
            "_view_module_version": "1.5.0",
            "_view_name": "FloatSliderView",
            "continuous_update": true,
            "description": "coeff",
            "description_tooltip": null,
            "disabled": false,
            "layout": "IPY_MODEL_a2528b68c78a468e9fc4da89874ed5fa",
            "max": 10,
            "min": 0.1,
            "orientation": "horizontal",
            "readout": true,
            "readout_format": ".2f",
            "step": 0.05,
            "style": "IPY_MODEL_e8981889b3f040d5a66594acc5183118",
            "value": 0.55
          }
        },
        "995447cc5cec41cf91cf7c10876e02ee": {
          "model_module": "@jupyter-widgets/output",
          "model_name": "OutputModel",
          "model_module_version": "1.0.0",
          "state": {
            "_dom_classes": [],
            "_model_module": "@jupyter-widgets/output",
            "_model_module_version": "1.0.0",
            "_model_name": "OutputModel",
            "_view_count": null,
            "_view_module": "@jupyter-widgets/output",
            "_view_module_version": "1.0.0",
            "_view_name": "OutputView",
            "layout": "IPY_MODEL_2679e62dfec7446888fe028667ab2136",
            "msg_id": "",
            "outputs": [
              {
                "output_type": "display_data",
                "data": {
                  "text/plain": "<Figure size 1000x500 with 1 Axes>",
                  "image/png": "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\n"
                },
                "metadata": {}
              }
            ]
          }
        },
        "2f14af8f735b48c7b27407219bc631bf": {
          "model_module": "@jupyter-widgets/base",
          "model_name": "LayoutModel",
          "model_module_version": "1.2.0",
          "state": {
            "_model_module": "@jupyter-widgets/base",
            "_model_module_version": "1.2.0",
            "_model_name": "LayoutModel",
            "_view_count": null,
            "_view_module": "@jupyter-widgets/base",
            "_view_module_version": "1.2.0",
            "_view_name": "LayoutView",
            "align_content": null,
            "align_items": null,
            "align_self": null,
            "border": null,
            "bottom": null,
            "display": null,
            "flex": null,
            "flex_flow": null,
            "grid_area": null,
            "grid_auto_columns": null,
            "grid_auto_flow": null,
            "grid_auto_rows": null,
            "grid_column": null,
            "grid_gap": null,
            "grid_row": null,
            "grid_template_areas": null,
            "grid_template_columns": null,
            "grid_template_rows": null,
            "height": null,
            "justify_content": null,
            "justify_items": null,
            "left": null,
            "margin": null,
            "max_height": null,
            "max_width": null,
            "min_height": null,
            "min_width": null,
            "object_fit": null,
            "object_position": null,
            "order": null,
            "overflow": null,
            "overflow_x": null,
            "overflow_y": null,
            "padding": null,
            "right": null,
            "top": null,
            "visibility": null,
            "width": null
          }
        },
        "a2528b68c78a468e9fc4da89874ed5fa": {
          "model_module": "@jupyter-widgets/base",
          "model_name": "LayoutModel",
          "model_module_version": "1.2.0",
          "state": {
            "_model_module": "@jupyter-widgets/base",
            "_model_module_version": "1.2.0",
            "_model_name": "LayoutModel",
            "_view_count": null,
            "_view_module": "@jupyter-widgets/base",
            "_view_module_version": "1.2.0",
            "_view_name": "LayoutView",
            "align_content": null,
            "align_items": null,
            "align_self": null,
            "border": null,
            "bottom": null,
            "display": null,
            "flex": null,
            "flex_flow": null,
            "grid_area": null,
            "grid_auto_columns": null,
            "grid_auto_flow": null,
            "grid_auto_rows": null,
            "grid_column": null,
            "grid_gap": null,
            "grid_row": null,
            "grid_template_areas": null,
            "grid_template_columns": null,
            "grid_template_rows": null,
            "height": null,
            "justify_content": null,
            "justify_items": null,
            "left": null,
            "margin": null,
            "max_height": null,
            "max_width": null,
            "min_height": null,
            "min_width": null,
            "object_fit": null,
            "object_position": null,
            "order": null,
            "overflow": null,
            "overflow_x": null,
            "overflow_y": null,
            "padding": null,
            "right": null,
            "top": null,
            "visibility": null,
            "width": null
          }
        },
        "e8981889b3f040d5a66594acc5183118": {
          "model_module": "@jupyter-widgets/controls",
          "model_name": "SliderStyleModel",
          "model_module_version": "1.5.0",
          "state": {
            "_model_module": "@jupyter-widgets/controls",
            "_model_module_version": "1.5.0",
            "_model_name": "SliderStyleModel",
            "_view_count": null,
            "_view_module": "@jupyter-widgets/base",
            "_view_module_version": "1.2.0",
            "_view_name": "StyleView",
            "description_width": "",
            "handle_color": null
          }
        },
        "2679e62dfec7446888fe028667ab2136": {
          "model_module": "@jupyter-widgets/base",
          "model_name": "LayoutModel",
          "model_module_version": "1.2.0",
          "state": {
            "_model_module": "@jupyter-widgets/base",
            "_model_module_version": "1.2.0",
            "_model_name": "LayoutModel",
            "_view_count": null,
            "_view_module": "@jupyter-widgets/base",
            "_view_module_version": "1.2.0",
            "_view_name": "LayoutView",
            "align_content": null,
            "align_items": null,
            "align_self": null,
            "border": null,
            "bottom": null,
            "display": null,
            "flex": null,
            "flex_flow": null,
            "grid_area": null,
            "grid_auto_columns": null,
            "grid_auto_flow": null,
            "grid_auto_rows": null,
            "grid_column": null,
            "grid_gap": null,
            "grid_row": null,
            "grid_template_areas": null,
            "grid_template_columns": null,
            "grid_template_rows": null,
            "height": null,
            "justify_content": null,
            "justify_items": null,
            "left": null,
            "margin": null,
            "max_height": null,
            "max_width": null,
            "min_height": null,
            "min_width": null,
            "object_fit": null,
            "object_position": null,
            "order": null,
            "overflow": null,
            "overflow_x": null,
            "overflow_y": null,
            "padding": null,
            "right": null,
            "top": null,
            "visibility": null,
            "width": null
          }
        }
      }
    }
  },
  "nbformat": 4,
  "nbformat_minor": 5
}
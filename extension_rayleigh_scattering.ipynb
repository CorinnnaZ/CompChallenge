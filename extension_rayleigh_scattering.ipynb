{
 "cells": [
  {
   "cell_type": "markdown",
   "id": "4143b92a",
   "metadata": {},
   "source": [
    "# Extension: Rayleigh Scattering\n",
    "*Why is the sky blue? Why is this important?*\n",
    "\n"
   ]
  },
  {
   "cell_type": "markdown",
   "id": "90f8a238",
   "metadata": {},
   "source": [
    "## Overview\n",
    "\n",
    "#### Direction\n",
    "*This is the current trajectory of completing this*\n",
    "\n",
    "- Follow *Scratch-A-Pixel*'s tutorial on volume rendering and apply to Python\n",
    "- Follow their tutorial on \"procedural generation of virtual worlds\" and hope that Python is sufficient\n",
    "- Read more in-depth about Rayleigh Scattering and develop how I want this to progress\n",
    "\n",
    "#### Resources\n",
    "https://youtu.be/NuDhD6-4ZQI?si=kuyAbs2qCtaZTa50\n",
    "https://www.scratchapixel.com/lessons/procedural-generation-virtual-worlds/simulating-sky/simulating-colors-of-the-sky.html\n",
    "https://dl.acm.org/doi/pdf/10.1145/166117.166140\n",
    "https://www.scratchapixel.com/lessons/3d-basic-rendering/volume-rendering-for-developers/intro-volume-rendering.html"
   ]
  }
 ],
 "metadata": {
  "language_info": {
   "name": "python"
  }
 },
 "nbformat": 4,
 "nbformat_minor": 5
}

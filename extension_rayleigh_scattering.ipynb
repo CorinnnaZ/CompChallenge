{
 "cells": [
  {
   "cell_type": "markdown",
   "id": "ee1c6d08",
   "metadata": {},
   "source": [
    "# Extension: Rayleigh Scattering\n",
    "*Why is the sky blue? Why is this important?*"
   ]
  },
  {
   "cell_type": "markdown",
   "id": "d83abef1",
   "metadata": {},
   "source": [
    "## Overview\n",
    "\n",
    "#### Direction\n",
    "*This is the current trajectory of completing this*\n",
    "\n",
    "- Follow *Scratch-A-Pixel*'s tutorial on volume rendering and apply to Python\n",
    "- Follow their tutorial on \"procedural generation of virtual worlds\" and hope that Python is sufficient \n",
    "- Read more in-depth about Rayleigh Scattering and develop how I want this to progress\n",
    "\n",
    "#### Resources\n",
    "https://youtu.be/NuDhD6-4ZQI?si=kuyAbs2qCtaZTa50\n",
    "https://www.scratchapixel.com/lessons/procedural-generation-virtual-worlds/simulating-sky/simulating-colors-of-the-sky.html\n",
    "https://dl.acm.org/doi/pdf/10.1145/166117.166140\n",
    "https://www.scratchapixel.com/lessons/3d-basic-rendering/volume-rendering-for-developers/intro-volume-rendering.html"
   ]
  },
  {
   "cell_type": "markdown",
   "id": "8ce4ca8a",
   "metadata": {},
   "source": [
    "## Intention For Model\n",
    "*I intend to produce two/three agent based models (ABMs) of the interaction of light with particles in the atmosphere with respect to (wrt) the optical phenomenon that occurs.*\n",
    "\n",
    "#### Particle Animation\n",
    "A simple model showing how blue light scatters but longer wavelengths of light more easily reach the surface of Earth. A corresponding explanation of this can be written up (should be written up beforehand) to explore this.\n",
    "\n",
    "#### Atmospheric Gradient\n",
    "- Using the results of the earlier models, I would like to simulate the \"true\" colour of the atmosphere (stating/approximating the uncertainties that derived from me not - for example - considering Mei Scattering or using more specific modelling effects) with the Rayleigh Scattering model. To produce my intended gradient of the atmosphere, I assume that I will be using Monte Carlo approximations and will demonstrate how the simple rules (likely 3 or 4 equations) produce the colour of our atmosphere."
   ]
  },
  {
   "cell_type": "markdown",
   "id": "d0661552",
   "metadata": {},
   "source": [
    "# Contextual Understanding\n",
    "*There are few resources that I have to understand initially before progressing onto this*"
   ]
  },
  {
   "cell_type": "code",
   "execution_count": null,
   "id": "4d719399",
   "metadata": {},
   "outputs": [
    {
     "ename": "ModuleNotFoundError",
     "evalue": "No module named 'pyHoloGen'",
     "output_type": "error",
     "traceback": [
      "\u001b[31m---------------------------------------------------------------------------\u001b[39m",
      "\u001b[31mModuleNotFoundError\u001b[39m                       Traceback (most recent call last)",
      "\u001b[36mCell\u001b[39m\u001b[36m \u001b[39m\u001b[32mIn[2]\u001b[39m\u001b[32m, line 25\u001b[39m\n\u001b[32m     23\u001b[39m \u001b[38;5;28;01mimport\u001b[39;00m\u001b[38;5;250m \u001b[39m\u001b[34;01mnumpy\u001b[39;00m\u001b[38;5;250m \u001b[39m\u001b[38;5;28;01mas\u001b[39;00m\u001b[38;5;250m \u001b[39m\u001b[34;01mnp\u001b[39;00m\n\u001b[32m     24\u001b[39m \u001b[38;5;28;01mimport\u001b[39;00m\u001b[38;5;250m \u001b[39m\u001b[34;01mmatplotlib\u001b[39;00m\u001b[34;01m.\u001b[39;00m\u001b[34;01mpyplot\u001b[39;00m\u001b[38;5;250m \u001b[39m\u001b[38;5;28;01mas\u001b[39;00m\u001b[38;5;250m \u001b[39m\u001b[34;01mplt\u001b[39;00m\n\u001b[32m---> \u001b[39m\u001b[32m25\u001b[39m \u001b[38;5;28;01mfrom\u001b[39;00m\u001b[38;5;250m \u001b[39m\u001b[34;01mpyHoloGen\u001b[39;00m\u001b[38;5;250m \u001b[39m\u001b[38;5;28;01mimport\u001b[39;00m calculate_hologram\n\u001b[32m     27\u001b[39m \u001b[38;5;66;03m# Output resolution of hologram below in dpi. For printing on \u001b[39;00m\n\u001b[32m     28\u001b[39m \u001b[38;5;66;03m# transparencies, hopefully, your printer can support at least \u001b[39;00m\n\u001b[32m     29\u001b[39m \u001b[38;5;66;03m# 1200x600dpi. By that, I mean it should REALLY have that resolution. \u001b[39;00m\n\u001b[32m   (...)\u001b[39m\u001b[32m     41\u001b[39m \u001b[38;5;66;03m# dpi=5000 also works well, but you start seeing artifacts with a red \u001b[39;00m\n\u001b[32m     42\u001b[39m \u001b[38;5;66;03m# laser, though not so much with green.\u001b[39;00m\n\u001b[32m     44\u001b[39m dpi_x=\u001b[32m4000\u001b[39m\n",
      "\u001b[31mModuleNotFoundError\u001b[39m: No module named 'pyHoloGen'"
     ]
    }
   ],
   "source": []
  }
 ],
 "metadata": {
  "kernelspec": {
   "display_name": "Python 3 (ipykernel)",
   "language": "python",
   "name": "python3"
  },
  "language_info": {
   "codemirror_mode": {
    "name": "ipython",
    "version": 3
   },
   "file_extension": ".py",
   "mimetype": "text/x-python",
   "name": "python",
   "nbconvert_exporter": "python",
   "pygments_lexer": "ipython3",
   "version": "3.12.1"
  }
 },
 "nbformat": 4,
 "nbformat_minor": 5
}

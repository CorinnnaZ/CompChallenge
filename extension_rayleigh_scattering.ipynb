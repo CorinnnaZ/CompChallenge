{
  "cells": [
    {
      "cell_type": "markdown",
      "id": "ee1c6d08",
      "metadata": {
        "id": "ee1c6d08"
      },
      "source": [
        "# Extension: Rayleigh Scattering\n",
        "*Why is the sky blue? Why is this important?*"
      ]
    },
    {
      "cell_type": "markdown",
      "id": "d83abef1",
      "metadata": {
        "id": "d83abef1"
      },
      "source": [
        "## Overview\n",
        "\n",
        "#### Direction\n",
        "*This is the current trajectory of completing this*\n",
        "\n",
        "- Follow *Scratch-A-Pixel*'s tutorial on volume rendering and apply to Python\n",
        "- Follow their tutorial on \"procedural generation of virtual worlds\" and hope that Python is sufficient\n",
        "- Read more in-depth about Rayleigh Scattering and develop how I want this to progress\n",
        "\n",
        "#### Resources\n",
        "https://youtu.be/NuDhD6-4ZQI?si=kuyAbs2qCtaZTa50\n",
        "https://www.scratchapixel.com/lessons/procedural-generation-virtual-worlds/simulating-sky/simulating-colors-of-the-sky.html\n",
        "https://dl.acm.org/doi/pdf/10.1145/166117.166140\n",
        "https://www.scratchapixel.com/lessons/3d-basic-rendering/volume-rendering-for-developers/intro-volume-rendering.html"
      ]
    },
    {
      "cell_type": "markdown",
      "id": "8ce4ca8a",
      "metadata": {
        "id": "8ce4ca8a"
      },
      "source": [
        "## Intention For Model\n",
        "*I intend to produce two/three agent based models (ABMs) of the interaction of light with particles in the atmosphere with respect to (wrt) the optical phenomenon that occurs.*\n",
        "\n",
        "#### Particle Animation\n",
        "A simple model showing how blue light scatters but longer wavelengths of light more easily reach the surface of Earth. A corresponding explanation of this can be written up (should be written up beforehand) to explore this.\n",
        "\n",
        "#### Atmospheric Gradient\n",
        "- Using the results of the earlier models, I would like to simulate the \"true\" colour of the atmosphere (stating/approximating the uncertainties that derived from me not - for example - considering Mei Scattering or using more specific modelling effects) with the Rayleigh Scattering model. To produce my intended gradient of the atmosphere, I assume that I will be using Monte Carlo approximations and will demonstrate how the simple rules (likely 3 or 4 equations) produce the colour of our atmosphere."
      ]
    },
    {
      "cell_type": "markdown",
      "id": "d0661552",
      "metadata": {
        "id": "d0661552"
      },
      "source": [
        "# Contextual Understanding\n",
        "*There are few resources that I have to understand initially before progressing onto this*"
      ]
    },
    {
      "cell_type": "code",
      "source": [
        "print(8*777)"
      ],
      "metadata": {
        "id": "SIDzeAdFMFQR",
        "outputId": "6c7b5396-0359-4673-89b5-25b8d9afb910",
        "colab": {
          "base_uri": "https://localhost:8080/"
        }
      },
      "id": "SIDzeAdFMFQR",
      "execution_count": 2,
      "outputs": [
        {
          "output_type": "stream",
          "name": "stdout",
          "text": [
            "6216\n"
          ]
        }
      ]
    },
    {
      "cell_type": "markdown",
      "source": [
        "1. apply the basic code of the vector thing that I was doing onto this\n",
        "2. do d.t. until I am tired or low on efficiency (then sleep)"
      ],
      "metadata": {
        "id": "KMUowDBg2l0J"
      },
      "id": "KMUowDBg2l0J"
    }
  ],
  "metadata": {
    "kernelspec": {
      "display_name": "Python 3 (ipykernel)",
      "language": "python",
      "name": "python3"
    },
    "language_info": {
      "codemirror_mode": {
        "name": "ipython",
        "version": 3
      },
      "file_extension": ".py",
      "mimetype": "text/x-python",
      "name": "python",
      "nbconvert_exporter": "python",
      "pygments_lexer": "ipython3",
      "version": "3.12.1"
    },
    "colab": {
      "provenance": []
    }
  },
  "nbformat": 4,
  "nbformat_minor": 5
}
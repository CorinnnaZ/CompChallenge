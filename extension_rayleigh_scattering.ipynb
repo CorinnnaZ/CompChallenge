{
  "cells": [
    {
      "cell_type": "markdown",
      "id": "ee1c6d08",
      "metadata": {
        "id": "ee1c6d08"
      },
      "source": [
        "# Extension: Rayleigh Scattering\n",
        "*Why is the sky blue? Why is this important?*"
      ]
    },
    {
      "cell_type": "markdown",
      "id": "d83abef1",
      "metadata": {
        "id": "d83abef1"
      },
      "source": [
        "## Overview\n",
        "\n",
        "#### Direction\n",
        "*This is the current trajectory of completing this*\n",
        "\n",
        "- Follow *Scratch-A-Pixel*'s tutorial on volume rendering and apply to Python\n",
        "- Follow their tutorial on \"procedural generation of virtual worlds\" and hope that Python is sufficient\n",
        "- Read more in-depth about Rayleigh Scattering and develop how I want this to progress\n",
        "\n",
        "#### Resources\n",
        "https://youtu.be/NuDhD6-4ZQI?si=kuyAbs2qCtaZTa50\n",
        "https://www.scratchapixel.com/lessons/procedural-generation-virtual-worlds/simulating-sky/simulating-colors-of-the-sky.html\n",
        "https://dl.acm.org/doi/pdf/10.1145/166117.166140\n",
        "https://www.scratchapixel.com/lessons/3d-basic-rendering/volume-rendering-for-developers/intro-volume-rendering.html"
      ]
    },
    {
      "cell_type": "markdown",
      "id": "8ce4ca8a",
      "metadata": {
        "id": "8ce4ca8a"
      },
      "source": [
        "## Intention For Model\n",
        "*I intend to produce two/three agent based models (ABMs) of the interaction of light with particles in the atmosphere with respect to (wrt) the optical phenomenon that occurs.*\n",
        "\n",
        "#### Particle Animation\n",
        "A simple model showing how blue light scatters but longer wavelengths of light more easily reach the surface of Earth. A corresponding explanation of this can be written up (should be written up beforehand) to explore this.\n",
        "\n",
        "#### Atmospheric Gradient\n",
        "- Using the results of the earlier models, I would like to simulate the \"true\" colour of the atmosphere (stating/approximating the uncertainties that derived from me not - for example - considering Mei Scattering or using more specific modelling effects) with the Rayleigh Scattering model. To produce my intended gradient of the atmosphere, I assume that I will be using Monte Carlo approximations and will demonstrate how the simple rules (likely 3 or 4 equations) produce the colour of our atmosphere."
      ]
    },
    {
      "cell_type": "markdown",
      "id": "d0661552",
      "metadata": {
        "id": "d0661552"
      },
      "source": [
        "# Contextual Understanding\n",
        "*There are few resources that I have to understand initially before progressing onto this*\n",
        "\n",
        "**Beer-Lambert Equation:**\n",
        "The more dense an object is, the higher the absorption coefficient, $\\sigma$, which in turn means the more opaque the solid it when light passes through it. Although not directly applied to optics as of yet, this principle may help in the modelling of Rayleigh Scattering."
      ]
    },
    {
      "cell_type": "code",
      "source": [
        "# import modules\n",
        "import numpy as np\n",
        "import matplotlib.pyplot as plt\n",
        "from matplotlib.widgets import Slider, Button\n",
        "\n",
        "# \"constants\"\n",
        "distances = np.linspace(0, 10, 100)\n",
        "coeff = 0.55\n",
        "\n",
        "# T = e^(-distance * absorption coeffiecient)\n",
        "T = [np.exp((-i) * (coeff)) for i in distances]\n",
        "\n",
        "# plotting\n",
        "plt.plot(distances, T)\n",
        "plt.xlim(0, max(distances))\n",
        "plt.show()\n"
      ],
      "metadata": {
        "colab": {
          "base_uri": "https://localhost:8080/",
          "height": 430
        },
        "id": "SIDzeAdFMFQR",
        "outputId": "04998f6f-9bb6-4f15-a31f-a55c93f0546a"
      },
      "id": "SIDzeAdFMFQR",
      "execution_count": 8,
      "outputs": [
        {
          "output_type": "display_data",
          "data": {
            "text/plain": [
              "<Figure size 640x480 with 1 Axes>"
            ],
            "image/png": "[encoded data removed]"
          },
          "metadata": {}
        }
      ]
    },
    {
      "cell_type": "markdown",
      "source": [
        "1. apply the basic code of the vector thing that I was doing onto this\n",
        "2. do d.t. until I am tired or low on efficiency (then sleep)"
      ],
      "metadata": {
        "id": "KMUowDBg2l0J"
      },
      "id": "KMUowDBg2l0J"
    },
    {
      "cell_type": "code",
      "source": [
        "import numpy as np\n",
        "import matplotlib.pyplot as plt\n",
        "import ipywidgets as widgets\n",
        "from IPython.display import display\n",
        "\n",
        "# data\n",
        "distances = np.linspace(0, 10, 100)\n",
        "\n",
        "def plot_transmission(coeff=0.55):\n",
        "\n",
        "    # equation\n",
        "    T = np.exp(-distances * coeff)\n",
        "\n",
        "    # fig size controls aspect ratio\n",
        "    plt.figure(figsize=(10, 5))\n",
        "\n",
        "    plt.xlim(0, 10)\n",
        "    plt.ylim(0, 1)\n",
        "    plt.xlabel('Distance')\n",
        "    plt.ylabel('Transmission (T)')\n",
        "    plt.title(f'Exponential Decay: T = e^(-distance × {coeff:.2f})')\n",
        "\n",
        "    plt.grid(True, alpha=0.3)\n",
        "\n",
        "    plt.plot(distances, T, 'b-', linewidth=2)\n",
        "    plt.show()\n",
        "\n",
        "# Create interactive widget\n",
        "widgets.interactive(plot_transmission, coeff=(0.1, 10.0, 0.05))"
      ],
      "metadata": {
        "id": "Ny94P8ru6tKH"
      },
      "id": "Ny94P8ru6tKH",
      "execution_count": null,
      "outputs": []
    },
    {
      "cell_type": "markdown",
      "source": [
        "## Latter Intentions:\n",
        "As I progress, it is better if I have clear intentions on how I want to progress:\n",
        "\n",
        "- Go through these documents relatively slowly for the next 5 days whilst I complete all of my tasks and include interactive elements (that cannot be rendered inside of GitHub, which is fun)\n",
        "- Develop some abstracted models of my intention (2D ABM of white light refracting in a cloud chamber will be a good start - can have a large number, $N$, of rays that will refract when interacting with the white light and the direction of the rays can form a vector field or something as a first kind of goal)\n",
        "- Then focus on the underlying physics equations of Rayleigh Scattering and apply that (in a focused way) to Geometric Optics. **Note: Rayleigh Scattering is wave optics, but cloud chambers can be modelled with geometric optics, so I can just shift the focus onto that, no harm done**"
      ],
      "metadata": {
        "id": "wwU6EmLp-VWj"
      },
      "id": "wwU6EmLp-VWj"
    }
  ],
  "metadata": {
    "kernelspec": {
      "display_name": "Python 3 (ipykernel)",
      "language": "python",
      "name": "python3"
    },
    "language_info": {
      "codemirror_mode": {
        "name": "ipython",
        "version": 3
      },
      "file_extension": ".py",
      "mimetype": "text/x-python",
      "name": "python",
      "nbconvert_exporter": "python",
      "pygments_lexer": "ipython3",
      "version": "3.12.1"
    },
    "colab": {
      "provenance": []
    }
  },
  "nbformat": 4,
  "nbformat_minor": 5
}
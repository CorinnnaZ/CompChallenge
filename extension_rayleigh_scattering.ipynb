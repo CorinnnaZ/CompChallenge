{
  "cells": [
    {
      "cell_type": "markdown",
      "id": "ee1c6d08",
      "metadata": {
        "id": "ee1c6d08"
      },
      "source": [
        "# Extension: Rayleigh Scattering\n",
        "*Why is the sky blue? Why is this important?*"
      ]
    },
    {
      "cell_type": "markdown",
      "id": "d83abef1",
      "metadata": {
        "id": "d83abef1"
      },
      "source": [
        "## Overview\n",
        "\n",
        "#### Direction\n",
        "*This is the current trajectory of completing this*\n",
        "\n",
        "- Follow *Scratch-A-Pixel*'s tutorial on volume rendering and apply to Python\n",
        "- Follow their tutorial on \"procedural generation of virtual worlds\" and hope that Python is sufficient\n",
        "- Read more in-depth about Rayleigh Scattering and develop how I want this to progress\n",
        "\n",
        "#### Resources\n",
        "https://youtu.be/NuDhD6-4ZQI?si=kuyAbs2qCtaZTa50\n",
        "https://www.scratchapixel.com/lessons/procedural-generation-virtual-worlds/simulating-sky/simulating-colors-of-the-sky.html\n",
        "https://dl.acm.org/doi/pdf/10.1145/166117.166140\n",
        "https://www.scratchapixel.com/lessons/3d-basic-rendering/volume-rendering-for-developers/intro-volume-rendering.html"
      ]
    },
    {
      "cell_type": "markdown",
      "id": "8ce4ca8a",
      "metadata": {
        "id": "8ce4ca8a"
      },
      "source": [
        "## Intention For Model\n",
        "*I intend to produce two/three agent based models (ABMs) of the interaction of light with particles in the atmosphere with respect to (wrt) the optical phenomenon that occurs.*\n",
        "\n",
        "#### Particle Animation\n",
        "A simple model showing how blue light scatters but longer wavelengths of light more easily reach the surface of Earth. A corresponding explanation of this can be written up (should be written up beforehand) to explore this.\n",
        "\n",
        "#### Atmospheric Gradient\n",
        "- Using the results of the earlier models, I would like to simulate the \"true\" colour of the atmosphere (stating/approximating the uncertainties that derived from me not - for example - considering Mei Scattering or using more specific modelling effects) with the Rayleigh Scattering model. To produce my intended gradient of the atmosphere, I assume that I will be using Monte Carlo approximations and will demonstrate how the simple rules (likely 3 or 4 equations) produce the colour of our atmosphere."
      ]
    },
    {
      "cell_type": "markdown",
      "id": "d0661552",
      "metadata": {
        "id": "d0661552"
      },
      "source": [
        "# Contextual Understanding\n",
        "*There are few resources that I have to understand initially before progressing onto this*\n",
        "\n",
        "**Beer-Lambert Equation:**\n",
        "The more dense an object is, the higher the absorption coefficient, $\\sigma$, which in turn means the more opaque the solid it when light passes through it. Although not directly applied to optics as of yet, this principle may help in the modelling of Rayleigh Scattering."
      ]
    },
    {
      "cell_type": "code",
      "source": [
        "# import modules\n",
        "import numpy as np\n",
        "import matplotlib.pyplot as plt\n",
        "from matplotlib.widgets import Slider, Button\n",
        "\n",
        "# \"constants\"\n",
        "distances = np.linspace(0, 10, 100)\n",
        "coeff = 0.55\n",
        "\n",
        "# T = e^(-distance * absorption coeffiecient)\n",
        "T = [np.exp((-i) * (coeff)) for i in distances]\n",
        "\n",
        "# plotting\n",
        "plt.plot(distances, T)\n",
        "plt.xlim(0, max(distances))\n",
        "plt.show()\n"
      ],
      "metadata": {
        "colab": {
          "base_uri": "https://localhost:8080/",
          "height": 430
        },
        "id": "SIDzeAdFMFQR",
        "outputId": "04998f6f-9bb6-4f15-a31f-a55c93f0546a"
      },
      "id": "SIDzeAdFMFQR",
      "execution_count": null,
      "outputs": [
        {
          "output_type": "display_data",
          "data": {
            "text/plain": [
              "<Figure size 640x480 with 1 Axes>"
            ],
            "image/png": "[encoded data removed]"
          },
          "metadata": {}
        }
      ]
    },
    {
      "cell_type": "markdown",
      "source": [
        "1. apply the basic code of the vector thing that I was doing onto this\n",
        "2. do d.t. until I am tired or low on efficiency (then sleep)"
      ],
      "metadata": {
        "id": "KMUowDBg2l0J"
      },
      "id": "KMUowDBg2l0J"
    },
    {
      "cell_type": "code",
      "source": [
        "import numpy as np\n",
        "import matplotlib.pyplot as plt\n",
        "import ipywidgets as widgets\n",
        "from IPython.display import display\n",
        "\n",
        "# data\n",
        "distances = np.linspace(0, 10, 100)\n",
        "\n",
        "def plot_transmission(coeff=0.55):\n",
        "\n",
        "    # equation\n",
        "    T = np.exp(-distances * coeff)\n",
        "\n",
        "    # fig size controls aspect ratio\n",
        "    plt.figure(figsize=(10, 5))\n",
        "\n",
        "    plt.xlim(0, 10)\n",
        "    plt.ylim(0, 1)\n",
        "    plt.xlabel('Distance')\n",
        "    plt.ylabel('Transmission (T)')\n",
        "    plt.title(f'Exponential Decay: T = e^(-distance × {coeff:.2f})')\n",
        "\n",
        "    plt.grid(True, alpha=0.3)\n",
        "\n",
        "    plt.plot(distances, T, 'b-', linewidth=2)\n",
        "    plt.show()\n",
        "\n",
        "# Create interactive widget\n",
        "widgets.interactive(plot_transmission, coeff=(0.1, 10.0, 0.05))"
      ],
      "metadata": {
        "id": "Ny94P8ru6tKH",
        "colab": {
          "base_uri": "https://localhost:8080/",
          "height": 395,
          "referenced_widgets": [
            "b26c42b6f0274c6e97a5d9c4748c4b16",
            "25ccf14b3a6f45e19f44a0c2340c0384",
            "1be23374894c493e8b5517608bec147f",
            "adb01073dd174779a6f8775e81459bab",
            "773a66bfbd21470e9f88076bb36f918b",
            "d620e50cfeee421bb640532dc2dcf2e9",
            "ceb3498315cd403db0a30757bc22a800"
          ]
        },
        "outputId": "5760ff43-03c3-4808-eb03-89f801fd990b"
      },
      "id": "Ny94P8ru6tKH",
      "execution_count": 1,
      "outputs": [
        {
          "output_type": "display_data",
          "data": {
            "text/plain": [
              "interactive(children=(FloatSlider(value=0.55, description='coeff', max=10.0, min=0.1, step=0.05), Output()), _…"
            ],
            "application/vnd.jupyter.widget-view+json": {
              "version_major": 2,
              "version_minor": 0,
              "model_id": "b26c42b6f0274c6e97a5d9c4748c4b16"
            }
          },
          "metadata": {}
        }
      ]
    },
    {
      "cell_type": "markdown",
      "source": [
        "## Latter Intentions:\n",
        "As I progress, it is better if I have clear intentions on how I want to progress:\n",
        "\n",
        "- Go through these documents relatively slowly for the next 5 days whilst I complete all of my tasks and include interactive elements (that cannot be rendered inside of GitHub, which is fun)\n",
        "- Develop some abstracted models of my intention (2D ABM of white light refracting in a cloud chamber will be a good start - can have a large number, $N$, of rays that will refract when interacting with the white light and the direction of the rays can form a vector field or something as a first kind of goal)\n",
        "- Then focus on the underlying physics equations of Rayleigh Scattering and apply that (in a focused way) to Geometric Optics. **Note: Rayleigh Scattering is wave optics, but cloud chambers can be modelled with geometric optics, so I can just shift the focus onto that, no harm done**"
      ],
      "metadata": {
        "id": "wwU6EmLp-VWj"
      },
      "id": "wwU6EmLp-VWj"
    }
  ],
  "metadata": {
    "kernelspec": {
      "display_name": "Python 3 (ipykernel)",
      "language": "python",
      "name": "python3"
    },
    "language_info": {
      "codemirror_mode": {
        "name": "ipython",
        "version": 3
      },
      "file_extension": ".py",
      "mimetype": "text/x-python",
      "name": "python",
      "nbconvert_exporter": "python",
      "pygments_lexer": "ipython3",
      "version": "3.12.1"
    },
    "colab": {
      "provenance": []
    },
    "widgets": {
      "application/vnd.jupyter.widget-state+json": {
        "b26c42b6f0274c6e97a5d9c4748c4b16": {
          "model_module": "@jupyter-widgets/controls",
          "model_name": "VBoxModel",
          "model_module_version": "1.5.0",
          "state": {
            "_dom_classes": [
              "widget-interact"
            ],
            "_model_module": "@jupyter-widgets/controls",
            "_model_module_version": "1.5.0",
            "_model_name": "VBoxModel",
            "_view_count": null,
            "_view_module": "@jupyter-widgets/controls",
            "_view_module_version": "1.5.0",
            "_view_name": "VBoxView",
            "box_style": "",
            "children": [
              "IPY_MODEL_25ccf14b3a6f45e19f44a0c2340c0384",
              "IPY_MODEL_1be23374894c493e8b5517608bec147f"
            ],
            "layout": "IPY_MODEL_adb01073dd174779a6f8775e81459bab"
          }
        },
        "25ccf14b3a6f45e19f44a0c2340c0384": {
          "model_module": "@jupyter-widgets/controls",
          "model_name": "FloatSliderModel",
          "model_module_version": "1.5.0",
          "state": {
            "_dom_classes": [],
            "_model_module": "@jupyter-widgets/controls",
            "_model_module_version": "1.5.0",
            "_model_name": "FloatSliderModel",
            "_view_count": null,
            "_view_module": "@jupyter-widgets/controls",
            "_view_module_version": "1.5.0",
            "_view_name": "FloatSliderView",
            "continuous_update": true,
            "description": "coeff",
            "description_tooltip": null,
            "disabled": false,
            "layout": "IPY_MODEL_773a66bfbd21470e9f88076bb36f918b",
            "max": 10,
            "min": 0.1,
            "orientation": "horizontal",
            "readout": true,
            "readout_format": ".2f",
            "step": 0.05,
            "style": "IPY_MODEL_d620e50cfeee421bb640532dc2dcf2e9",
            "value": 1.75
          }
        },
        "1be23374894c493e8b5517608bec147f": {
          "model_module": "@jupyter-widgets/output",
          "model_name": "OutputModel",
          "model_module_version": "1.0.0",
          "state": {
            "_dom_classes": [],
            "_model_module": "@jupyter-widgets/output",
            "_model_module_version": "1.0.0",
            "_model_name": "OutputModel",
            "_view_count": null,
            "_view_module": "@jupyter-widgets/output",
            "_view_module_version": "1.0.0",
            "_view_name": "OutputView",
            "layout": "IPY_MODEL_ceb3498315cd403db0a30757bc22a800",
            "msg_id": "",
            "outputs": [
              {
                "output_type": "display_data",
                "data": {
                  "text/plain": "<Figure size 1000x500 with 1 Axes>",
                  "image/png": "iVBORw0KGgoAAAANSUhEUgAAA1cAAAHWCAYAAACbsXOkAAAAOnRFWHRTb2Z0d2FyZQBNYXRwbG90bGliIHZlcnNpb24zLjEwLjAsIGh0dHBzOi8vbWF0cGxvdGxpYi5vcmcvlHJYcgAAAAlwSFlzAAAPYQAAD2EBqD+naQAAXt9JREFUeJzt3Xd4FFXfxvF7E1LoBEMKEAi9SK8CIqD07iOCyGMAX1FUpEQFQQEBFUFFQFAECyrygGABG1WwovQmTamKhICQBIIkkJ33jzEblhSSzSaTbL6f65orZ2ZnZn+7nIg3Z+aMzTAMQwAAAACAbPGyugAAAAAA8ASEKwAAAABwA8IVAAAAALgB4QoAAAAA3IBwBQAAAABuQLgCAAAAADcgXAEAAACAGxCuAAAAAMANCFcAAAAA4AaEKwBws7Zt26pt27YuHWuz2fTss8+6tR7kX9OnT1fNmjVlt9tdOn7jxo2y2WzauHGjY9ugQYMUHh7ungKRJz311FNq3ry51WUABRLhCkCaFi5cKJvNlu7y888/W12ipfbt26dnn31Wx44dy/X3PnbsmNOfhY+PjwIDA9WyZUuNGzdOJ06cyPWaclrbtm0z7I/JS14Ppjt27FDx4sXl5eWljz76KMN94+LiNG3aNI0ZM0ZeXtb+dW1lf8/rLl68qIkTJ6pz584qXbq0bDabFi5cmOnjM+rbPj4+TvuGh4enud/QoUOd9hs5cqR27dqllStXuuMjAsiCQlYXACBvmzx5sipVqpRqe9WqVS2oJu/Yt2+fJk2apLZt26YaBVizZk2u1NC/f3917dpVdrtd58+f15YtWzRz5kzNmjVLb7/9tu65555cqSM3PP3003rggQcc61u2bNHs2bM1btw41apVy7G9Xr16VpSXKcePH1e3bt1UokQJVa9eXREREQoNDVXr1q3T3P+dd97R1atX1b9/f7fWsWDBgiyPhGXU3wu6s2fPavLkyapQoYLq16/vNEqYGdf3bUmKj4/X0KFD1bFjx1T7N2jQQI8//rjTturVqzuth4SEqFevXnr55ZfVs2fPLNUDIHsIVwAy1KVLFzVp0sTqMvIVX1/fXHmfRo0a6b///a/TtuPHj6tjx44aOHCgatWqpfr16+dKLTmtQ4cOTuv+/v6aPXu2OnTo4PIlmLnp/Pnz6tKli7y8vLRx40YFBgaqQ4cO6tWrl3766SfVrFkz1THvvvuuevbsKX9/f7fWcv1oSEF17NgxHT58WHfccUear7/77ruKiIiQt7d3hucJDQ3VqVOnFBISoq1bt6pp06ZZquP6vi1JixYtkiQNGDAg1WvlypVL9Xuflr59++ruu+/WkSNHVLly5SzVBMB1XBYIIFsmTpwoLy8vrV+/3mn7gw8+KF9fX+3atUtSyr0fS5cu1bhx4xQSEqKiRYuqZ8+e+uOPP1Kdd9myZWrcuLEKFy6swMBA/fe//9XJkyed9hk0aJCKFSumkydPqnfv3ipWrJjKlCmjJ554QklJSU772u12zZw5UzfffLP8/f0VHByshx56SOfPn3faLzw8XN27d9cPP/ygZs2ayd/fX5UrV9b777/v2GfhwoW6++67JUnt2rVzXJqT/C/W199zlZiYqAkTJqhx48YqWbKkihYtqtatW2vDhg1Z+7IzoWLFilq4cKESExM1ffp0p9diYmI0cuRIhYWFyc/PT1WrVtW0adNSjWLY7XbNmjVLdevWlb+/v8qUKaPOnTtr69atjn3effdd3X777QoKCpKfn59q166tN954w+k8AwcOVGBgoK5cuZKqzo4dO6pGjRqSpBMnTujAgQPu+gpyzYEDB9SnTx+VLl1a/v7+atKkSZqXYSUkJKhXr166cOGCvv32W1WtWlWlSpXS2rVrVbVqVXXu3FlRUVFOxxw9elS7d+9W+/btM13Pn3/+qd69e6to0aIKCgrSqFGjlJCQkGq/tO65WrJkiRo3bqzixYurRIkSqlu3rmbNmiXpxv19xYoV6tatm8qWLSs/Pz9VqVJFU6ZMSfU72LZtW9WpU0f79u1Tu3btVKRIEZUrVy5VP5Wky5cv69lnn1X16tXl7++v0NBQ/ec//9Hhw4cd+2T2dzo9zz//vHr27KlNmzalem3ChAm6//77tWrVqhuex8/PTyEhIZl6z8xavHixihYtql69eqX5emJiouLj4zM8R3LfWbFihVtrA3ADBgCk4d133zUkGevWrTPOnDnjtJw9e9axX2JiotGwYUOjYsWKRlxcnGEYhrFq1SpDkjFlyhTHfhs2bDAkGXXr1jXq1atnzJgxw3jqqacMf39/o3r16salS5dSvXfTpk2NV1991XjqqaeMwoULG+Hh4cb58+cd+w0cONDw9/c3br75ZuP+++833njjDeOuu+4yJBmvv/660+d54IEHjEKFChlDhgwx5s2bZ4wZM8YoWrSo0bRpUyMxMdGxX8WKFY0aNWoYwcHBxrhx44w5c+YYjRo1Mmw2m7F3717DMAzj8OHDxvDhww1Jxrhx44wPPvjA+OCDD4yoqCjDMAyjTZs2Rps2bRznPHPmjBEaGmpERkYab7zxhjF9+nSjRo0aho+Pj7Fjxw6nOiUZEydOzPDP5ujRo4Yk46WXXkp3nypVqhhlypRxrMfHxxv16tUzbrrpJmPcuHHGvHnzjIiICMNmsxkjRoxwOnbQoEGGJKNLly7GzJkzjZdfftno1auX8dprrzn2adq0qTFo0CDj1VdfNV577TWjY8eOhiRjzpw5jn3Wrl1rSDI+//xzp/OfOnXK8Pb2NiZPnuz4vrL619GyZcsMScaGDRsyfUx8fHyqvpzWcu7cuRuea+/evUbJkiWN2rVrG9OmTTPmzJlj3HbbbYbNZjM++eQTx352u93o27evERYWZhw+fDjVeWJiYoxmzZoZDRs2NC5cuODYvmjRIkOSsXv37kx9tkuXLhnVq1c3/P39jdGjRxszZ840GjdubNSrVy/V9zRw4ECjYsWKjvU1a9YYkow77rjDmDt3rjF37lxj2LBhxt13320Yxo37e+/evY2+ffsaL730kvHGG28Yd999tyHJeOKJJ5xqbNOmjVG2bFkjLCzMGDFihPH6668bt99+uyHJ+Oqrrxz7Xb161bjjjjsMScY999xjzJkzx5g6dapx++23G5999pljv8z+TqfnwoULRrNmzYyAgACn73nmzJmGJOPpp5/O1Hd/rS1bthiSjHfffTfLxyaLjo42ChUqZAwYMCDVaxUrVjQKFy5seHt7G5KMihUrGjNnzkz3XFWrVjXuuusul2sBkHWEKwBpSg44aS1+fn5O++7Zs8fw9fU1HnjgAeP8+fNGuXLljCZNmhhXrlxx7JMcrsqVK+cIYYZhGB999JEhyZg1a5ZhGGZYCwoKMurUqWP8888/jv2++OILQ5IxYcIEx7aBAwcakhz/k56sYcOGRuPGjR3r33//vSHJ+PDDD532Sw6B126vWLGiIcn47rvvHNuio6MNPz8/4/HHH3dsy+h/7q8PV1evXjUSEhKc9jl//rwRHBxs3H///U7b3RWuevXqZUgyYmNjDcMwjClTphhFixY1Dh065LTfU089ZXh7exsnTpwwDMMwvvnmG0OSMXz48FTntNvtjva1YThZp06djMqVKzvWk5KSjPLlyxv9+vVz2m/GjBmGzWYzjhw5YhhG7oWriRMnptunr12uDR7pueOOO4y6desaly9fdmyz2+1Gy5YtjWrVqmXps6TlmWeeMSQ5Ba6MJAeCjz76yLEtPj7eqFq16g3D1YgRI4wSJUoYV69eTff8GX3fafWFhx56yChSpIjT95P85/z+++87tiUkJBghISFOAeCdd94xJBkzZsxIdd7kPpiV3+mMnD171qhdu7YREhJi/P7778b7779v2Gw2Y+jQoZk6/nruCFevvfZaqsCZrEePHsa0adOMzz77zHj77beN1q1bG5KM0aNHp3mujh07GrVq1XK5FgBZxz1XADI0d+7cVDdLX38PQp06dTRp0iSNHTtWu3fv1tmzZ7VmzRoVKpT6PzEREREqXry4Y71Pnz4KDQ3VV199peHDh2vr1q2Kjo7Ws88+63SvSbdu3VSzZk19+eWXmjRpktM5r58pq3Xr1vrggw8c68uWLVPJkiXVoUMHnT171rG9cePGKlasmDZs2KB7773Xsb127dpOkwyUKVNGNWrU0JEjRzL8rtLj7e3t+M7sdrtiYmJkt9vVpEkTbd++3aVz3kixYsUkSRcuXFCJEiW0bNkytW7dWgEBAU7fQfv27fXiiy/qu+++04ABA/Txxx/LZrNp4sSJqc5ps9kc7cKFCzvasbGxunLlitq0aaPVq1crNjZWJUuWlJeXlwYMGKDZs2frwoULjj/3Dz/8UC1btnRMlJLVCQBcFRERoVtvvfWG+1372dJy7tw5ffPNN5o8ebIuXLigCxcuOF7r1KmTJk6cqJMnT6pcuXIu1/r333+rUKFCjj/HG/nqq68UGhqqPn36OLYVKVJEDz74oEaPHp3hsaVKlVJ8fLzWrl2rzp07Z7nWa7+vCxcuKCEhQa1bt9abb76pAwcOON33V6xYMaf7hXx9fdWsWTOn362PP/5YgYGBeuyxx1K9V3IfzOrvdHpuuukmrVmzRq1atdJtt92m6Oho9e3bV3Pnzs3al+BGixcvVpkyZdK8F+v6y04HDx6sLl26aMaMGXrsscdUvnx5p9cDAgK0Y8eOHK0XgDPCFYAMNWvWLFMTWjz55JNasmSJNm/erBdeeEG1a9dOc79q1ao5rdtsNlWtWtUxxfPx48clyXE/zrVq1qypH374wWlb8j1B1woICHC67+K3335TbGysgoKC0qwpOjraab1ChQqp9rn+nFn13nvv6ZVXXtGBAwec7kFKayZGd7h48aIkOQLNb7/9pt27d6f6rpIlfweHDx9W2bJlVbp06QzP/+OPP2rixInatGmTLl265PRacriSzEAzbdo0ffrpp4qIiNDBgwe1bds2zZs3L1ufzxWVK1d2y439v//+uwzD0Pjx4zV+/Pg094mOjs5WuErPmTNnnO5lKlasmIoVK6bjx4+ratWqTgFYSvv36HqPPPKIPvroI3Xp0kXlypVTx44d1bdv30wHrV9//VXPPPOMvvnmG8XFxTm9Fhsb67Revnz5VDUGBARo9+7djvXDhw+rRo0aaf7jTLKs/k5npFy5cpo4caLuv/9++fv769VXX7Vs6vsjR45o06ZNGjZsWIafP5nNZtOoUaO0evVqbdy4MdVEF4ZhpPq+AeQswhUAtzhy5Ih+++03SdKePXty7X1vNJOXZI4WBQUF6cMPP0zz9esDR3rnNAwj6wXKnPlr0KBB6t27t5588kkFBQXJ29tbU6dOdbpB35327t2roKAglShRQpL5HXTo0CHdUYzrRyczkjzDWs2aNTVjxgyFhYXJ19dXX331lV599VWnCTJq166txo0ba9GiRYqIiNCiRYvk6+urvn37Zu8DuuDixYuO0JkRb2/vdEOoJMfne+KJJ9SpU6c098nuowpuuukmXb161WnET5KaNm3q+AcIyZxQJrvP9goKCtLOnTu1evVqff311/r6668dM+W99957GR4bExOjNm3aqESJEpo8ebKqVKkif39/bd++XWPGjEk1WYq7frey+judkS1btmj48OFq1qyZDh06pF69eumbb77J9KihOy1evFhS2rMEpicsLEySOaJ6vfPnzyswMNA9xQHIFMIVgGyz2+0aNGiQSpQooZEjR+qFF15Qnz599J///CfVvskBLJlhGPr9998dzyeqWLGiJOngwYO6/fbbnfY9ePCg4/WsqFKlitatW6dWrVrd8JKvzMrKvwYvX75clStX1ieffOJ0XFqX3rnDpk2bdPjwYad/xa5SpYouXrx4w9nnqlSpotWrV+vcuXPpjl59/vnnSkhI0MqVK51G+dKb/TAiIkKRkZE6deqUFi9erG7duikgIMCFT5Y9L7/8cqpLStNSsWLFDB+Wmzz65ePjk6XZ/LIieWr2o0ePOj2768MPP9Q///yTqpaKFStq7969qUYqDh48mKn38/X1VY8ePdSjRw/Z7XY98sgjevPNNzV+/Pg0R8SSbdy4UX///bc++eQT3XbbbY7tR48ezfyHvU6VKlX0yy+/6MqVK+lOG++u3+l9+/apS5cuqlatmtasWaNff/3VMUX+V199JT8/P5fP7YrFixerSpUquuWWWzJ9TPIllWkFyqNHj3rM4xiA/IKp2AFk24wZM/TTTz9p/vz5mjJlilq2bKmHH37Y6V6IZO+//77TPSrLly/XqVOn1KVLF0lSkyZNFBQUpHnz5jlNI/31119r//796tatW5br69u3r5KSkjRlypRUr129elUxMTFZPmfRokUlKVPHJv9r/bX/Ov/LL7+kOQV0dh0/flyDBg2Sr6+vnnzyScf2vn37atOmTVq9enWqY2JiYnT16lVJ0l133SXDMNIMIcn1p/V5YmNj9e6776ZZU//+/WWz2TRixAgdOXIk1aVLuTUVe0REhNauXXvDJb3RkGRBQUFq27at3nzzTZ06dSrV62fOnMl2rS1atJAkp+nvJalVq1Zq3769Y0kOV127dtVff/2l5cuXO/a9dOmS5s+ff8P3+vvvv53Wvby8HIEu+Xcwvf6eVl9ITEzU66+/fsP3Tc9dd92ls2fPas6cOaleS34fd/xOHzt2TB07dlRgYKBWr16tkiVLqmXLlvrkk0/0ww8/qF+/fqmmk8+uU6dOpbo0ONmOHTu0f//+dO8VO3fuXKp6rly5ohdffFG+vr5q166d02uxsbE6fPiwWrZs6b4PAOCGGLkCkKGvv/46zf/xbdmypSpXrqz9+/dr/PjxGjRokHr06CHJfC5OgwYNHPdyXKt06dK69dZbNXjwYJ0+fVozZ85U1apVNWTIEEnmaMC0adM0ePBgtWnTRv3799fp06c1a9YshYeHa9SoUVn+DG3atNFDDz2kqVOnaufOnerYsaN8fHz022+/admyZZo1a5bTRACZ0aBBA3l7e2vatGmKjY2Vn5+f47lP1+vevbs++eQT3XnnnerWrZuOHj2qefPmqXbt2pm6TC0927dv16JFixyTZGzZssUxIcUHH3zgNOLx5JNPauXKlerevbsGDRqkxo0bKz4+Xnv27NHy5ct17NgxBQYGql27drrvvvs0e/Zs/fbbb+rcubPsdru+//57tWvXTsOGDVPHjh0dIx0PPfSQLl68qAULFigoKCjNsJH8nKxly5apVKlSqQJyRESEvv32W5cvu8wsd91zJZkTvdx6662qW7euhgwZosqVK+v06dPatGmT/vzzT8fz3bJTa506dbRu3Trdf//9N9x/yJAhmjNnjiIiIrRt2zaFhobqgw8+UJEiRW547AMPPKBz587p9ttvV/ny5XX8+HG99tpratCggWrVqiUp/f7esmVLBQQEaODAgRo+fLij72XnzzIiIkLvv/++IiMjtXnzZrVu3Vrx8fFat26dHnnkEfXq1cstv9PPP/+8vLy8tHbtWqdRn06dOumDDz5Q//79tXr1anXt2vWGNc+ZM0cxMTH666+/JJmju3/++ack6bHHHnPcgzh27Fi99957Onr0aKpnjSWH+vQuCVy5cqWee+459enTR5UqVdK5c+e0ePFi7d27Vy+88EKqZ22tW7dOhmGk+6wsADnEghkKAeQDGU3Frn+nGr569arRtGlTo3z58kZMTIzT8bNmzTIkGUuXLjUMI2Uq9v/973/G2LFjjaCgIKNw4cJGt27djOPHj6d6/6VLlxoNGzY0/Pz8jNKlSxsDBgww/vzzT6d9Bg4caBQtWjTVsclTbl9v/vz5RuPGjY3ChQsbxYsXN+rWrWuMHj3a+Ouvvxz7VKxY0ejWrVuqY6+fXt0wDGPBggVG5cqVHc+cSZ6m+vp97Xa78cILLxgVK1Y0/Pz8jIYNGxpffPFFqimxDSNrU7EnL4UKFTJKly5tNG/e3Bg7dmya36dhmM/1GTt2rFG1alXD19fXCAwMNFq2bGm8/PLLTs8Funr1qvHSSy8ZNWvWNHx9fY0yZcoYXbp0MbZt2+bYZ+XKlUa9evUMf39/Izw83Jg2bZpjCu2jR4+meu/kKfcffPDBNL/brP515MpU7O52+PBhIyIiwggJCTF8fHyMcuXKGd27dzeWL1/ulvPPmDHDKFasWJpTnafl+PHjRs+ePY0iRYoYgYGBxogRIxxTk2c0Ffvy5cuNjh07GkFBQYavr69RoUIF46GHHjJOnTrldP70+vuPP/5o3HLLLUbhwoWNsmXLGqNHjzZWr16d6n3btGlj3HzzzanqTuv34NKlS8bTTz9tVKpUyfDx8TFCQkKMPn36pHpWWGZ+p9Nz4cIF4/fff0/39eufQZeR5Ec4pLVc+/uQ/PiI639HkpKSjHLlyhmNGjVK9z22bt1q9OjRwyhXrpzh6+trFCtWzLj11ludpt+/Vr9+/Yxbb701058BgHvYDCOH/6kQAGTem9GuXTstW7Ysy6NEyP9WrFih3r1767vvvnOa5h7pi42NVeXKlTV9+nT93//9n9XlIB+JiopSpUqVtGTJEkaugFzGPVcAgBy3YMECVa5cOVPPmYKpZMmSGj16tF566aVUs+4BGZk5c6bq1q1LsAIswD1XAIAcs2TJEu3evVtffvmlZs2axTN3smjMmDEaM2aM1WUgn3nxxRetLgEosAhXAIAc079/fxUrVkz/93//p0ceecTqcgAAyFGWXhb43XffqUePHipbtqxsNps+++yzGx6zceNGNWrUSH5+fqpataoWLlyY43UCyL62bdvKMAzutypgDMPQhQsX9NZbb6lQIf49DwDg2SwNV/Hx8apfv77mzp2bqf2PHj2qbt26qV27dtq5c6dGjhypBx54IM3ntgAAAABAbsozswXabDZ9+umn6t27d7r7jBkzRl9++aX27t3r2HbPPfcoJiZGq1atyoUqAQAAACBt+eoajU2bNql9+/ZO2zp16qSRI0eme0xCQoLjCfOSZLfbde7cOd10003cWA0AAAAUYMmXr5ctW1ZeXtm/qC9fhauoqCgFBwc7bQsODlZcXJz++ecfFS5cONUxU6dO1aRJk3KrRAAAAAD5zB9//KHy5ctn+zz5Kly5YuzYsYqMjHSsx8bGqkKFCipT5oQOHSpuYWXwdHa7XWfPnlVgYKBb/iUESA99DbmFvobcQl9DbomJiVGlSpVUvLh7ckG+ClchISE6ffq007bTp0+rRIkSaY5aSZKfn5/8/PxSbT9zpqT8/UvI3z9HSgVkt9uVmJioUqVK8RcDchR9DbmFvobcQl9DbnPX7UL5qre2aNFC69evd9q2du1atWjRwqXznTjhjqoAAAAAwOJwdfHiRe3cuVM7d+6UZE61vnPnTp34N/WMHTtWERERjv2HDh2qI0eOaPTo0Tpw4IBef/11ffTRRxo1apRL73/sWHY/AQAAAACYLA1XW7duVcOGDdWwYUNJUmRkpBo2bKgJEyZIkk6dOuUIWpJUqVIlffnll1q7dq3q16+vV155RW+99ZY6derk0vsTrgAAAAC4i6X3XLVt21YZPWZr4cKFaR6zY8cOt7w/4QoAAACAu+Sre67c7ehRqysAAAAA4CkKdLhi5AoAAACAuxCuAAAAAMANCnS4ioqS/vnH6ioAAAAAeIICHa4knnUFAAAAwD0KfLji0kAAAAAA7kC4OmZ1BQAAAAA8AeHqmNUVAAAAAPAEBT5c8awrAAAAAO5Q4MMVI1cAAAAA3KHAhquQEEMS4QoAAACAexTYcFWhgvnz9GmedQUAAAAg+wpsuKpYMaV9/Lh1dQAAAADwDAU2XCWPXElcGggAAAAg+wpsuAoLMxxtwhUAAACA7Cqw4YqRKwAAAADuVGDD1bX3XPGsKwAAAADZVWDDVblyks1mthm5AgAAAJBdBTZc+flJZcuabcIVAAAAgOwqsOFKksLDzZ/R0dKlS5aWAgAAACCfK9DhqlKllDbPugIAAACQHQU6XCWPXElcGggAAAAgewhX/yJcAQAAAMgOwtW/CFcAAAAAsoNw9S+edQUAAAAgOwp0uAoL41lXAAAAANyjQIcrX1/zYcIS4QoAAABA9hTocCWlXBp45owUH29pKQAAAADysQIfrnjWFQAAAAB3KPDhihkDAQAAALgD4So8pU24AgAAAOAqwlV4SptwBQAAAMBVhKvwlDbPugIAAADgqgIfrsqXl7z+/RYYuQIAAADgqgIfrnjWFQAAAAB3KPDhSkqZjv3sWeniRWtrAQAAAJA/Ea7kfN8Vz7oCAAAA4ArClZgxEAAAAED2Ea5EuAIAAACQfYQrEa4AAAAAZB/hSjzrCgAAAED2Ea7Es64AAAAAZB/hSpKPjxmwJMIVAAAAANcQrv6V/Kyrv/+WLlywthYAAAAA+Q/h6l886woAAABAdhCu/sWMgQAAAACyg3D1L8IVAAAAgOwgXP2LcAUAAAAgOwhX/+JZVwAAAACyg3D1r/LlJW9vs83IFQAAAICsIlz9q1AhnnUFAAAAwHWEq2skP+vq3DkpLs7aWgAAAADkL4Sra/CsKwAAAACuIlxdgxkDAQAAALiKcHUNZgwEAAAA4CrC1TUqV05pHz5sXR0AAAAA8h/C1TWqV09pHzpkXR0AAAAA8h/C1TWCgqQSJcz2wYPW1gIAAAAgfyFcXcNmSxm9OnZMSkiwtBwAAAAA+Qjh6jo1apg/DUP6/XdrawEAAACQfxCursN9VwAAAABcQbi6DuEKAAAAgCsIV9dJvixQYlILAAAAAJlHuLpOtWopbUauAAAAAGQW4eo6xYpJZcuabcIVAAAAgMwiXKUh+dLAM2ek8+etrQUAAABA/mB5uJo7d67Cw8Pl7++v5s2ba/PmzRnuP3PmTNWoUUOFCxdWWFiYRo0apcuXL7u1Jia1AAAAAJBVloarpUuXKjIyUhMnTtT27dtVv359derUSdHR0Wnuv3jxYj311FOaOHGi9u/fr7fffltLly7VuHHj3FoX4QoAAABAVlkarmbMmKEhQ4Zo8ODBql27tubNm6ciRYronXfeSXP/n376Sa1atdK9996r8PBwdezYUf3797/haFdWMWMgAAAAgKwqZNUbJyYmatu2bRo7dqxjm5eXl9q3b69NmzaleUzLli21aNEibd68Wc2aNdORI0f01Vdf6b777kv3fRISEpSQkOBYj4uLkyTZ7XbZ7fY0j6laVUrOnQcPGrLbjSx+OsDsY4ZhpNvPAHehryG30NeQW+hryC3u7mOWhauzZ88qKSlJwcHBTtuDg4N14MCBNI+59957dfbsWd16660yDENXr17V0KFDM7wscOrUqZo0aVKq7WfOnFFiYmKaxxQpIhUqFKyrV23av/+qoqP/zsInA0x2u12xsbEyDENeXpbf3ggPRl9DbqGvIbfQ15BbYmNj3Xo+y8KVKzZu3KgXXnhBr7/+upo3b67ff/9dI0aM0JQpUzR+/Pg0jxk7dqwiIyMd63FxcQoLC1OZMmVUqlSpdN+rShXzksAjRwopMDBI/F4jq+x2u2w2m8qUKcNfDMhR9DXkFvoacgt9DbnF19fXreezLFwFBgbK29tbp0+fdtp++vRphYSEpHnM+PHjdd999+mBBx6QJNWtW1fx8fF68MEH9fTTT6f5y+fn5yc/P79U2728vDL8Za1e3QxX//xj06lTNoWFZeXTASabzXbDvga4A30NuYW+htxCX0NucHf/sqy3+vr6qnHjxlq/fr1jm91u1/r169WiRYs0j7l06VKqL8Db21uSZBjuvS+KGQMBAAAAZIWl/xQQGRmpBQsW6L333tP+/fv18MMPKz4+XoMHD5YkRUREOE140aNHD73xxhtasmSJjh49qrVr12r8+PHq0aOHI2S5CzMGAgAAAMgKS++56tevn86cOaMJEyYoKipKDRo00KpVqxyTXJw4ccJppOqZZ56RzWbTM888o5MnT6pMmTLq0aOHnn/+ebfXxsgVAAAAgKywGe6+ni6Pi4uLU8mSJXX+/PkMJ7Q4dUoqW9Zsd+kiffVV7tQHz2G32xUdHa2goCCuF0eOoq8ht9DXkFvoa8gtMTExCggIUGxsrEqUKJHt89Fb0xESIhUvbra5LBAAAADAjRCu0mGzpVwaeOyYdM1ziAEAAAAgFcJVBpLDld0uHTlibS0AAAAA8jbCVQaYMRAAAABAZhGuMsCMgQAAAAAyi3CVAcIVAAAAgMwiXGXg2nDFZYEAAAAAMkK4ykDx4lJoqNlm5AoAAABARghXN5A8ehUdLcXEWFoKAAAAgDyMcHUD184YyOgVAAAAgPQQrm6ASS0AAAAAZAbh6gaY1AIAAABAZhCuboCRKwAAAACZQbi6gcqVJW9vs024AgAAAJAewtUN+PiYAUsyw5Xdbm09AAAAAPImwlUmJF8aeOmS9Ndf1tYCAAAAIG8iXGUC07EDAAAAuBHCVSYwYyAAAACAGyFcZQIzBgIAAAC4EcJVJnBZIAAAAIAbIVxlQmioVLSo2eayQAAAAABpIVxlgs2Wcmng0aNSYqK19QAAAADIewhXmZR8aaDdLh05Ym0tAAAAAPIewlUmMWMgAAAAgIwQrjKJGQMBAAAAZIRwlUnMGAgAAAAgI4SrTKpWLaXNZYEAAAAArke4yqSSJaXgYLPNyBUAAACA6xGusiD50sDTp6XYWGtrAQAAAJC3EK6ygEktAAAAAKSHcJUF105qsX+/dXUAAAAAyHsIV1lQp05Ke88e6+oAAAAAkPcQrrKgXr2U9u7d1tUBAAAAIO8hXGVBaKh0001mm3AFAAAA4FqEqyyw2VJGr6KipDNnrK0HAAAAQN5BuMqiunVT2tx3BQAAACAZ4SqLuO8KAAAAQFoIV1lEuAIAAACQFsJVFt18s3nvlUS4AgAAAJCCcJVFRYpI1aqZ7V9/lZKSrK0HAAAAQN5AuHJB8qQWly9Lv/9ubS0AAAAA8gbClQu47woAAADA9QhXLiBcAQAAALge4coF14YrnnUFAAAAQCJcuSQ8XCpa1GwzcgUAAABAIly5xMsrZVKLo0eluDhr6wEAAABgPcKVi669NHDvXuvqAAAAAJA3EK5cxH1XAAAAAK5FuHJR8mWBEvddAQAAACBcuYxwBQAAAOBahCsXBQRIYWFme88eyTCsrQcAAACAtQhX2ZB831VsrPTHH9bWAgAAAMBahKts4NJAAAAAAMmyHa4SEhLcUUe+dO2MgYQrAAAAoGDLcrj6+uuvNXDgQFWuXFk+Pj4qUqSISpQooTZt2uj555/XX3/9lRN15kmEKwAAAADJMh2uPv30U1WvXl3333+/ChUqpDFjxuiTTz7R6tWr9dZbb6lNmzZat26dKleurKFDh+rMmTM5WXeeUL265OtrtnnWFQAAAFCwFcrsjtOnT9err76qLl26yMsrdSbr27evJOnkyZN67bXXtGjRIo0aNcp9leZBPj5SrVrSrl3SwYPS5cuSv7/VVQEAAACwQqbD1aZNmzK1X7ly5fTiiy+6XFB+U6+eGa6SkqT9+6WGDa2uCAAAAIAVsnTPVeXKlfX333/nVC35EvddAQAAAJCyGK6OHTumpKSknKolX7o2XHHfFQAAAFBw8ZyrbOJZVwAAAACkLNxzlWz16tUqWbJkhvv07NnT5YLym5AQKTBQOnuWcAUAAAAUZFkOVwMHDszwdZvNVqAuHbTZzEsDv/lGOn1aio6WgoKsrgoAAABAbsvyZYFRUVGy2+3pLgUpWCXjvisAAAAAWQpXNpstp+rI17jvCgAAAECWwpVhGDlVR77GdOwAAAAAshSuBg4cqMKFC7u1gLlz5yo8PFz+/v5q3ry5Nm/enOH+MTExevTRRxUaGio/Pz9Vr15dX331lVtryqratSWvf79JwhUAAABQMGU6XMXHx+vdd99V8eLFM73/jSxdulSRkZGaOHGitm/frvr166tTp06Kjo5Oc//ExER16NBBx44d0/Lly3Xw4EEtWLBA5cqVy+zHyBFFikjVqpntffukq1ctLQcAAACABTIdrqpWraoXX3xRp06dSncfwzC0du1adenSRbNnz77hOWfMmKEhQ4Zo8ODBql27tubNm6ciRYronXfeSXP/d955R+fOndNnn32mVq1aKTw8XG3atFH9+vUz+zFyTPJ9V5cvS7//bm0tAAAAAHJfpqdi37hxo8aNG6eJEyeqQYMGatKkicqWLSt/f3+dP39e+/bt06ZNm1SoUCGNHTtWDz30UIbnS0xM1LZt2zR27FjHNi8vL7Vv316bNm1K85iVK1eqRYsWevTRR7VixQqVKVNG9957r8aMGSNvb+80j0lISFBCQoJjPS4uTpIcsxu6S9260vLlZlbdudOu6tXddmrkU3a7XYZhuLWfAWmhryG30NeQW+hryC3u7mOZDlc1atTQxx9/rBMnTmjZsmX6/vvv9dNPP+mff/5RYGCgGjZsqAULFqhLly7pBp1rnT17VklJSQoODnbaHhwcrAMHDqR5zJEjR/TNN99owIAB+uqrr/T777/rkUce0ZUrVzRx4sQ0j5k6daomTZqUavuZM2eUmJiYiU+eORUq+EkKkCT9/PMltW170W3nRv5kt9sVGxsrwzDk5ZXlpx4AmUZfQ26hryG30NeQW2JjY916viw/RLhChQp6/PHH9fjjj7u1kMyw2+0KCgrS/Pnz5e3trcaNG+vkyZN66aWX0g1XY8eOVWRkpGM9Li5OYWFhKlOmjEqVKuW22lq3TmkfOVJUQUFF3HZu5E92u102m01lypThLwbkKPoacgt9DbmFvobc4uvr69bzZTlcuUtgYKC8vb11+vRpp+2nT59WSEhImseEhobKx8fHaWSsVq1aioqKUmJiYppfjp+fn/z8/FJt9/Lycusva6VKUrFi0sWL0p49Nnl58UwwmM+Gc3dfA9JCX0Nuoa8ht9DXkBvc3b8s662+vr5q3Lix1q9f79hmt9u1fv16tWjRIs1jWrVqpd9//93p2shDhw4pNDTU7akzq7y8Uia1OHZMcvMIIwAAAIA8ztJ/CoiMjNSCBQv03nvvaf/+/Xr44YcVHx+vwYMHS5IiIiKcJrx4+OGHde7cOY0YMUKHDh3Sl19+qRdeeEGPPvqoVR/BybWTFu7YYV0dAAAAAHKfZZcFSlK/fv105swZTZgwQVFRUWrQoIFWrVrlmOTixIkTTkN1YWFhWr16tUaNGqV69eqpXLlyGjFihMaMGWPVR3DSrJk0b57Z/uUXqW1bS8sBAAAAkIssDVeSNGzYMA0bNizN1zZu3JhqW4sWLfTzzz/ncFWuadYspb15s3V1AAAAAMh9LoermJgYbd68WdHR0anmh4+IiMh2YflRzZpS8eLShQvmyBUAAACAgsOlcPX5559rwIABunjxokqUKCGbLWVmPJvNVmDDlbe31LSp9M030smT5lKunNVVAQAAAMgNLk1o8fjjj+v+++/XxYsXFRMTo/PnzzuWc+fOubvGfIVLAwEAAICCyaVwdfLkSQ0fPlxFivCg3Os1b57S5tJAAAAAoOBwKVx16tRJW7dudXctHoGRKwAAAKBgcumeq27duunJJ5/Uvn37VLduXfn4+Di93rNnT7cUlx+VLSuVLy/9+ae0ZYuUlGTeiwUAAADAs7kUroYMGSJJmjx5cqrXbDabkpKSsldVPte8uRmuLl6U9u+X6tSxuiIAAAAAOc2lywLtdnu6S0EPVhKXBgIAAAAFkUvhChljUgsAAACg4HE5XH377bfq0aOHqlatqqpVq6pnz576/vvv3VlbvtW4seT17zfLyBUAAABQMLgUrhYtWqT27durSJEiGj58uIYPH67ChQvrjjvu0OLFi91dY75TrJh0881me88e6dIla+sBAAAAkPNcmtDi+eef1/Tp0zVq1CjHtuHDh2vGjBmaMmWK7r33XrcVmF81b24Gq6Qkads2qXVrqysCAAAAkJNcGrk6cuSIevTokWp7z549dfTo0WwX5QmY1AIAAAAoWFwKV2FhYVq/fn2q7evWrVNYWFi2i/IETGoBAAAAFCwuXRb4+OOPa/jw4dq5c6datmwpSfrxxx+1cOFCzZo1y60F5le1a0tFipj3WzFyBQAAAHg+l8LVww8/rJCQEL3yyiv66KOPJEm1atXS0qVL1atXL7cWmF8VKiQ1aSJ99510/Lh0+rQUHGx1VQAAAAByikvhSpLuvPNO3Xnnne6sxeM0b26GK8m8NLBnT2vrAQAAAJBzeIhwDmJSCwAAAKDgyPTIVenSpXXo0CEFBgYqICBANpst3X3PnTvnluLyOya1AAAAAAqOTIerV199VcWLF3e0MwpXMJUvL4WGSqdOmSNXdrvkxVghAAAA4JEyHa4GDhzoaA8aNCgnavE4Npt5aeCKFVJcnHTokFSzptVVAQAAAMgJLo2jbN++XXv27HGsr1ixQr1799a4ceOUmJjotuI8AZcGAgAAAAWDS+HqoYce0qFDhyRJR44cUb9+/VSkSBEtW7ZMo0ePdmuB+R2TWgAAAAAFg0vh6tChQ2rQoIEkadmyZWrTpo0WL16shQsX6uOPP3Znffle06bm5YESI1cAAACAJ3MpXBmGIbvdLklat26dunbtKkkKCwvT2bNn3VedByhRQqpVy2zv2iX984+19QAAAADIGS6FqyZNmui5557TBx98oG+//VbdunWTJB09elTBwcFuLdATJF8aePWqtHOnpaUAAAAAyCEuhauZM2dq+/btGjZsmJ5++mlVrVpVkrR8+XK1bNnSrQV6Aia1AAAAADxfpqdiv1a9evWcZgtM9tJLL8nb2zvbRXkaJrUAAAAAPJ9LI1d//PGH/vzzT8f65s2bNXLkSL3//vvy8fFxW3Geom5dyd/fbDNyBQAAAHgml8LVvffeqw0bNkiSoqKi1KFDB23evFlPP/20Jk+e7NYCPYGPj9S4sdk+ckQ6c8baegAAAAC4n0vhau/evWr277VuH330kerUqaOffvpJH374oRYuXOjO+jzGtZcGbtliXR0AAAAAcoZL4erKlSvy8/OTZE7F3rNnT0lSzZo1derUKfdV50GY1AIAAADwbC6Fq5tvvlnz5s3T999/r7Vr16pz586SpL/++ks33XSTWwv0FNeOXBGuAAAAAM/jUriaNm2a3nzzTbVt21b9+/dX/fr1JUkrV650XC4IZ+HhUpkyZnvzZunfZzADAAAA8BAuTcXetm1bnT17VnFxcQoICHBsf/DBB1WkSBG3FedJbDapZUtpxQrp/Hlpzx7p30wKAAAAwAO4NHIlSd7e3k7BSpLCw8MVFBSU7aI8Vbt2Ke1/J1sEAAAA4CEyPXLVqFEjrV+/XgEBAWrYsKFsNlu6+27fvt0txXma68PVyJGWlQIAAADAzTIdrnr16uWYIbB37945VY9Hq1NHuukm6e+/pW+/lZKSJG9vq6sCAAAA4A6ZDlcTJ05Ms43M8/KS2raVPv5Yio2Vdu5MebgwAAAAgPzN5Xuukl28eFFxcXFOC9LHfVcAAACAZ3IpXB09elTdunVT0aJFVbJkSQUEBCggIEClSpVKNckFnN1+e0r7m2+sqwMAAACAe7k0Fft///tfGYahd955R8HBwRlObgFnNWtKISFSVJT0/ffSlSuSj4/VVQEAAADILpfC1a5du7Rt2zbVqFHD3fV4PJvNvO9qyRLp4kVp2zbpllusrgoAAABAdrl0WWDTpk31xx9/uLuWAoP7rgAAAADP49LI1VtvvaWhQ4fq5MmTqlOnjnyuu66tXr16binOU10frsaOta4WAAAAAO7hUrg6c+aMDh8+rMGDBzu22Ww2GYYhm82mpKQktxXoiapWlcqVk06elH78UUpMlHx9ra4KAAAAQHa4FK7uv/9+NWzYUP/73/+Y0MIFNps5a+AHH0iXLkmbN0u33mp1VQAAAACyw6Vwdfz4ca1cuVJVq1Z1dz0FRrt2ZriSzCnZCVcAAABA/ubShBa33367du3a5e5aChQmtQAAAAA8i0sjVz169NCoUaO0Z88e1a1bN9WEFj179nRLcZ4sPNxcjh2TNm2SLl+W/P0tLgoAAACAy1wKV0OHDpUkTZ48OdVrTGiRee3aSe++KyUkmAHr2tEsAAAAAPmLS5cF2u32dBeCVeZxaSAAAADgOVwKV2mJiYlx16kKDMIVAAAA4DlcClfTpk3T0qVLHet33323SpcurXLlyjHRRRaULy9Vq2a2f/lFio+3th4AAAAArnMpXM2bN09hYWGSpLVr12rdunVatWqVunTpoieffNKtBXq65NGrK1fMBwoDAAAAyJ9cCldRUVGOcPXFF1+ob9++6tixo0aPHq0tW7a4tUBPx6WBAAAAgGdwKVwFBATojz/+kCStWrVK7du3lyQZhsGEFlnUtm1Km3AFAAAA5F8uhav//Oc/uvfee9WhQwf9/fff6tKliyRpx44dqlq1qlsL9HQhIVKtWmZ761bpwgVr6wEAAADgGpfC1auvvqphw4apdu3aWrt2rYoVKyZJOnXqlB555BG3FlgQ3H67+TMpSfr+e2trAQAAAOAalx4i7OPjoyeeeCLV9lGjRmW7oIKoXTtp7lyzvWGD1LWrtfUAAAAAyDqXwpUk/fbbb9qwYYOio6Nlt9udXpswYUK2CytI2rRJaXPfFQAAAJA/uRSuFixYoIcffliBgYEKCQmRzWZzvGaz2QhXWRQYKNWrJ+3eLW3fLp0/LwUEWF0VAAAAgKxwKVw999xzev755zVmzBh311NgtWtnhivDkL77TurVy+qKAAAAAGSFSxNanD9/Xnfffbe7aynQeN4VAAAAkL+5FK7uvvturVmzxt21FGi33SYlX125dq21tQAAAADIOpcuC6xatarGjx+vn3/+WXXr1pWPj4/T68OHD3dLcQVJQIB0yy3Spk3Svn3SkSNS5cpWVwUAAAAgs1wauZo/f76KFSumb7/9VnPmzNGrr77qWGbOnJnl882dO1fh4eHy9/dX8+bNtXnz5kwdt2TJEtlsNvXu3TvL75kX9eyZ0v78c+vqAAAAAJB1LoWro0ePprscOXIkS+daunSpIiMjNXHiRG3fvl3169dXp06dFB0dneFxx44d0xNPPKHWrVu78hHypGvD1cqV1tUBAAAAIOtcClfuNGPGDA0ZMkSDBw9W7dq1NW/ePBUpUkTvvPNOusckJSVpwIABmjRpkip70LVztWqlXAr43XdSTIyl5QAAAADIApcfIvznn39q5cqVOnHihBITE51emzFjRqbOkZiYqG3btmns2LGObV5eXmrfvr02bdqU7nGTJ09WUFCQ/u///k/ff/99hu+RkJCghIQEx3pcXJwkyW63p3r4cV7Qo4dNs2bZdPWq9NVXdt1zj9UVwVV2u12GYeTJfgbPQl9DbqGvIbfQ15Bb3N3HXApX69evV8+ePVW5cmUdOHBAderU0bFjx2QYhho1apTp85w9e1ZJSUkKDg522h4cHKwDBw6kecwPP/ygt99+Wzt37szUe0ydOlWTJk1Ktf3MmTOpQmFe0Lq1r2bNKi1JWr48QbffHmtxRXCV3W5XbGysDMOQl5flg8TwYPQ15Bb6GnILfQ25JTbWvf+v7VK4Gjt2rJ544glNmjRJxYsX18cff6ygoCANGDBAnTt3dmuB17pw4YLuu+8+LViwQIGBgZmuNTIy0rEeFxensLAwlSlTRqVKlcqhSl3XvbtUqpShmBibvvnGXwEBfrpuMkbkE3a7XTabTWXKlOEvBuQo+hpyC30NuYW+htzi6+vr1vO5FK7279+v//3vf+YJChXSP//8o2LFimny5Mnq1auXHn744UydJzAwUN7e3jp9+rTT9tOnTyskJCTV/ocPH9axY8fUo0cPx7bkobxChQrp4MGDqlKlitMxfn5+8vPzS3UuLy+vPPnL6ucndeki/e9/UmysTT/+aNPtt1tdFVxls9nybF+DZ6GvIbfQ15Bb6GvIDe7uXy6drWjRoo5L6kJDQ3X48GHHa2fPns30eXx9fdW4cWOtX7/esc1ut2v9+vVq0aJFqv1r1qypPXv2aOfOnY6lZ8+eateunXbu3KmwsDBXPk6ew5TsAAAAQP7j0sjVLbfcoh9++EG1atVS165d9fjjj2vPnj365JNPdMstt2TpXJGRkRo4cKCaNGmiZs2aaebMmYqPj9fgwYMlSRERESpXrpymTp0qf39/1alTx+n45Ev7rt+en3XuLBUqJF29Kq1YIc2YIdlsVlcFAAAAICMuhasZM2bo4sWLkqRJkybp4sWLWrp0qapVq5bpmQKT9evXT2fOnNGECRMUFRWlBg0aaNWqVY5JLk6cOFHghoNLlZLatJHWr5eOHpX27ZNuvtnqqgAAAABkJMvhKikpSX/++afq1asnybxEcN68edkqYtiwYRo2bFiar23cuDHDYxcuXJit986revQww5VkPlCYcAUAAADkbVkeEvL29lbHjh11/vz5nKgH/7pmzg7uuwIAAADyAZeut6tTp46OHDni7lpwjcqVpeTbyH7+WbpuQkUAAAAAeYxL4eq5557TE088oS+++EKnTp1SXFyc0wL3SJ410DCkL7+0thYAAAAAGctSuJo8ebLi4+PVtWtX7dq1Sz179lT58uUVEBCggIAAlSpVSgEBATlVa4Fz7aWBK1daVwcAAACAG8vShBaTJk3S0KFDtWHDhpyqB9do1kwKCpKio6W1a6V//pEKF7a6KgAAAABpyVK4MgxDktSmTZscKQbOvLzM0au335YuXZK++Ubq1s3qqgAAAACkJcv3XNl4mm2uSr7vSuLSQAAAACAvy/JzrqpXr37DgHXu3DmXC4Kz9u0lf3/p8mVzSvY33jBHtAAAAADkLVkOV5MmTVLJkiVzohakoUgRM2B98YV06pS0fbvUpInVVQEAAAC4XpbD1T333KOgoKCcqAXp6NnTDFeSeWkg4QoAAADIe7J0gRn3W1mje/eUNvddAQAAAHlTlsJV8myByF2hoVLTpmZ71y7p+HFr6wEAAACQWpbCld1u55JAi1w7a+Dnn1tXBwAAAIC0Me9cPnFtuFq2zLo6AAAAAKSNcJVP1K0r1axptr/7Tjp2zNJyAAAAAFyHcJVP2GzSffelrH/4oXW1AAAAAEiNcJWP3HtvSnvRIon5RQAAAIC8g3CVj4SHS7fdZrYPHJC2bbO0HAAAAADXIFzlM9deGvjBB9bVAQAAAMAZ4Sqf6dNH8vMz2//7n3TlirX1AAAAADARrvKZUqVSpmU/c0Zas8bScgAAAAD8i3CVD/33vyntRYusqwMAAABACsJVPtS5s3TTTWb7s8+kuDhLywEAAAAgwlW+5Osr3XOP2b58Wfr4Y2vrAQAAAEC4yreYNRAAAADIWwhX+VSzZlK1amZ740bpjz8sLQcAAAAo8AhX+ZTNljKxhWFIixdbWw8AAABQ0BGu8rFrZw384AMzZAEAAACwBuEqH6tcWWrVymz/+qu0c6el5QAAAAAFGuEqn2NiCwAAACBvIFzlc337mlOzS9L//iddvWptPQAAAEBBRbjK5wICpG7dzHZUlLR+vbX1AAAAAAUV4coDcGkgAAAAYD3ClQfo2tUcwZKkTz+VLl60th4AAACgICJceQA/P6lfP7N96ZK0fLm19QAAAAAFEeHKQwwcmNKeM4dnXgEAAAC5jXDlIZo3lxo3Ntvbtkk//WRtPQAAAEBBQ7jyEDabNGJEyvqsWdbVAgAAABREhCsP0revFBxstj/5RPrjD2vrAQAAAAoSwpUH8fOThg4120lJ0uuvW1sPAAAAUJAQrjzM0KGSj4/Znj/fnD0QAAAAQM4jXHmYkJCUadnPnZM+/NDaegAAAICCgnDlga6d2GL2bKZlBwAAAHID4coDNWkitWxptvfulTZssLYeAAAAoCAgXHmo4cNT2kzLDgAAAOQ8wpWH+s9/pHLlzPbnn0uHD1tbDwAAAODpCFceysdHevRRs20Y0ty51tYDAAAAeDrClQcbMkTy9zfbb78tXbhgbT0AAACAJyNcebDAQGnAALMdFye995619QAAAACejHDl4a6dlv211yS73bpaAAAAAE9GuPJwdetK7dqZ7UOHpNWrra0HAAAA8FSEqwKAadkBAACAnEe4KgB69JAqVTLbq1dLv/5qbT0AAACAJyJcFQDe3tJjj6WsT5pkXS0AAACApyJcFRAPPigFB5vtZcuknTstLQcAAADwOISrAqJoUWncuJT1CROsqwUAAADwRISrAuTBB6Xy5c32559Lv/xibT0AAACAJyFcFSD+/tL48SnrzzxjXS0AAACApyFcFTCDB0uVK5vtdeukjRstLQcAAADwGISrAsbHR3r22ZT18eMlw7CsHAAAAMBjEK4KoHvvlWrWNNs//CCtWWNtPQAAAIAnIFwVQN7e0uTJKevPPMPoFQAAAJBdhKsC6q67pPr1zfbWrdLKldbWAwAAAOR3hKsCystLmjIlZX38eMlut64eAAAAIL8jXBVg3btLzZqZ7T17pGXLrK0HAAAAyM8IVwWYzSY991zK+sSJ0tWr1tUDAAAA5Gd5IlzNnTtX4eHh8vf3V/PmzbV58+Z0912wYIFat26tgIAABQQEqH379hnuj4y1by+1aWO2Dx6UFi2yth4AAAAgv7I8XC1dulSRkZGaOHGitm/frvr166tTp06Kjo5Oc/+NGzeqf//+2rBhgzZt2qSwsDB17NhRJ0+ezOXKPYPN5nzv1aRJ0uXL1tUDAAAA5FeWh6sZM2ZoyJAhGjx4sGrXrq158+apSJEieuedd9Lc/8MPP9QjjzyiBg0aqGbNmnrrrbdkt9u1fv36XK7cc7RuLXXqZLaPHZOmTbO0HAAAACBfKmTlmycmJmrbtm0aO3asY5uXl5fat2+vTZs2Zeocly5d0pUrV1S6dOk0X09ISFBCQoJjPS4uTpJkt9tlZ3o8h+nTpfXrbbp61aYXXjB0zz2GqlWzuqr8zW63yzAM+hlyHH0NuYW+htxCX0NucXcfszRcnT17VklJSQoODnbaHhwcrAMHDmTqHGPGjFHZsmXVvn37NF+fOnWqJk2alGr7mTNnlJiYmPWiPVRQkPTQQ8U0d24xJSba9OCDiVqy5LxsNqsry7/sdrtiY2NlGIa8vCwfJIYHo68ht9DXkFvoa8gtsbGxbj2fpeEqu1588UUtWbJEGzdulL+/f5r7jB07VpGRkY71uLg4hYWFqUyZMipVqlQuVZo/TJ0qff65oRMnbPruOz9t2BCke+6xuqr8y263y2azqUyZMvzFgBxFX0Nuoa8ht9DXkFt8fX3dej5Lw1VgYKC8vb11+vRpp+2nT59WSEhIhse+/PLLevHFF7Vu3TrVq1cv3f38/Pzk5+eXaruXlxe/rNcpXlx67TWpVy9z/fHHvdS1q0QGdZ3NZqOvIVfQ15Bb6GvILfQ15AZ39y9Le6uvr68aN27sNBlF8uQULVq0SPe46dOna8qUKVq1apWaNGmSG6UWGD17poSrqCjpmWesrQcAAADILyz/p4DIyEgtWLBA7733nvbv36+HH35Y8fHxGjx4sCQpIiLCacKLadOmafz48XrnnXcUHh6uqKgoRUVF6eLFi1Z9BI8ze7ZUpIjZfv11aetWa+sBAAAA8gPLw1W/fv308ssva8KECWrQoIF27typVatWOSa5OHHihE6dOuXY/4033lBiYqL69Omj0NBQx/Lyyy9b9RE8ToUK0rPPmm3DkB56SEpKsrQkAAAAIM+zGYZhWF1EboqLi1PJkiV1/vx5JrTIwJUrUqNG0t695vrs2dJjj1lbU35jt9sVHR2toKAgrhdHjqKvIbfQ15Bb6GvILTExMQoICFBsbKxKlCiR7fPRW5EmHx9p3ryU9aeflv76y7p6AAAAgLyOcIV0tWol/d//me0LF6RrZrQHAAAAcB3CFTI0bZp0001me+lSafVqa+sBAAAA8irCFTJ0003SSy+lrA8dKrn5QdYAAACARyBc4YYGDpRuu81sHzsmPfigOYsgAAAAgBSEK9yQl5f03ntSyZLm+kcfSW+9ZW1NAAAAQF5DuEKmhIc7B6rhw6Vff7WsHAAAACDPIVwh0/r0Me+5kqTLl6V+/aRLl6ytCQAAAMgrCFfIkhkzpLp1zfavv0qjRllbDwAAAJBXEK6QJYULm1OyFylirs+fb96DBQAAABR0hCtkWa1a0muvpawPGSIdPWpdPQAAAEBeQLiCSwYPlvr3N9txcdI990iJidbWBAAAAFiJcAWX2GzSvHlSlSrm+ubN0jPPWFsTAAAAYCXCFVxWooS0ZInk42Ouv/SS9PXX1tYEAAAAWIVwhWxp0kSaNi1l/Z57pD17rKsHAAAAsArhCtk2cqTUq5fZjouTunaVTp60tCQAAAAg1xGukG02m/Thh1LTpub6n3+aASsuztq6AAAAgNxEuIJbFC0qff65VKmSub57t9Snj3TlirV1AQAAALmFcAW3CQ42J7QoXdpcX7tWevBByTCsrQsAAADIDYQruFWNGtLKlZKfn7m+cKE0ebKlJQEAAAC5gnAFt2vVSlq0yLwXS5KefVZ6911LSwIAAAByHOEKOaJPH+nll1PWH3xQWrPGunoAAACAnEa4Qo4ZNUoaPtxsX70q3XWXtG2btTUBAAAAOYVwhRxjs0kzZkh33mmuX7wo3XGHtGmTtXUBAAAAOYFwhRzl7W0+A6t1a3M9Nlbq0EHasMHaugAAAAB3I1whxxUubE7R3r69uR4fbz5k+KuvrK0LAAAAcCfCFXJF8kOGe/Qw1y9flnr3lj7+2NKyAAAAALchXCHX+PubYapfP3P9yhWpb1/pgw+srQsAAABwB8IVcpWPj3kP1qBB5rrdLg0cKL35pqVlAQAAANlGuEKu8/aW3n5bevRRc90wpKFDpVdftbYuAAAAIDsIV7CEl5f02mvS6NEp2yIjzediXbliXV0AAACAqwhXsIzNJr34ojR5csq2114zp2qPjrauLgAAAMAVhCtYymaTxo+XFiyQfH3Nbd9+KzVpIm3dam1tAAAAQFYQrpAnPPCAGapCQ831P/6Qbr1Vev99a+sCAAAAMotwhTzjllukbdukli3N9YQEcybBESO4DwsAAAB5H+EKeUpoqLRhgzl7YLLZs7kPCwAAAHkf4Qp5jq+v9MYb0vz55nOxJPOSwUaNpDVrrK0NAAAASA/hCnnWkCHO92GdPCl16iQ9+KAUF2dtbQAAAMD1CFfI01q0MO/DuuOOlG0LFkh160rr1llXFwAAAHA9whXyvNBQae1a81LBokXNbSdOmPdhPfKIdPGitfUBAAAAEuEK+YTNZk5ysWeP1K5dyvY33jBHsTZssK42AAAAQCJcIZ+pVMm8HHDOHKlIEXPbsWPS7beb4evMGUvLAwAAQAFGuEK+4+UlPfqotHu3dNttKdvffFOqWlWaPl26fNm6+gAAAFAwEa6Qb1WpYl4OOGuWVKyYuS0uThozRqpVS/roI8kwrK0RAAAABQfhCvmal5c0fLj022/SAw+Y65J5qWC/flKrVtIvv1haIgAAAAoIwhU8QkiIOUX7jh1S+/Yp2zdtkm65RerfXzp82Lr6AAAA4PkIV/Ao9epJa9ZIX34p1ayZsn3JEql6denee817tQAAAAB3I1zB49hsUteuZoiaO1cKDDS32+3S//4n1a8vde8u/fCDtXUCAADAsxCu4LF8fMyHDP/2mzRlSkrIksyRrdatpVtvNdtMfAEAAIDsIlzB45UqJT3zjHT8uDR7tlShQsprP/5ojmI1aGDes3XhglVVAgAAIL8jXKHAKFJEeuwx6fffpffeM6drT7Z7t/Tgg1JoqDRkiLR5M6NZAAAAyBrCFQocHx8pIkLau1f67DOpefOU1+LjpbfeMrc1aCDNmSPFxFhUKAAAAPIVwhUKLC8vqVcv6eefpa1bpYcekooXT3l9925zpCs0VLrvPvPerMRE6+oFAABA3ka4AiQ1bizNmyf99Zf09tvms7GSXb4sLVpk3psVFCQNHCh9/rmUkGBdvQAAAMh7CFfANYoVk+6/33z48O7d0vDhUkBAyuuxsdL770s9e5pB6777pBUrzAAGAACAgo1wBaSjbl1p1ixzNGvFCum//5VKlEh5PS7OHNHq3Vu66SZzZOu116RDh5gMAwAAoCAqZHUBQF7n72+OVPXsaV4KuGaNtHy5GbhiY819Ll0y78n68ktzPTxc6tDBpubN/fSf/ziPfgEAAMAz2QyjYP0be1xcnEqWLKnz58+rVKlSVpeDfCwhQVq3zgxaq1ZJUVFp7+ftbahpU5tuvVVq1cpcypTJ3Vrh2ex2u6KjoxUUFCQvLy5IQM6hryG30NeQW2JiYhQQEKDY2FiVuPYSJRcxcgW4yM9P6tbNXAzDvEdr9Wpz+eGHlJkFk5Js+vlnc1bCl182t1WvLkfYuvVWqVo1yWaz7rMAAAAg+whXgBvYbFL9+uYyerT5vKxvvrFrxYp/9MMPRXTwoHNyOnTIXN55x1wvVUpq2FBq1ChlqVZN8vbO/c8CAAAA1xCugBxQtKg5otW06QUFBRXW2bM2/fST9OOP5rJ1q3TlSsr+MTHShg3mcu056tc3g1adOlLt2lKtWlJgYK5/HAAAAGQC4QrIBUFB5qyCvXub6//8YwasH3+UfvpJ2r5dOnnS+Zj4ePO1n35y3l6mTErQSv5ZtaoUFsZIFwAAgJUIV4AFCheWWrc2l2SnT0s7dphBK3k5ejT1sWfOSN9+ay7X8vExZymsUsV5qVzZDF4lS+boRwIAACjwCFdAHhEcLHXubC7Jzp+Xdu2S9u2T9u83f+7bl/bMhFeuSL/9Zi5pKVHCDFnJS4UK5s9y5aTQUHMJCGBiDQAAAFcRroA8LCBAatvWXK51/nxK2Dp4UDp8OGWJj0/7XHFx0q+/mkt6fH2lkBBzSQ5cQUHmfV5lyphLcjsw0NwfAAAAJsIVkA8FBEgtW5rLtQxDio52DlvHjkl//CGdOGH+TEhI/7yJieZ+J05kro4SJaTSpc0lICBluXa9ZElzv+Sfye1ixbhHDAAAeJY8Ea7mzp2rl156SVFRUapfv75ee+01NWvWLN39ly1bpvHjx+vYsWOqVq2apk2bpq5du+ZixUDeZLOZlxcGB6cOXpIZvs6edQ5bf/0lnTplXmqY/PPMGXPfG4mLM5djx1yrt1gx56V4cef1okXNpUgRc7m2XaSIee9a4cKSv3/aP318uMwRAADkHsvD1dKlSxUZGal58+apefPmmjlzpjp16qSDBw8qKCgo1f4//fST+vfvr6lTp6p79+5avHixevfure3bt6tOnToWfAIg/7DZUi7va9Qo/f2uXDFHwE6dMoPW2bPOP69tnz8vnTsnJSVlvZ6LF80lJ/n5pSz+/s7rfn7mpY1pLT4+N14KFUr5mbxcu+7tbS7J7et/Ji9eXs7r129P6+e1bcn8M0tKMv+MCZQAAFjDZhiZ+ffpnNO8eXM1bdpUc+bMkSTZ7XaFhYXpscce01NPPZVq/379+ik+Pl5ffPGFY9stt9yiBg0aaN68eTd8v7i4OJUsWVLnz59XqVKl3PY5gOvZ7XZFR0crKChIXsn/B+yhDMMMSefPpyznzpk/4+Kk2Nj0f8bHm8deuCBdvWr1J/EcyQHMZsu4ndHPtJaMXktrkW68/UbtjLZl5ueNtqX3em6sXy+j17NzrDtelyTDMJSQkCA/Pz/Zrjkgu4E+L/+DQF6uzZOl19cAd0tMjNXKlaUUGxurEiVKZPt8lo5cJSYmatu2bRo7dqxjm5eXl9q3b69NmzalecymTZsUGRnptK1Tp0767LPP0tw/ISFBCdfcZBIbGytJiomJyV7xwA3Y7XbFxcXJ19fX48NVsuR7qipWdO34xEQzbF24YP6MjzefCfbPP9KlSyk/L182X7t82abLl831f/4x7ydL/nn5snm+69vJPxMSpKQkz/0L2243FyBnJFpdAAoM+hpy2gVJZqB3B0vD1dmzZ5WUlKTg4GCn7cHBwTpw4ECax0RFRaW5f1Rac1NLmjp1qiZNmpRqe6VKlVysGgAAAIAn+fvvv1XSDQ8Ftfyeq5w2duxYp5GumJgYVaxYUSdOnHDLFwikJy4uTmFhYfrjjz/cMswMpIe+htxCX0Nuoa8ht8TGxqpChQoqXbq0W85nabgKDAyUt7e3Tp8+7bT99OnTCgkJSfOYkJCQLO3v5+cnPz+/VNtLlizJLytyRYkSJehryBX0NeQW+hpyC30NucVdt3BYeiOIr6+vGjdurPXr1zu22e12rV+/Xi1atEjzmBYtWjjtL0lr165Nd38AAAAAyA2WXxYYGRmpgQMHqkmTJmrWrJlmzpyp+Ph4DR48WJIUERGhcuXKaerUqZKkESNGqE2bNnrllVfUrVs3LVmyRFu3btX8+fOt/BgAAAAACjjLw1W/fv105swZTZgwQVFRUWrQoIFWrVrlmLTixIkTTsN0LVu21OLFi/XMM89o3Lhxqlatmj777LNMP+PKz89PEydOTPNSQcCd6GvILfQ15Bb6GnILfQ25xd19zfLnXAEAAACAJygYD98BAAAAgBxGuAIAAAAANyBcAQAAAIAbEK4AAAAAwA0KXLiaO3euwsPD5e/vr+bNm2vz5s1WlwQPM3XqVDVt2lTFixdXUFCQevfurYMHD1pdFgqAF198UTabTSNHjrS6FHigkydP6r///a9uuukmFS5cWHXr1tXWrVutLgseJikpSePHj1elSpVUuHBhValSRVOmTBHzryG7vvvuO/Xo0UNly5aVzWbTZ5995vS6YRiaMGGCQkNDVbhwYbVv316//fZblt+nQIWrpUuXKjIyUhMnTtT27dtVv359derUSdHR0VaXBg/y7bff6tFHH9XPP/+stWvX6sqVK+rYsaPi4+OtLg0ebMuWLXrzzTdVr149q0uBBzp//rxatWolHx8fff3119q3b59eeeUVBQQEWF0aPMy0adP0xhtvaM6cOdq/f7+mTZum6dOn67XXXrO6NORz8fHxql+/vubOnZvm69OnT9fs2bM1b948/fLLLypatKg6deqky5cvZ+l9CtRU7M2bN1fTpk01Z84cSZLdbldYWJgee+wxPfXUUxZXB0915swZBQUF6dtvv9Vtt91mdTnwQBcvXlSjRo30+uuv67nnnlODBg00c+ZMq8uCB3nqqaf0448/6vvvv7e6FHi47t27Kzg4WG+//bZj21133aXChQtr0aJFFlYGT2Kz2fTpp5+qd+/eksxRq7Jly+rxxx/XE088IUmKjY1VcHCwFi5cqHvuuSfT5y4wI1eJiYnatm2b2rdv79jm5eWl9u3ba9OmTRZWBk8XGxsrSSpdurTFlcBTPfroo+rWrZvTf98Ad1q5cqWaNGmiu+++W0FBQWrYsKEWLFhgdVnwQC1bttT69et16NAhSdKuXbv0ww8/qEuXLhZXBk929OhRRUVFOf09WrJkSTVv3jzLOaGQu4vLq86ePaukpCQFBwc7bQ8ODtaBAwcsqgqezm63a+TIkWrVqpXq1KljdTnwQEuWLNH27du1ZcsWq0uBBzty5IjeeOMNRUZGaty4cdqyZYuGDx8uX19fDRw40Ory4EGeeuopxcXFqWbNmvL29lZSUpKef/55DRgwwOrS4MGioqIkKc2ckPxaZhWYcAVY4dFHH9XevXv1ww8/WF0KPNAff/yhESNGaO3atfL397e6HHgwu92uJk2a6IUXXpAkNWzYUHv37tW8efMIV3Crjz76SB9++KEWL16sm2++WTt37tTIkSNVtmxZ+hryhQJzWWBgYKC8vb11+vRpp+2nT59WSEiIRVXBkw0bNkxffPGFNmzYoPLly1tdDjzQtm3bFB0drUaNGqlQoUIqVKiQvv32W82ePVuFChVSUlKS1SXCQ4SGhqp27dpO22rVqqUTJ05YVBE81ZNPPqmnnnpK99xzj+rWrav77rtPo0aN0tSpU60uDR4sOQu4IycUmHDl6+urxo0ba/369Y5tdrtd69evV4sWLSysDJ7GMAwNGzZMn376qb755htVqlTJ6pLgoe644w7t2bNHO3fudCxNmjTRgAEDtHPnTnl7e1tdIjxEq1atUj1S4tChQ6pYsaJFFcFTXbp0SV5ezv976u3tLbvdblFFKAgqVaqkkJAQp5wQFxenX375Jcs5oUBdFhgZGamBAweqSZMmatasmWbOnKn4+HgNHjzY6tLgQR599FEtXrxYK1asUPHixR3X6pYsWVKFCxe2uDp4kuLFi6e6l69o0aK66aabuMcPbjVq1Ci1bNlSL7zwgvr27avNmzdr/vz5mj9/vtWlwcP06NFDzz//vCpUqKCbb75ZO3bs0IwZM3T//fdbXRryuYsXL+r33393rB89elQ7d+5U6dKlVaFCBY0cOVLPPfecqlWrpkqVKmn8+PEqW7asY0bBzCpQU7FL0pw5c/TSSy8pKipKDRo00OzZs9W8eXOry4IHsdlsaW5/9913NWjQoNwtBgVO27ZtmYodOeKLL77Q2LFj9dtvv6lSpUqKjIzUkCFDrC4LHubChQsaP368Pv30U0VHR6ts2bLq37+/JkyYIF9fX6vLQz62ceNGtWvXLtX2gQMHauHChTIMQxMnTtT8+fMVExOjW2+9Va+//rqqV6+epfcpcOEKAAAAAHJCgbnnCgAAAAByEuEKAAAAANyAcAUAAAAAbkC4AgAAAAA3IFwBAAAAgBsQrgAAAADADQhXAAAAAOAGhCsAAAAAcAPCFQAgX7HZbPrss8+sLgMAgFQIVwCAPGHQoEGy2Wyy2Wzy8fFRcHCwOnTooHfeeUd2u92x36lTp9SlS5dMnZMgBgDITYQrAECe0blzZ506dUrHjh3T119/rXbt2mnEiBHq3r27rl69KkkKCQmRn5+fxZUCAJAa4QoAkGf4+fkpJCRE5cqVU6NGjTRu3DitWLFCX3/9tRYuXCjJeTQqMTFRw4YNU2hoqPz9/VWxYkVNnTpVkhQeHi5JuvPOO2Wz2Rzrhw8fVq9evRQcHKxixYqpadOmWrdunVMd4eHheuGFF3T//ferePHiqlChgubPn++0z59//qn+/furdOnSKlq0qJo0aaJffvnF8fqKFSvUqFEj+fv7q3Llypo0aZIjIAIAPBPhCgCQp91+++2qX7++Pvnkk1SvzZ49WytXrtRHH32kgwcP6sMPP3SEqC1btkiS3n33XZ06dcqxfvHiRXXt2lXr16/Xjh071LlzZ/Xo0UMnTpxwOvcrr7yiJk2aaMeOHXrkkUf08MMP6+DBg45ztGnTRidPntTKlSu1a9cujR492nH54vfff6+IiAiNGDFC+/bt05tvvqmFCxfq+eefz6mvCQCQBxSyugAAAG6kZs2a2r17d6rtJ06cULVq1XTrrbfKZrOpYsWKjtfKlCkjSSpVqpRCQkIc2+vXr6/69es71qdMmaJPP/1UK1eu1LBhwxzbu3btqkceeUSSNGbMGL366qvasGGDatSoocWLF+vMmTPasmWLSpcuLUmqWrWq49hJkybpqaee0sCBAyVJlStX1pQpUzR69GhNnDjRHV8JACAPIlwBAPI8wzBks9lSbR80aJA6dOigGjVqqHPnzurevbs6duyY4bkuXryoZ599Vl9++aVOnTqlq1ev6p9//kk1clWvXj1H22azKSQkRNHR0ZKknTt3qmHDho5gdb1du3bpxx9/dBqpSkpK0uXLl3Xp0iUVKVIk058dAJB/EK4AAHne/v37ValSpVTbGzVqpKNHj+rrr7/WunXr1LdvX7Vv317Lly9P91xPPPGE1q5dq5dffllVq1ZV4cKF1adPHyUmJjrt5+Pj47Rus9kcl/0VLlw4w3ovXryoSZMm6T//+U+q1/z9/TM8FgCQfxGuAAB52jfffKM9e/Zo1KhRab5eokQJ9evXT/369VOfPn3UuXNnnTt3TqVLl5aPj4+SkpKc9v/xxx81aNAg3XnnnZLMIHTs2LEs1VSvXj299dZbjve5XqNGjXTw4EGnSwUBAJ6PcAUAyDMSEhIUFRWlpKQknT59WqtWrdLUqVPVvXt3RUREpNp/xowZCg0NVcOGDeXl5aVly5YpJCREpUqVkmTO+rd+/Xq1atVKfn5+CggIULVq1fTJJ5+oR48estlsGj9+vNNztDKjf//+euGFF9S7d29NnTpVoaGh2rFjh8qWLasWLVpowoQJ6t69uypUqKA+ffrIy8tLu3bt0t69e/Xcc8+546sCAORBzBYIAMgzVq1apdDQUIWHh6tz587asGGDZs+erRUrVsjb2zvV/sWLF9f06dPVpEkTNW3aVMeOHdNXX30lLy/zr7dXXnlFa9euVVhYmBo2bCjJDGQBAQFq2bKlevTooU6dOqlRo0ZZqtPX11dr1qxRUFCQunbtqrp16+rFF1901NipUyd98cUXWrNmjZo2bapbbrlFr776qtOEGwAAz2MzDMOwuggAAAAAyO8YuQIAAAAANyBcAQAAAIAbEK4AAAAAwA0IVwAAAADgBoQrAAAAAHADwhUAAAAAuAHhCgAAAADcgHAFAAAAAG5AuAIAAAAANyBcAQAAAIAbEK4AAAAAwA3+H8SfuvkahkD1AAAAAElFTkSuQmCC\n"
                },
                "metadata": {}
              }
            ]
          }
        },
        "adb01073dd174779a6f8775e81459bab": {
          "model_module": "@jupyter-widgets/base",
          "model_name": "LayoutModel",
          "model_module_version": "1.2.0",
          "state": {
            "_model_module": "@jupyter-widgets/base",
            "_model_module_version": "1.2.0",
            "_model_name": "LayoutModel",
            "_view_count": null,
            "_view_module": "@jupyter-widgets/base",
            "_view_module_version": "1.2.0",
            "_view_name": "LayoutView",
            "align_content": null,
            "align_items": null,
            "align_self": null,
            "border": null,
            "bottom": null,
            "display": null,
            "flex": null,
            "flex_flow": null,
            "grid_area": null,
            "grid_auto_columns": null,
            "grid_auto_flow": null,
            "grid_auto_rows": null,
            "grid_column": null,
            "grid_gap": null,
            "grid_row": null,
            "grid_template_areas": null,
            "grid_template_columns": null,
            "grid_template_rows": null,
            "height": null,
            "justify_content": null,
            "justify_items": null,
            "left": null,
            "margin": null,
            "max_height": null,
            "max_width": null,
            "min_height": null,
            "min_width": null,
            "object_fit": null,
            "object_position": null,
            "order": null,
            "overflow": null,
            "overflow_x": null,
            "overflow_y": null,
            "padding": null,
            "right": null,
            "top": null,
            "visibility": null,
            "width": null
          }
        },
        "773a66bfbd21470e9f88076bb36f918b": {
          "model_module": "@jupyter-widgets/base",
          "model_name": "LayoutModel",
          "model_module_version": "1.2.0",
          "state": {
            "_model_module": "@jupyter-widgets/base",
            "_model_module_version": "1.2.0",
            "_model_name": "LayoutModel",
            "_view_count": null,
            "_view_module": "@jupyter-widgets/base",
            "_view_module_version": "1.2.0",
            "_view_name": "LayoutView",
            "align_content": null,
            "align_items": null,
            "align_self": null,
            "border": null,
            "bottom": null,
            "display": null,
            "flex": null,
            "flex_flow": null,
            "grid_area": null,
            "grid_auto_columns": null,
            "grid_auto_flow": null,
            "grid_auto_rows": null,
            "grid_column": null,
            "grid_gap": null,
            "grid_row": null,
            "grid_template_areas": null,
            "grid_template_columns": null,
            "grid_template_rows": null,
            "height": null,
            "justify_content": null,
            "justify_items": null,
            "left": null,
            "margin": null,
            "max_height": null,
            "max_width": null,
            "min_height": null,
            "min_width": null,
            "object_fit": null,
            "object_position": null,
            "order": null,
            "overflow": null,
            "overflow_x": null,
            "overflow_y": null,
            "padding": null,
            "right": null,
            "top": null,
            "visibility": null,
            "width": null
          }
        },
        "d620e50cfeee421bb640532dc2dcf2e9": {
          "model_module": "@jupyter-widgets/controls",
          "model_name": "SliderStyleModel",
          "model_module_version": "1.5.0",
          "state": {
            "_model_module": "@jupyter-widgets/controls",
            "_model_module_version": "1.5.0",
            "_model_name": "SliderStyleModel",
            "_view_count": null,
            "_view_module": "@jupyter-widgets/base",
            "_view_module_version": "1.2.0",
            "_view_name": "StyleView",
            "description_width": "",
            "handle_color": null
          }
        },
        "ceb3498315cd403db0a30757bc22a800": {
          "model_module": "@jupyter-widgets/base",
          "model_name": "LayoutModel",
          "model_module_version": "1.2.0",
          "state": {
            "_model_module": "@jupyter-widgets/base",
            "_model_module_version": "1.2.0",
            "_model_name": "LayoutModel",
            "_view_count": null,
            "_view_module": "@jupyter-widgets/base",
            "_view_module_version": "1.2.0",
            "_view_name": "LayoutView",
            "align_content": null,
            "align_items": null,
            "align_self": null,
            "border": null,
            "bottom": null,
            "display": null,
            "flex": null,
            "flex_flow": null,
            "grid_area": null,
            "grid_auto_columns": null,
            "grid_auto_flow": null,
            "grid_auto_rows": null,
            "grid_column": null,
            "grid_gap": null,
            "grid_row": null,
            "grid_template_areas": null,
            "grid_template_columns": null,
            "grid_template_rows": null,
            "height": null,
            "justify_content": null,
            "justify_items": null,
            "left": null,
            "margin": null,
            "max_height": null,
            "max_width": null,
            "min_height": null,
            "min_width": null,
            "object_fit": null,
            "object_position": null,
            "order": null,
            "overflow": null,
            "overflow_x": null,
            "overflow_y": null,
            "padding": null,
            "right": null,
            "top": null,
            "visibility": null,
            "width": null
          }
        }
      }
    }
  },
  "nbformat": 4,
  "nbformat_minor": 5
}
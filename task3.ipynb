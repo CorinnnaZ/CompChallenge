{
  "cells": [
    {
      "cell_type": "markdown",
      "metadata": {
        "id": "view-in-github",
        "colab_type": "text"
      },
      "source": [
        "<a href=\"https://colab.research.google.com/github/CorinnnaZ/CompPhysChallenge/blob/main/task3.ipynb\" target=\"_parent\"><img src=\"https://colab.research.google.com/assets/colab-badge.svg\" alt=\"Open In Colab\"/></a>"
      ]
    },
    {
      "cell_type": "markdown",
      "source": [
        "# Task 3\n",
        "\n",
        "## Remaining Tasks\n",
        "- There is an empty plot in the third cell, which I can manually remove but don't really like (should remove)\n",
        "- *More importantly*, there needs to be an error message that y cannot exceed L in the interactive function\n",
        "- For the ending message to show that Snell's Law is true, it doesn't change dynamically as the points change, so maybe include this within the plotting_function so that this can work dynamically"
      ],
      "metadata": {
        "id": "wLuTAUCih_Er"
      },
      "id": "wLuTAUCih_Er"
    },
    {
      "cell_type": "code",
      "source": [
        "%pip install sympy\n",
        "import numpy as np\n",
        "import matplotlib.pyplot as plt\n",
        "import sympy as sym\n",
        "from scipy.optimize import fsolve, minimize_scalar\n",
        "import ipywidgets as ipy"
      ],
      "metadata": {
        "colab": {
          "base_uri": "https://localhost:8080/"
        },
        "id": "eSHnG56vrJjl",
        "outputId": "a469cf2a-52c3-4034-915e-c965d52c2b9d"
      },
      "id": "eSHnG56vrJjl",
      "execution_count": 154,
      "outputs": [
        {
          "output_type": "stream",
          "name": "stdout",
          "text": [
            "Requirement already satisfied: sympy in /usr/local/lib/python3.11/dist-packages (1.13.1)\n",
            "Requirement already satisfied: mpmath<1.4,>=1.1.0 in /usr/local/lib/python3.11/dist-packages (from sympy) (1.3.0)\n"
          ]
        }
      ]
    },
    {
      "cell_type": "code",
      "source": [
        "x, y, c, n, L = sym.symbols('x y c n L', real=True)\n",
        "f = (sym.sqrt(x**2 + y**2))/(c/n) + (sym.sqrt((L-x)**2+y**2))/(c/n)\n",
        "dfdx = sym.diff(f,x) # derivative\n",
        "\n",
        "\n",
        "print(f\"f(x) = {f}\\nf'(x) = {dfdx}\")\n",
        "\n",
        "f_x = sym.lambdify((x, y, c, n, L), f)\n",
        "df_dx = sym.lambdify((x, y, c, n, L), dfdx)\n",
        "\n",
        "f_x(1, 2, 3, 4, 5)"
      ],
      "metadata": {
        "colab": {
          "base_uri": "https://localhost:8080/"
        },
        "id": "kRmi90gSiGaX",
        "outputId": "87306d35-2855-434b-fa36-5d24fd5e9f75"
      },
      "id": "kRmi90gSiGaX",
      "execution_count": 177,
      "outputs": [
        {
          "output_type": "stream",
          "name": "stdout",
          "text": [
            "f(x) = n*sqrt(x**2 + y**2)/c + n*sqrt(y**2 + (L - x)**2)/c\n",
            "f'(x) = n*x/(c*sqrt(x**2 + y**2)) + n*(-L + x)/(c*sqrt(y**2 + (L - x)**2))\n"
          ]
        },
        {
          "output_type": "execute_result",
          "data": {
            "text/plain": [
              "np.float64(8.94427190999916)"
            ]
          },
          "metadata": {},
          "execution_count": 177
        }
      ]
    },
    {
      "cell_type": "code",
      "source": [
        "\"\"\"\n",
        "# constants\n",
        "L_val = 89\n",
        "c_val = 0.05\n",
        "n_val = 1.43 # air\n",
        "y_val = 1.6 # some constant\n",
        "\"\"\"\n",
        "\n",
        "fig, ax = plt.subplots(figsize=(5,5)) # set figsize if need be\n",
        "\n",
        "# x\n",
        "x = np.linspace(0, L_val, 100) # length 0 to length L\n",
        "\n",
        "# plotting\n",
        "def plotting_function(y_val, n_val, L_val):\n",
        "    # stops overlapping graphs from being produced\n",
        "    ax.clear()\n",
        "    # Define 't' as a callable function\n",
        "\n",
        "    def t(x_input):\n",
        "        return f_x(x_input, y_val, 3e8, n_val, L_val)\n",
        "\n",
        "    # x\n",
        "    x = np.linspace(0, L_val, 100)\n",
        "\n",
        "    ax.plot(x, t(x), label=\"f(x)\")\n",
        "\n",
        "    # optimal path\n",
        "    result = minimize_scalar(t, bounds=(0, L_val), method=\"bounded\")\n",
        "    optimal_x = result.x\n",
        "    min_time = result.fun # reading the function from it\n",
        "\n",
        "    #ax.plot(x, dtdx(x), label=\"f'(x)\")\n",
        "    ax.axhline(y=min_time,color='r', linestyle=\"--\", label=f\"minimum_time = {min_time:.4f}s\")\n",
        "    ax.axvline(x=optimal_x, color='r', linestyle='--', label=f\"minimising x value = {optimal_x:.4f}\")\n",
        "\n",
        "    ax.set_xlabel(\"Length (m)\")\n",
        "    ax.set_ylabel(\"Time (s)\")\n",
        "    ax.legend(fancybox=True, bbox_to_anchor=(1.5, 1), loc = 'upper right', fontsize='small')\n",
        "\n",
        "    ax.set_xlim(0, L_val)\n",
        "    #ax.set_ylim(min(t(x))-(max(t(x))-min(t(x))/5), max(t(x))+(max(t(x))-min(t(x))/5))\n",
        "    ax.grid()\n",
        "\n",
        "    # redraw figure rather than doing plt.show()\n",
        "    display(fig)\n",
        "\n",
        "\"\"\"\n",
        "# derivative function\n",
        "def dtdx(x):\n",
        "    return df_dx(x, y_val, c_val, n_val, L_val)\n",
        "\"\"\""
      ],
      "metadata": {
        "id": "_dYrJKI5W-iF"
      },
      "id": "_dYrJKI5W-iF",
      "execution_count": null,
      "outputs": []
    },
    {
      "cell_type": "code",
      "source": [
        "ipy.interact(plotting_function, y_val=(0,100,1), n_val=(0,5,0.25), L_val=(0,100, 1))\n",
        "\n",
        "# evaluation\n",
        "sig_fig = 3\n",
        "print(f\"The value of x that minimises t is {optimal_x:.{sig_fig}f} to {sig_fig} significant figures.\\nHalf of the total length equals {L_val/2}.\\nBy observation, since these values remain the same even whilst changing the values, it verifies Snell's Law of Reflection.\")"
      ],
      "metadata": {
        "colab": {
          "base_uri": "https://localhost:8080/",
          "height": 630,
          "referenced_widgets": [
            "171b8de749c74c2b9323c979c48c283a",
            "8f36912a84a54d789dfc7ed820e0ef3f",
            "1da197ff142d4577bac4266acb488944",
            "2ff7a92453c648cca668d9c88c817ea0",
            "3b620943cdc94329800d07b9281f730b",
            "5239be5bd6a849dcb13a894cdd88e9b6",
            "e3a25c6c2baa48169687834930ff591a",
            "4e75cfd2201e4f909a57a3c0a20d1124",
            "43f4265b3fcb4675b37a2d763ad6bef1",
            "9130f2834bea43bfa04c5894a1757015",
            "9b5c635878e447839ea6991c022edd2f",
            "9a69e6d44c864bc4afc48a1de54dc9fe",
            "6621c56baa7841719b096e3fff57e5bb"
          ]
        },
        "id": "knFBi-R4S8TA",
        "outputId": "257e1bd8-d5e2-4681-9fbd-821d4d25b563"
      },
      "id": "knFBi-R4S8TA",
      "execution_count": 215,
      "outputs": [
        {
          "output_type": "display_data",
          "data": {
            "text/plain": [
              "interactive(children=(IntSlider(value=50, description='y_val'), FloatSlider(value=2.0, description='n_val', ma…"
            ],
            "application/vnd.jupyter.widget-view+json": {
              "version_major": 2,
              "version_minor": 0,
              "model_id": "171b8de749c74c2b9323c979c48c283a"
            }
          },
          "metadata": {}
        },
        {
          "output_type": "stream",
          "name": "stdout",
          "text": [
            "The value of x that minimises t is 44.500 to 3 significant figures.\n",
            "Half of the total length equals 44.5.\n",
            "By observation, since these values remain the same even whilst changing the values, it verifies Snell's Law of Reflection.\n"
          ]
        }
      ]
    }
  ],
  "metadata": {
    "kernelspec": {
      "display_name": "Python 3 (ipykernel)",
      "language": "python",
      "name": "python3"
    },
    "language_info": {
      "codemirror_mode": {
        "name": "ipython",
        "version": 3
      },
      "file_extension": ".py",
      "mimetype": "text/x-python",
      "name": "python",
      "nbconvert_exporter": "python",
      "pygments_lexer": "ipython3",
      "version": "3.12.1"
    },
    "colab": {
      "provenance": [],
      "include_colab_link": true
    },
    "widgets": {
      "application/vnd.jupyter.widget-state+json": {
        "171b8de749c74c2b9323c979c48c283a": {
          "model_module": "@jupyter-widgets/controls",
          "model_name": "VBoxModel",
          "model_module_version": "1.5.0",
          "state": {
            "_dom_classes": [
              "widget-interact"
            ],
            "_model_module": "@jupyter-widgets/controls",
            "_model_module_version": "1.5.0",
            "_model_name": "VBoxModel",
            "_view_count": null,
            "_view_module": "@jupyter-widgets/controls",
            "_view_module_version": "1.5.0",
            "_view_name": "VBoxView",
            "box_style": "",
            "children": [
              "IPY_MODEL_8f36912a84a54d789dfc7ed820e0ef3f",
              "IPY_MODEL_1da197ff142d4577bac4266acb488944",
              "IPY_MODEL_2ff7a92453c648cca668d9c88c817ea0",
              "IPY_MODEL_3b620943cdc94329800d07b9281f730b"
            ],
            "layout": "IPY_MODEL_5239be5bd6a849dcb13a894cdd88e9b6"
          }
        },
        "8f36912a84a54d789dfc7ed820e0ef3f": {
          "model_module": "@jupyter-widgets/controls",
          "model_name": "IntSliderModel",
          "model_module_version": "1.5.0",
          "state": {
            "_dom_classes": [],
            "_model_module": "@jupyter-widgets/controls",
            "_model_module_version": "1.5.0",
            "_model_name": "IntSliderModel",
            "_view_count": null,
            "_view_module": "@jupyter-widgets/controls",
            "_view_module_version": "1.5.0",
            "_view_name": "IntSliderView",
            "continuous_update": true,
            "description": "y_val",
            "description_tooltip": null,
            "disabled": false,
            "layout": "IPY_MODEL_e3a25c6c2baa48169687834930ff591a",
            "max": 100,
            "min": 0,
            "orientation": "horizontal",
            "readout": true,
            "readout_format": "d",
            "step": 1,
            "style": "IPY_MODEL_4e75cfd2201e4f909a57a3c0a20d1124",
            "value": 20
          }
        },
        "1da197ff142d4577bac4266acb488944": {
          "model_module": "@jupyter-widgets/controls",
          "model_name": "FloatSliderModel",
          "model_module_version": "1.5.0",
          "state": {
            "_dom_classes": [],
            "_model_module": "@jupyter-widgets/controls",
            "_model_module_version": "1.5.0",
            "_model_name": "FloatSliderModel",
            "_view_count": null,
            "_view_module": "@jupyter-widgets/controls",
            "_view_module_version": "1.5.0",
            "_view_name": "FloatSliderView",
            "continuous_update": true,
            "description": "n_val",
            "description_tooltip": null,
            "disabled": false,
            "layout": "IPY_MODEL_43f4265b3fcb4675b37a2d763ad6bef1",
            "max": 5,
            "min": 0,
            "orientation": "horizontal",
            "readout": true,
            "readout_format": ".2f",
            "step": 0.25,
            "style": "IPY_MODEL_9130f2834bea43bfa04c5894a1757015",
            "value": 1.25
          }
        },
        "2ff7a92453c648cca668d9c88c817ea0": {
          "model_module": "@jupyter-widgets/controls",
          "model_name": "IntSliderModel",
          "model_module_version": "1.5.0",
          "state": {
            "_dom_classes": [],
            "_model_module": "@jupyter-widgets/controls",
            "_model_module_version": "1.5.0",
            "_model_name": "IntSliderModel",
            "_view_count": null,
            "_view_module": "@jupyter-widgets/controls",
            "_view_module_version": "1.5.0",
            "_view_name": "IntSliderView",
            "continuous_update": true,
            "description": "L_val",
            "description_tooltip": null,
            "disabled": false,
            "layout": "IPY_MODEL_9b5c635878e447839ea6991c022edd2f",
            "max": 100,
            "min": 0,
            "orientation": "horizontal",
            "readout": true,
            "readout_format": "d",
            "step": 1,
            "style": "IPY_MODEL_9a69e6d44c864bc4afc48a1de54dc9fe",
            "value": 50
          }
        },
        "3b620943cdc94329800d07b9281f730b": {
          "model_module": "@jupyter-widgets/output",
          "model_name": "OutputModel",
          "model_module_version": "1.0.0",
          "state": {
            "_dom_classes": [],
            "_model_module": "@jupyter-widgets/output",
            "_model_module_version": "1.0.0",
            "_model_name": "OutputModel",
            "_view_count": null,
            "_view_module": "@jupyter-widgets/output",
            "_view_module_version": "1.0.0",
            "_view_name": "OutputView",
            "layout": "IPY_MODEL_6621c56baa7841719b096e3fff57e5bb",
            "msg_id": "",
            "outputs": [
              {
                "output_type": "display_data",
                "data": {
                  "text/plain": "<Figure size 500x500 with 1 Axes>",
                  "image/png": "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\n"
                },
                "metadata": {}
              }
            ]
          }
        },
        "5239be5bd6a849dcb13a894cdd88e9b6": {
          "model_module": "@jupyter-widgets/base",
          "model_name": "LayoutModel",
          "model_module_version": "1.2.0",
          "state": {
            "_model_module": "@jupyter-widgets/base",
            "_model_module_version": "1.2.0",
            "_model_name": "LayoutModel",
            "_view_count": null,
            "_view_module": "@jupyter-widgets/base",
            "_view_module_version": "1.2.0",
            "_view_name": "LayoutView",
            "align_content": null,
            "align_items": null,
            "align_self": null,
            "border": null,
            "bottom": null,
            "display": null,
            "flex": null,
            "flex_flow": null,
            "grid_area": null,
            "grid_auto_columns": null,
            "grid_auto_flow": null,
            "grid_auto_rows": null,
            "grid_column": null,
            "grid_gap": null,
            "grid_row": null,
            "grid_template_areas": null,
            "grid_template_columns": null,
            "grid_template_rows": null,
            "height": null,
            "justify_content": null,
            "justify_items": null,
            "left": null,
            "margin": null,
            "max_height": null,
            "max_width": null,
            "min_height": null,
            "min_width": null,
            "object_fit": null,
            "object_position": null,
            "order": null,
            "overflow": null,
            "overflow_x": null,
            "overflow_y": null,
            "padding": null,
            "right": null,
            "top": null,
            "visibility": null,
            "width": null
          }
        },
        "e3a25c6c2baa48169687834930ff591a": {
          "model_module": "@jupyter-widgets/base",
          "model_name": "LayoutModel",
          "model_module_version": "1.2.0",
          "state": {
            "_model_module": "@jupyter-widgets/base",
            "_model_module_version": "1.2.0",
            "_model_name": "LayoutModel",
            "_view_count": null,
            "_view_module": "@jupyter-widgets/base",
            "_view_module_version": "1.2.0",
            "_view_name": "LayoutView",
            "align_content": null,
            "align_items": null,
            "align_self": null,
            "border": null,
            "bottom": null,
            "display": null,
            "flex": null,
            "flex_flow": null,
            "grid_area": null,
            "grid_auto_columns": null,
            "grid_auto_flow": null,
            "grid_auto_rows": null,
            "grid_column": null,
            "grid_gap": null,
            "grid_row": null,
            "grid_template_areas": null,
            "grid_template_columns": null,
            "grid_template_rows": null,
            "height": null,
            "justify_content": null,
            "justify_items": null,
            "left": null,
            "margin": null,
            "max_height": null,
            "max_width": null,
            "min_height": null,
            "min_width": null,
            "object_fit": null,
            "object_position": null,
            "order": null,
            "overflow": null,
            "overflow_x": null,
            "overflow_y": null,
            "padding": null,
            "right": null,
            "top": null,
            "visibility": null,
            "width": null
          }
        },
        "4e75cfd2201e4f909a57a3c0a20d1124": {
          "model_module": "@jupyter-widgets/controls",
          "model_name": "SliderStyleModel",
          "model_module_version": "1.5.0",
          "state": {
            "_model_module": "@jupyter-widgets/controls",
            "_model_module_version": "1.5.0",
            "_model_name": "SliderStyleModel",
            "_view_count": null,
            "_view_module": "@jupyter-widgets/base",
            "_view_module_version": "1.2.0",
            "_view_name": "StyleView",
            "description_width": "",
            "handle_color": null
          }
        },
        "43f4265b3fcb4675b37a2d763ad6bef1": {
          "model_module": "@jupyter-widgets/base",
          "model_name": "LayoutModel",
          "model_module_version": "1.2.0",
          "state": {
            "_model_module": "@jupyter-widgets/base",
            "_model_module_version": "1.2.0",
            "_model_name": "LayoutModel",
            "_view_count": null,
            "_view_module": "@jupyter-widgets/base",
            "_view_module_version": "1.2.0",
            "_view_name": "LayoutView",
            "align_content": null,
            "align_items": null,
            "align_self": null,
            "border": null,
            "bottom": null,
            "display": null,
            "flex": null,
            "flex_flow": null,
            "grid_area": null,
            "grid_auto_columns": null,
            "grid_auto_flow": null,
            "grid_auto_rows": null,
            "grid_column": null,
            "grid_gap": null,
            "grid_row": null,
            "grid_template_areas": null,
            "grid_template_columns": null,
            "grid_template_rows": null,
            "height": null,
            "justify_content": null,
            "justify_items": null,
            "left": null,
            "margin": null,
            "max_height": null,
            "max_width": null,
            "min_height": null,
            "min_width": null,
            "object_fit": null,
            "object_position": null,
            "order": null,
            "overflow": null,
            "overflow_x": null,
            "overflow_y": null,
            "padding": null,
            "right": null,
            "top": null,
            "visibility": null,
            "width": null
          }
        },
        "9130f2834bea43bfa04c5894a1757015": {
          "model_module": "@jupyter-widgets/controls",
          "model_name": "SliderStyleModel",
          "model_module_version": "1.5.0",
          "state": {
            "_model_module": "@jupyter-widgets/controls",
            "_model_module_version": "1.5.0",
            "_model_name": "SliderStyleModel",
            "_view_count": null,
            "_view_module": "@jupyter-widgets/base",
            "_view_module_version": "1.2.0",
            "_view_name": "StyleView",
            "description_width": "",
            "handle_color": null
          }
        },
        "9b5c635878e447839ea6991c022edd2f": {
          "model_module": "@jupyter-widgets/base",
          "model_name": "LayoutModel",
          "model_module_version": "1.2.0",
          "state": {
            "_model_module": "@jupyter-widgets/base",
            "_model_module_version": "1.2.0",
            "_model_name": "LayoutModel",
            "_view_count": null,
            "_view_module": "@jupyter-widgets/base",
            "_view_module_version": "1.2.0",
            "_view_name": "LayoutView",
            "align_content": null,
            "align_items": null,
            "align_self": null,
            "border": null,
            "bottom": null,
            "display": null,
            "flex": null,
            "flex_flow": null,
            "grid_area": null,
            "grid_auto_columns": null,
            "grid_auto_flow": null,
            "grid_auto_rows": null,
            "grid_column": null,
            "grid_gap": null,
            "grid_row": null,
            "grid_template_areas": null,
            "grid_template_columns": null,
            "grid_template_rows": null,
            "height": null,
            "justify_content": null,
            "justify_items": null,
            "left": null,
            "margin": null,
            "max_height": null,
            "max_width": null,
            "min_height": null,
            "min_width": null,
            "object_fit": null,
            "object_position": null,
            "order": null,
            "overflow": null,
            "overflow_x": null,
            "overflow_y": null,
            "padding": null,
            "right": null,
            "top": null,
            "visibility": null,
            "width": null
          }
        },
        "9a69e6d44c864bc4afc48a1de54dc9fe": {
          "model_module": "@jupyter-widgets/controls",
          "model_name": "SliderStyleModel",
          "model_module_version": "1.5.0",
          "state": {
            "_model_module": "@jupyter-widgets/controls",
            "_model_module_version": "1.5.0",
            "_model_name": "SliderStyleModel",
            "_view_count": null,
            "_view_module": "@jupyter-widgets/base",
            "_view_module_version": "1.2.0",
            "_view_name": "StyleView",
            "description_width": "",
            "handle_color": null
          }
        },
        "6621c56baa7841719b096e3fff57e5bb": {
          "model_module": "@jupyter-widgets/base",
          "model_name": "LayoutModel",
          "model_module_version": "1.2.0",
          "state": {
            "_model_module": "@jupyter-widgets/base",
            "_model_module_version": "1.2.0",
            "_model_name": "LayoutModel",
            "_view_count": null,
            "_view_module": "@jupyter-widgets/base",
            "_view_module_version": "1.2.0",
            "_view_name": "LayoutView",
            "align_content": null,
            "align_items": null,
            "align_self": null,
            "border": null,
            "bottom": null,
            "display": null,
            "flex": null,
            "flex_flow": null,
            "grid_area": null,
            "grid_auto_columns": null,
            "grid_auto_flow": null,
            "grid_auto_rows": null,
            "grid_column": null,
            "grid_gap": null,
            "grid_row": null,
            "grid_template_areas": null,
            "grid_template_columns": null,
            "grid_template_rows": null,
            "height": null,
            "justify_content": null,
            "justify_items": null,
            "left": null,
            "margin": null,
            "max_height": null,
            "max_width": null,
            "min_height": null,
            "min_width": null,
            "object_fit": null,
            "object_position": null,
            "order": null,
            "overflow": null,
            "overflow_x": null,
            "overflow_y": null,
            "padding": null,
            "right": null,
            "top": null,
            "visibility": null,
            "width": null
          }
        }
      }
    }
  },
  "nbformat": 4,
  "nbformat_minor": 5
}
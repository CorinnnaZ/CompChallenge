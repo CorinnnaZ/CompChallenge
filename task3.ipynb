{
  "cells": [
    {
      "cell_type": "markdown",
      "source": [
        "# Task 3\n",
        "\n",
        "- Add slider function: https://www.youtube.com/watch?v=jWT-HXv0LUQ\n",
        "- Have some way in the output of the code to show that this x_value is the same as L/2, even when the slider functions changes these points -- indicating its truth.\n",
        "---------------\n",
        "\n",
        "Once added this, I can move onto task 4\n",
        "\n",
        "**Remove all writing once completed**"
      ],
      "metadata": {
        "id": "wLuTAUCih_Er"
      },
      "id": "wLuTAUCih_Er"
    },
    {
      "cell_type": "code",
      "source": [
        "%pip install sympy\n",
        "import numpy as np\n",
        "import matplotlib.pyplot as plt\n",
        "import sympy as sym\n",
        "from scipy.optimize import fsolve, minimize_scalar\n",
        "import ipywidgets as ipy"
      ],
      "metadata": {
        "colab": {
          "base_uri": "https://localhost:8080/"
        },
        "id": "eSHnG56vrJjl",
        "outputId": "a469cf2a-52c3-4034-915e-c965d52c2b9d"
      },
      "id": "eSHnG56vrJjl",
      "execution_count": 154,
      "outputs": [
        {
          "output_type": "stream",
          "name": "stdout",
          "text": [
            "Requirement already satisfied: sympy in /usr/local/lib/python3.11/dist-packages (1.13.1)\n",
            "Requirement already satisfied: mpmath<1.4,>=1.1.0 in /usr/local/lib/python3.11/dist-packages (from sympy) (1.3.0)\n"
          ]
        }
      ]
    },
    {
      "cell_type": "code",
      "source": [
        "x, y, c, n, L = sym.symbols('x y c n L', real=True)\n",
        "f = (sym.sqrt(x**2 + y**2))/(c/n) + (sym.sqrt((L-x)**2+y**2))/(c/n)\n",
        "dfdx = sym.diff(f,x) # derivative\n",
        "\n",
        "\n",
        "print(f\"f(x) = {f}\\nf'(x) = {dfdx}\")\n",
        "\n",
        "f_x = sym.lambdify((x, y, c, n, L), f)\n",
        "df_dx = sym.lambdify((x, y, c, n, L), dfdx)\n",
        "\n",
        "f_x(1, 2, 3, 4, 5)"
      ],
      "metadata": {
        "colab": {
          "base_uri": "https://localhost:8080/"
        },
        "id": "kRmi90gSiGaX",
        "outputId": "87306d35-2855-434b-fa36-5d24fd5e9f75"
      },
      "id": "kRmi90gSiGaX",
      "execution_count": 177,
      "outputs": [
        {
          "output_type": "stream",
          "name": "stdout",
          "text": [
            "f(x) = n*sqrt(x**2 + y**2)/c + n*sqrt(y**2 + (L - x)**2)/c\n",
            "f'(x) = n*x/(c*sqrt(x**2 + y**2)) + n*(-L + x)/(c*sqrt(y**2 + (L - x)**2))\n"
          ]
        },
        {
          "output_type": "execute_result",
          "data": {
            "text/plain": [
              "np.float64(8.94427190999916)"
            ]
          },
          "metadata": {},
          "execution_count": 177
        }
      ]
    },
    {
      "cell_type": "code",
      "source": [
        "\"\"\"\n",
        "# constants\n",
        "L_val = 89\n",
        "c_val = 0.05\n",
        "n_val = 1.43 # air\n",
        "y_val = 1.6 # some constant\n",
        "\"\"\"\n",
        "\n",
        "fig, ax = plt.subplots(figsize=(5,5)) # set figsize if need be\n",
        "\n",
        "# x\n",
        "x = np.linspace(0, L_val, 100) # length 0 to length L\n",
        "\n",
        "# plotting\n",
        "def plotting_function(y_val, n_val, L_val):\n",
        "    # stops overlapping graphs from being produced\n",
        "    ax.clear()\n",
        "    # Define 't' as a callable function\n",
        "\n",
        "    def t(x_input):\n",
        "        return f_x(x_input, y_val, 3e8, n_val, L_val)\n",
        "\n",
        "    # x\n",
        "    x = np.linspace(0, L_val, 100)\n",
        "\n",
        "    ax.plot(x, t(x), label=\"f(x)\")\n",
        "\n",
        "    # optimal path\n",
        "    result = minimize_scalar(t, bounds=(0, L_val), method=\"bounded\")\n",
        "    optimal_x = result.x\n",
        "    min_time = result.fun # reading the function from it\n",
        "\n",
        "    #ax.plot(x, dtdx(x), label=\"f'(x)\")\n",
        "    ax.axhline(y=min_time,color='r', linestyle=\"--\", label=f\"minimum_time = {min_time:.4f}s\")\n",
        "    ax.axvline(x=optimal_x, color='r', linestyle='--', label=f\"minimising x value = {optimal_x:.4f}\")\n",
        "\n",
        "    ax.set_xlabel(\"Length (m)\")\n",
        "    ax.set_ylabel(\"Time (s)\")\n",
        "    ax.legend(fancybox=True, bbox_to_anchor=(1.5, 1), loc = 'upper right', fontsize='small')\n",
        "\n",
        "    ax.set_xlim(0, L_val)\n",
        "    #ax.set_ylim(min(t(x))-(max(t(x))-min(t(x))/5), max(t(x))+(max(t(x))-min(t(x))/5))\n",
        "    ax.grid()\n",
        "\n",
        "    # redraw figure rather than doing plt.show()\n",
        "    display(fig)\n",
        "\n",
        "\n",
        "\"\"\"\n",
        "# derivative function\n",
        "def dtdx(x):\n",
        "    return df_dx(x, y_val, c_val, n_val, L_val)\n",
        "\"\"\""
      ],
      "metadata": {
        "colab": {
          "base_uri": "https://localhost:8080/",
          "height": 470
        },
        "id": "_dYrJKI5W-iF",
        "outputId": "b21642f5-8111-461c-9397-ae119f08992a"
      },
      "id": "_dYrJKI5W-iF",
      "execution_count": 211,
      "outputs": [
        {
          "output_type": "execute_result",
          "data": {
            "text/plain": [
              "'\\n# derivative function\\ndef dtdx(x):\\n    return df_dx(x, y_val, c_val, n_val, L_val)\\n'"
            ],
            "application/vnd.google.colaboratory.intrinsic+json": {
              "type": "string"
            }
          },
          "metadata": {},
          "execution_count": 211
        },
        {
          "output_type": "display_data",
          "data": {
            "text/plain": [
              "<Figure size 500x500 with 1 Axes>"
            ],
            "image/png": "[encoded data removed]"
          },
          "metadata": {}
        }
      ]
    },
    {
      "cell_type": "code",
      "source": [
        "ipy.interact(plotting_function, y_val=(0,100,1), n_val=(0,5,0.25), L_val=(0,100, 1))"
      ],
      "metadata": {
        "colab": {
          "base_uri": "https://localhost:8080/",
          "height": 662,
          "referenced_widgets": [
            "29e6ae13170d43198e8247a37ed0d2f5",
            "518706785c934bee9103da46dc9738b0",
            "43b177108166423e8012a330a8f28ae5",
            "848fef8d2b034f5aa0a2d592a93e1c62",
            "29e58486418c4a8a87eb649af83e0bee",
            "fdefaf2b2ec241b59f07fd72e94c7f02",
            "2a43b70bfdde48c9952fed346ae90314",
            "155f404d43b746b893149808ff820d2b",
            "41e359d4d9ce4439b88e9ca164b583e5",
            "85cadc2c5ee6408197934bfc5c9bc4ff",
            "f263176b2c1d42fd8c5217bcd30232e0",
            "bdd05d72b07b4631a10271c0adde5988",
            "1a4ac568cc0f49ce9e37b5330d8974e8"
          ]
        },
        "id": "knFBi-R4S8TA",
        "outputId": "08673ab8-d2d7-4502-cc28-ef9b800615bd"
      },
      "id": "knFBi-R4S8TA",
      "execution_count": 213,
      "outputs": [
        {
          "output_type": "display_data",
          "data": {
            "text/plain": [
              "interactive(children=(IntSlider(value=50, description='y_val'), FloatSlider(value=2.0, description='n_val', ma…"
            ],
            "application/vnd.jupyter.widget-view+json": {
              "version_major": 2,
              "version_minor": 0,
              "model_id": "29e6ae13170d43198e8247a37ed0d2f5"
            }
          },
          "metadata": {}
        },
        {
          "output_type": "execute_result",
          "data": {
            "text/plain": [
              "<function __main__.plotting_function(y_val, n_val, L_val)>"
            ],
            "text/html": [
              "<div style=\"max-width:800px; border: 1px solid var(--colab-border-color);\"><style>\n",
              "      pre.function-repr-contents {\n",
              "        overflow-x: auto;\n",
              "        padding: 8px 12px;\n",
              "        max-height: 500px;\n",
              "      }\n",
              "\n",
              "      pre.function-repr-contents.function-repr-contents-collapsed {\n",
              "        cursor: pointer;\n",
              "        max-height: 100px;\n",
              "      }\n",
              "    </style>\n",
              "    <pre style=\"white-space: initial; background:\n",
              "         var(--colab-secondary-surface-color); padding: 8px 12px;\n",
              "         border-bottom: 1px solid var(--colab-border-color);\"><b>plotting_function</b><br/>def plotting_function(y_val, n_val, L_val)</pre><pre class=\"function-repr-contents function-repr-contents-collapsed\" style=\"\"><a class=\"filepath\" style=\"display:none\" href=\"#\">/tmp/ipython-input-211-25268070.py</a>&lt;no docstring&gt;</pre></div>"
            ]
          },
          "metadata": {},
          "execution_count": 213
        }
      ]
    }
  ],
  "metadata": {
    "kernelspec": {
      "display_name": "Python 3 (ipykernel)",
      "language": "python",
      "name": "python3"
    },
    "language_info": {
      "codemirror_mode": {
        "name": "ipython",
        "version": 3
      },
      "file_extension": ".py",
      "mimetype": "text/x-python",
      "name": "python",
      "nbconvert_exporter": "python",
      "pygments_lexer": "ipython3",
      "version": "3.12.1"
    },
    "colab": {
      "provenance": []
    },
    "widgets": {
      "application/vnd.jupyter.widget-state+json": {
        "29e6ae13170d43198e8247a37ed0d2f5": {
          "model_module": "@jupyter-widgets/controls",
          "model_name": "VBoxModel",
          "model_module_version": "1.5.0",
          "state": {
            "_dom_classes": [
              "widget-interact"
            ],
            "_model_module": "@jupyter-widgets/controls",
            "_model_module_version": "1.5.0",
            "_model_name": "VBoxModel",
            "_view_count": null,
            "_view_module": "@jupyter-widgets/controls",
            "_view_module_version": "1.5.0",
            "_view_name": "VBoxView",
            "box_style": "",
            "children": [
              "IPY_MODEL_518706785c934bee9103da46dc9738b0",
              "IPY_MODEL_43b177108166423e8012a330a8f28ae5",
              "IPY_MODEL_848fef8d2b034f5aa0a2d592a93e1c62",
              "IPY_MODEL_29e58486418c4a8a87eb649af83e0bee"
            ],
            "layout": "IPY_MODEL_fdefaf2b2ec241b59f07fd72e94c7f02"
          }
        },
        "518706785c934bee9103da46dc9738b0": {
          "model_module": "@jupyter-widgets/controls",
          "model_name": "IntSliderModel",
          "model_module_version": "1.5.0",
          "state": {
            "_dom_classes": [],
            "_model_module": "@jupyter-widgets/controls",
            "_model_module_version": "1.5.0",
            "_model_name": "IntSliderModel",
            "_view_count": null,
            "_view_module": "@jupyter-widgets/controls",
            "_view_module_version": "1.5.0",
            "_view_name": "IntSliderView",
            "continuous_update": true,
            "description": "y_val",
            "description_tooltip": null,
            "disabled": false,
            "layout": "IPY_MODEL_2a43b70bfdde48c9952fed346ae90314",
            "max": 100,
            "min": 0,
            "orientation": "horizontal",
            "readout": true,
            "readout_format": "d",
            "step": 1,
            "style": "IPY_MODEL_155f404d43b746b893149808ff820d2b",
            "value": 20
          }
        },
        "43b177108166423e8012a330a8f28ae5": {
          "model_module": "@jupyter-widgets/controls",
          "model_name": "FloatSliderModel",
          "model_module_version": "1.5.0",
          "state": {
            "_dom_classes": [],
            "_model_module": "@jupyter-widgets/controls",
            "_model_module_version": "1.5.0",
            "_model_name": "FloatSliderModel",
            "_view_count": null,
            "_view_module": "@jupyter-widgets/controls",
            "_view_module_version": "1.5.0",
            "_view_name": "FloatSliderView",
            "continuous_update": true,
            "description": "n_val",
            "description_tooltip": null,
            "disabled": false,
            "layout": "IPY_MODEL_41e359d4d9ce4439b88e9ca164b583e5",
            "max": 5,
            "min": 0,
            "orientation": "horizontal",
            "readout": true,
            "readout_format": ".2f",
            "step": 0.25,
            "style": "IPY_MODEL_85cadc2c5ee6408197934bfc5c9bc4ff",
            "value": 1.25
          }
        },
        "848fef8d2b034f5aa0a2d592a93e1c62": {
          "model_module": "@jupyter-widgets/controls",
          "model_name": "IntSliderModel",
          "model_module_version": "1.5.0",
          "state": {
            "_dom_classes": [],
            "_model_module": "@jupyter-widgets/controls",
            "_model_module_version": "1.5.0",
            "_model_name": "IntSliderModel",
            "_view_count": null,
            "_view_module": "@jupyter-widgets/controls",
            "_view_module_version": "1.5.0",
            "_view_name": "IntSliderView",
            "continuous_update": true,
            "description": "L_val",
            "description_tooltip": null,
            "disabled": false,
            "layout": "IPY_MODEL_f263176b2c1d42fd8c5217bcd30232e0",
            "max": 100,
            "min": 0,
            "orientation": "horizontal",
            "readout": true,
            "readout_format": "d",
            "step": 1,
            "style": "IPY_MODEL_bdd05d72b07b4631a10271c0adde5988",
            "value": 63
          }
        },
        "29e58486418c4a8a87eb649af83e0bee": {
          "model_module": "@jupyter-widgets/output",
          "model_name": "OutputModel",
          "model_module_version": "1.0.0",
          "state": {
            "_dom_classes": [],
            "_model_module": "@jupyter-widgets/output",
            "_model_module_version": "1.0.0",
            "_model_name": "OutputModel",
            "_view_count": null,
            "_view_module": "@jupyter-widgets/output",
            "_view_module_version": "1.0.0",
            "_view_name": "OutputView",
            "layout": "IPY_MODEL_1a4ac568cc0f49ce9e37b5330d8974e8",
            "msg_id": "",
            "outputs": [
              {
                "output_type": "display_data",
                "data": {
                  "text/plain": "<Figure size 500x500 with 1 Axes>",
                  "image/png": "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\n"
                },
                "metadata": {}
              }
            ]
          }
        },
        "fdefaf2b2ec241b59f07fd72e94c7f02": {
          "model_module": "@jupyter-widgets/base",
          "model_name": "LayoutModel",
          "model_module_version": "1.2.0",
          "state": {
            "_model_module": "@jupyter-widgets/base",
            "_model_module_version": "1.2.0",
            "_model_name": "LayoutModel",
            "_view_count": null,
            "_view_module": "@jupyter-widgets/base",
            "_view_module_version": "1.2.0",
            "_view_name": "LayoutView",
            "align_content": null,
            "align_items": null,
            "align_self": null,
            "border": null,
            "bottom": null,
            "display": null,
            "flex": null,
            "flex_flow": null,
            "grid_area": null,
            "grid_auto_columns": null,
            "grid_auto_flow": null,
            "grid_auto_rows": null,
            "grid_column": null,
            "grid_gap": null,
            "grid_row": null,
            "grid_template_areas": null,
            "grid_template_columns": null,
            "grid_template_rows": null,
            "height": null,
            "justify_content": null,
            "justify_items": null,
            "left": null,
            "margin": null,
            "max_height": null,
            "max_width": null,
            "min_height": null,
            "min_width": null,
            "object_fit": null,
            "object_position": null,
            "order": null,
            "overflow": null,
            "overflow_x": null,
            "overflow_y": null,
            "padding": null,
            "right": null,
            "top": null,
            "visibility": null,
            "width": null
          }
        },
        "2a43b70bfdde48c9952fed346ae90314": {
          "model_module": "@jupyter-widgets/base",
          "model_name": "LayoutModel",
          "model_module_version": "1.2.0",
          "state": {
            "_model_module": "@jupyter-widgets/base",
            "_model_module_version": "1.2.0",
            "_model_name": "LayoutModel",
            "_view_count": null,
            "_view_module": "@jupyter-widgets/base",
            "_view_module_version": "1.2.0",
            "_view_name": "LayoutView",
            "align_content": null,
            "align_items": null,
            "align_self": null,
            "border": null,
            "bottom": null,
            "display": null,
            "flex": null,
            "flex_flow": null,
            "grid_area": null,
            "grid_auto_columns": null,
            "grid_auto_flow": null,
            "grid_auto_rows": null,
            "grid_column": null,
            "grid_gap": null,
            "grid_row": null,
            "grid_template_areas": null,
            "grid_template_columns": null,
            "grid_template_rows": null,
            "height": null,
            "justify_content": null,
            "justify_items": null,
            "left": null,
            "margin": null,
            "max_height": null,
            "max_width": null,
            "min_height": null,
            "min_width": null,
            "object_fit": null,
            "object_position": null,
            "order": null,
            "overflow": null,
            "overflow_x": null,
            "overflow_y": null,
            "padding": null,
            "right": null,
            "top": null,
            "visibility": null,
            "width": null
          }
        },
        "155f404d43b746b893149808ff820d2b": {
          "model_module": "@jupyter-widgets/controls",
          "model_name": "SliderStyleModel",
          "model_module_version": "1.5.0",
          "state": {
            "_model_module": "@jupyter-widgets/controls",
            "_model_module_version": "1.5.0",
            "_model_name": "SliderStyleModel",
            "_view_count": null,
            "_view_module": "@jupyter-widgets/base",
            "_view_module_version": "1.2.0",
            "_view_name": "StyleView",
            "description_width": "",
            "handle_color": null
          }
        },
        "41e359d4d9ce4439b88e9ca164b583e5": {
          "model_module": "@jupyter-widgets/base",
          "model_name": "LayoutModel",
          "model_module_version": "1.2.0",
          "state": {
            "_model_module": "@jupyter-widgets/base",
            "_model_module_version": "1.2.0",
            "_model_name": "LayoutModel",
            "_view_count": null,
            "_view_module": "@jupyter-widgets/base",
            "_view_module_version": "1.2.0",
            "_view_name": "LayoutView",
            "align_content": null,
            "align_items": null,
            "align_self": null,
            "border": null,
            "bottom": null,
            "display": null,
            "flex": null,
            "flex_flow": null,
            "grid_area": null,
            "grid_auto_columns": null,
            "grid_auto_flow": null,
            "grid_auto_rows": null,
            "grid_column": null,
            "grid_gap": null,
            "grid_row": null,
            "grid_template_areas": null,
            "grid_template_columns": null,
            "grid_template_rows": null,
            "height": null,
            "justify_content": null,
            "justify_items": null,
            "left": null,
            "margin": null,
            "max_height": null,
            "max_width": null,
            "min_height": null,
            "min_width": null,
            "object_fit": null,
            "object_position": null,
            "order": null,
            "overflow": null,
            "overflow_x": null,
            "overflow_y": null,
            "padding": null,
            "right": null,
            "top": null,
            "visibility": null,
            "width": null
          }
        },
        "85cadc2c5ee6408197934bfc5c9bc4ff": {
          "model_module": "@jupyter-widgets/controls",
          "model_name": "SliderStyleModel",
          "model_module_version": "1.5.0",
          "state": {
            "_model_module": "@jupyter-widgets/controls",
            "_model_module_version": "1.5.0",
            "_model_name": "SliderStyleModel",
            "_view_count": null,
            "_view_module": "@jupyter-widgets/base",
            "_view_module_version": "1.2.0",
            "_view_name": "StyleView",
            "description_width": "",
            "handle_color": null
          }
        },
        "f263176b2c1d42fd8c5217bcd30232e0": {
          "model_module": "@jupyter-widgets/base",
          "model_name": "LayoutModel",
          "model_module_version": "1.2.0",
          "state": {
            "_model_module": "@jupyter-widgets/base",
            "_model_module_version": "1.2.0",
            "_model_name": "LayoutModel",
            "_view_count": null,
            "_view_module": "@jupyter-widgets/base",
            "_view_module_version": "1.2.0",
            "_view_name": "LayoutView",
            "align_content": null,
            "align_items": null,
            "align_self": null,
            "border": null,
            "bottom": null,
            "display": null,
            "flex": null,
            "flex_flow": null,
            "grid_area": null,
            "grid_auto_columns": null,
            "grid_auto_flow": null,
            "grid_auto_rows": null,
            "grid_column": null,
            "grid_gap": null,
            "grid_row": null,
            "grid_template_areas": null,
            "grid_template_columns": null,
            "grid_template_rows": null,
            "height": null,
            "justify_content": null,
            "justify_items": null,
            "left": null,
            "margin": null,
            "max_height": null,
            "max_width": null,
            "min_height": null,
            "min_width": null,
            "object_fit": null,
            "object_position": null,
            "order": null,
            "overflow": null,
            "overflow_x": null,
            "overflow_y": null,
            "padding": null,
            "right": null,
            "top": null,
            "visibility": null,
            "width": null
          }
        },
        "bdd05d72b07b4631a10271c0adde5988": {
          "model_module": "@jupyter-widgets/controls",
          "model_name": "SliderStyleModel",
          "model_module_version": "1.5.0",
          "state": {
            "_model_module": "@jupyter-widgets/controls",
            "_model_module_version": "1.5.0",
            "_model_name": "SliderStyleModel",
            "_view_count": null,
            "_view_module": "@jupyter-widgets/base",
            "_view_module_version": "1.2.0",
            "_view_name": "StyleView",
            "description_width": "",
            "handle_color": null
          }
        },
        "1a4ac568cc0f49ce9e37b5330d8974e8": {
          "model_module": "@jupyter-widgets/base",
          "model_name": "LayoutModel",
          "model_module_version": "1.2.0",
          "state": {
            "_model_module": "@jupyter-widgets/base",
            "_model_module_version": "1.2.0",
            "_model_name": "LayoutModel",
            "_view_count": null,
            "_view_module": "@jupyter-widgets/base",
            "_view_module_version": "1.2.0",
            "_view_name": "LayoutView",
            "align_content": null,
            "align_items": null,
            "align_self": null,
            "border": null,
            "bottom": null,
            "display": null,
            "flex": null,
            "flex_flow": null,
            "grid_area": null,
            "grid_auto_columns": null,
            "grid_auto_flow": null,
            "grid_auto_rows": null,
            "grid_column": null,
            "grid_gap": null,
            "grid_row": null,
            "grid_template_areas": null,
            "grid_template_columns": null,
            "grid_template_rows": null,
            "height": null,
            "justify_content": null,
            "justify_items": null,
            "left": null,
            "margin": null,
            "max_height": null,
            "max_width": null,
            "min_height": null,
            "min_width": null,
            "object_fit": null,
            "object_position": null,
            "order": null,
            "overflow": null,
            "overflow_x": null,
            "overflow_y": null,
            "padding": null,
            "right": null,
            "top": null,
            "visibility": null,
            "width": null
          }
        }
      }
    }
  },
  "nbformat": 4,
  "nbformat_minor": 5
}
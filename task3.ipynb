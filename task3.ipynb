{
 "cells": [
  {
   "cell_type": "markdown",
   "id": "b6f18fb8",
   "metadata": {},
   "source": [
    "# Task 3\n",
    "For a ray from A to B reflected off a surface S, plot the travel time vs AS horizontal distance x and hence demonstrate that Fermat’s principle of minimizing travel time implies the law of reflection.\n"
   ]
  },
  {
   "cell_type": "markdown",
   "id": "aa4751b6",
   "metadata": {},
   "source": [
    "Notes for completion:\n",
    "- Understand what it is I am specifically looking for\n",
    "- Demonstrate/find out how this graph implies the law of reflection\n",
    "- Get a best fit line to demonstrate its proportionality\n",
    "- Try and get this to be a dynamic thing (where there is a slider that shows this):\n",
    "    - https://www.youtube.com/watch?v=p-xJsc6LSx0 # the better video \n",
    "    - https://youtu.be/CTlXX_-8rHI?si=PPg7LJgJZzIHKV_n # a more specific video (I will only use the one above)"
   ]
  },
  {
   "cell_type": "code",
   "execution_count": null,
   "id": "106999ef",
   "metadata": {},
   "outputs": [],
   "source": []
  }
 ],
 "metadata": {
  "language_info": {
   "name": "python"
  }
 },
 "nbformat": 4,
 "nbformat_minor": 5
}

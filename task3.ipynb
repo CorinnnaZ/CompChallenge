{
 "cells": [
  {
   "cell_type": "markdown",
   "id": "aa4751b6",
   "metadata": {},
   "source": [
    "Notes for completion:\n",
    "- Try and calculate the minimum from the graph (only using code -- veryify calculations however)\n",
    "    - This would complete the task\n",
    "- For the curve of best fit, calculate R^2 and state that the minimum is approximate but close to true value \n",
    "- Try and get this to be a dynamic thing (where there is a slider that shows this):\n",
    "    - https://www.youtube.com/watch?v=p-xJsc6LSx0 # the better video \n",
    "    - https://youtu.be/CTlXX_-8rHI?si=PPg7LJgJZzIHKV_n # a more specific video (I will only use the one above)"
   ]
  },
  {
   "cell_type": "markdown",
   "id": "c31dff9b",
   "metadata": {},
   "source": [
    "### Final Code"
   ]
  },
  {
   "cell_type": "code",
   "execution_count": null,
   "id": "106999ef",
   "metadata": {},
   "outputs": [],
   "source": [
    "import numpy as np\n",
    "import math as m\n",
    "import matplotlib.pyplot as plt\n",
    "def task3():\n",
    "    # define constants\n",
    "    c = 299792458 # speed of light\n",
    "    d = 60\n",
    "    y = 15 # the constant height\n",
    "    \n",
    "    # define the independent variable x\n",
    "    x = np.linspace(0,50,100)\n",
    "    \n",
    "    # define t\n",
    "    t = [(1/c) * ((m.sqrt((i**2) + (y**2))) + m.sqrt(((d-i)**2) + (y**2))) for i in x]\n",
    "    \n",
    "    best_fit_ = np.polyfit(x, t, 2)\n",
    "    coefs = np.poly1d(best_fit_)\n",
    "    \n",
    "    a = coefs[0]\n",
    "    b = coefs[1]\n",
    "    c = coefs[2]\n",
    "    \n",
    "    print(coefs)\n",
    "    \n",
    "    x_new = np.linspace(x[0], x[-1],1000)\n",
    "    y_new = coefs(x_new)\n",
    "    \n",
    "    plt.scatter(x,t)\n",
    "    plt.plot(x_new, y_new)\n",
    "    plt.show()\n",
    "    \n",
    "task3()"
   ]
  },
  {
   "cell_type": "markdown",
   "id": "4326136f",
   "metadata": {},
   "source": [
    "More efficient way of doing this (I wasted so much time on this and it was easy)"
   ]
  },
  {
   "cell_type": "code",
   "execution_count": null,
   "id": "7301d341",
   "metadata": {},
   "outputs": [],
   "source": [
    "import numpy as np\n",
    "import math as m\n",
    "import matplotlib.pyplot as plt\n",
    "def task3():\n",
    "    # define constants\n",
    "    c = 299792458 # speed of light\n",
    "    d = 60\n",
    "    y = 15 # the constant height\n",
    "    \n",
    "    # define the independent variable x\n",
    "    x = np.linspace(0,50,100)\n",
    "    \n",
    "    # define t\n",
    "    t = (1/c) * (np.sqrt(x**2 + y**2) + np.sqrt((d-x)**2 + y**2))\n",
    "\n",
    "    plt.plot(x,t)\n",
    "    plt.show()\n",
    "    \n",
    "task3()"
   ]
  },
  {
   "cell_type": "markdown",
   "id": "51769a9d",
   "metadata": {},
   "source": [
    "### Interactive Diagrams (as an intro)"
   ]
  },
  {
   "cell_type": "markdown",
   "id": "f4e405ae",
   "metadata": {},
   "source": [
    "Use the slider function and make it all nice"
   ]
  },
  {
   "cell_type": "markdown",
   "id": "13e57ca6",
   "metadata": {},
   "source": []
  }
 ],
 "metadata": {
  "language_info": {
   "name": "python"
  }
 },
 "nbformat": 4,
 "nbformat_minor": 5
}

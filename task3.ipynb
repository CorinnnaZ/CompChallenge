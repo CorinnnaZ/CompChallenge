{
 "cells": [
  {
   "cell_type": "markdown",
   "id": "aa4751b6",
   "metadata": {},
   "source": [
    "Notes for completion:\n",
    "- Demonstrate how this graph implies the law of reflection\n",
    "- Get a best fit line to demonstrate its proportionality\n",
    "- Try and get this to be a dynamic thing (where there is a slider that shows this):\n",
    "    https://www.youtube.com/watch?v=p-xJsc6LSx0 # the better video \n",
    "    https://youtu.be/CTlXX_-8rHI?si=PPg7LJgJZzIHKV_n # a more specific video (I will only use the one above)"
   ]
  },
  {
   "cell_type": "code",
   "execution_count": null,
   "id": "106999ef",
   "metadata": {},
   "outputs": [],
   "source": [
    "# import modules\n",
    "import math\n",
    "import matplotlib.pyplot as plt\n",
    "\n",
    "# define constants\n",
    "theta = 1.3577 # angles are always in radians\n",
    "c = 300000000 # speed of light (ms-1)\n",
    "\n",
    "# define x, distance AS and time\n",
    "x = [i for i in range(0,105,5)]\n",
    "mag_AS = [(j/math.sin(theta)) for j in x]\n",
    "time = [(k/c) for k in mag_AS]\n",
    "\n",
    "# calculate the line of best fit\n",
    "def best_fit_line():\n",
    "    return slope, y_intercept\n",
    "\n",
    "# plot the graph\n",
    "plt.scatter(x,time,alpha=0.7,color='blue',s=15)\n",
    "plt.show()\n"
   ]
  }
 ],
 "metadata": {
  "language_info": {
   "name": "python"
  }
 },
 "nbformat": 4,
 "nbformat_minor": 5
}

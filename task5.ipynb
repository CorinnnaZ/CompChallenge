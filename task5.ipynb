{
 "cells": [
  {
   "cell_type": "markdown",
   "id": "1966fe07",
   "metadata": {},
   "source": [
    "# Task 5\n",
    "Write a computer program that imports an image file (the ‘object’)  and then computes the locations of the pixel coordinates that constitute a virtual image in a plane mirror.  Use this information to plot the virtual image. Use this image import and plot functionality in tasks ***5-10***. "
   ]
  },
  {
   "cell_type": "markdown",
   "id": "5a543c18",
   "metadata": {},
   "source": [
    "Foundational to the rest of what I am doing so... will spend next week on this specifically."
   ]
  }
 ],
 "metadata": {
  "language_info": {
   "name": "python"
  }
 },
 "nbformat": 4,
 "nbformat_minor": 5
}

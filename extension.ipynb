{
 "cells": [
  {
   "cell_type": "markdown",
   "id": "ee1c6d08",
   "metadata": {},
   "source": [
    "# Extension Ideas\n",
    "*Should start planning out ideas for this to progress*\n",
    "\n",
    "- Hologram idea (using optics and diffraction gratings to replicate a hologrammatic effect)\n",
    "- Cloud chamber (or ray scattering effects with a large number of individual bodies (as this can help both of us with mathematical modelling wrt people))\n",
    "- The eye and bluriness "
   ]
  }
 ],
 "metadata": {
  "language_info": {
   "name": "python"
  }
 },
 "nbformat": 4,
 "nbformat_minor": 5
}

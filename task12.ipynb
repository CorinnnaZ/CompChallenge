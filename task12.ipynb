{
 "cells": [
  {
   "cell_type": "markdown",
   "id": "5be7f7f0",
   "metadata": {},
   "source": [
    "# Task 12\n",
    "Create a dynamic model of the path of a beam of white light through a triangular prism.\n"
   ]
  }
 ],
 "metadata": {
  "language_info": {
   "name": "python"
  }
 },
 "nbformat": 4,
 "nbformat_minor": 5
}

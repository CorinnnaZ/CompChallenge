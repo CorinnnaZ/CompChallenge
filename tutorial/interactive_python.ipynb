{
  "cells": [
    {
      "cell_type": "markdown",
      "metadata": {
        "id": "view-in-github",
        "colab_type": "text"
      },
      "source": [
        "<a href=\"https://colab.research.google.com/github/CorinnnaZ/CompPhysChallenge/blob/main/tutorial/interactive_python.ipynb\" target=\"_parent\"><img src=\"https://colab.research.google.com/assets/colab-badge.svg\" alt=\"Open In Colab\"/></a>"
      ]
    },
    {
      "cell_type": "markdown",
      "id": "98f5f92b",
      "metadata": {
        "id": "98f5f92b"
      },
      "source": [
        "# Interactive Python Plots with IPyWidgets\n",
        "https://www.youtube.com/watch?v=jWT-HXv0LUQ\n",
        "\n",
        "Need to use these everywhere for my plots (especially for Gold) so might as well learn them here.\n"
      ]
    },
    {
      "cell_type": "code",
      "source": [
        "# modules\n",
        "import ipywidgets as ipy\n",
        "import numpy as np\n",
        "import matplotlib.pyplot as plt"
      ],
      "metadata": {
        "id": "YZ8tekP2IJya"
      },
      "id": "YZ8tekP2IJya",
      "execution_count": 11,
      "outputs": []
    },
    {
      "cell_type": "code",
      "source": [
        "def plt_function(w=1):\n",
        "    X = np.random.uniform(0, 5, size=100)\n",
        "    y = 2 * X + w * np.random.normal(0,5, size=100)\n",
        "    plt.scatter(X, y)"
      ],
      "metadata": {
        "id": "pqpU7BwmIYfx"
      },
      "id": "pqpU7BwmIYfx",
      "execution_count": 14,
      "outputs": []
    },
    {
      "cell_type": "code",
      "source": [
        "ipy.interact(plt_function, w=(0.1,1.5, 0.01)) #  indicating how much this variable can change"
      ],
      "metadata": {
        "id": "kByGMYIRIqDE",
        "outputId": "87001fe9-c8d8-43e7-d709-48b4afe397f1",
        "colab": {
          "base_uri": "https://localhost:8080/",
          "height": 548,
          "referenced_widgets": [
            "76887af196714ee8bbd45ac4e9c78b8e",
            "7bf2be1cfc364784b969b9ea63404ba7",
            "0c2cf8aac57f4de1aa0d5e97d7c7e424",
            "f19c5c4ef7b24e68b2f97ed9fd6e2581",
            "64b49278f40a4befad3c0881a4f02693",
            "dc52fcc2c97a4ebba399d650ddfea016",
            "5ef6c2e1e304420bb6b1f2ca95658ff9"
          ]
        }
      },
      "id": "kByGMYIRIqDE",
      "execution_count": 17,
      "outputs": [
        {
          "output_type": "display_data",
          "data": {
            "text/plain": [
              "interactive(children=(FloatSlider(value=1.0, description='w', max=1.5, min=0.1, step=0.01), Output()), _dom_cl…"
            ],
            "application/vnd.jupyter.widget-view+json": {
              "version_major": 2,
              "version_minor": 0,
              "model_id": "76887af196714ee8bbd45ac4e9c78b8e"
            }
          },
          "metadata": {}
        },
        {
          "output_type": "execute_result",
          "data": {
            "text/plain": [
              "<function __main__.plt_function(w=1)>"
            ],
            "text/html": [
              "<div style=\"max-width:800px; border: 1px solid var(--colab-border-color);\"><style>\n",
              "      pre.function-repr-contents {\n",
              "        overflow-x: auto;\n",
              "        padding: 8px 12px;\n",
              "        max-height: 500px;\n",
              "      }\n",
              "\n",
              "      pre.function-repr-contents.function-repr-contents-collapsed {\n",
              "        cursor: pointer;\n",
              "        max-height: 100px;\n",
              "      }\n",
              "    </style>\n",
              "    <pre style=\"white-space: initial; background:\n",
              "         var(--colab-secondary-surface-color); padding: 8px 12px;\n",
              "         border-bottom: 1px solid var(--colab-border-color);\"><b>plt_function</b><br/>def plt_function(w=1)</pre><pre class=\"function-repr-contents function-repr-contents-collapsed\" style=\"\"><a class=\"filepath\" style=\"display:none\" href=\"#\">/tmp/ipython-input-14-106723729.py</a>&lt;no docstring&gt;</pre></div>"
            ]
          },
          "metadata": {},
          "execution_count": 17
        }
      ]
    }
  ],
  "metadata": {
    "language_info": {
      "name": "python"
    },
    "colab": {
      "provenance": [],
      "include_colab_link": true
    },
    "kernelspec": {
      "name": "python3",
      "display_name": "Python 3"
    },
    "widgets": {
      "application/vnd.jupyter.widget-state+json": {
        "76887af196714ee8bbd45ac4e9c78b8e": {
          "model_module": "@jupyter-widgets/controls",
          "model_name": "VBoxModel",
          "model_module_version": "1.5.0",
          "state": {
            "_dom_classes": [
              "widget-interact"
            ],
            "_model_module": "@jupyter-widgets/controls",
            "_model_module_version": "1.5.0",
            "_model_name": "VBoxModel",
            "_view_count": null,
            "_view_module": "@jupyter-widgets/controls",
            "_view_module_version": "1.5.0",
            "_view_name": "VBoxView",
            "box_style": "",
            "children": [
              "IPY_MODEL_7bf2be1cfc364784b969b9ea63404ba7",
              "IPY_MODEL_0c2cf8aac57f4de1aa0d5e97d7c7e424"
            ],
            "layout": "IPY_MODEL_f19c5c4ef7b24e68b2f97ed9fd6e2581"
          }
        },
        "7bf2be1cfc364784b969b9ea63404ba7": {
          "model_module": "@jupyter-widgets/controls",
          "model_name": "FloatSliderModel",
          "model_module_version": "1.5.0",
          "state": {
            "_dom_classes": [],
            "_model_module": "@jupyter-widgets/controls",
            "_model_module_version": "1.5.0",
            "_model_name": "FloatSliderModel",
            "_view_count": null,
            "_view_module": "@jupyter-widgets/controls",
            "_view_module_version": "1.5.0",
            "_view_name": "FloatSliderView",
            "continuous_update": true,
            "description": "w",
            "description_tooltip": null,
            "disabled": false,
            "layout": "IPY_MODEL_64b49278f40a4befad3c0881a4f02693",
            "max": 1.5,
            "min": 0.1,
            "orientation": "horizontal",
            "readout": true,
            "readout_format": ".2f",
            "step": 0.01,
            "style": "IPY_MODEL_dc52fcc2c97a4ebba399d650ddfea016",
            "value": 0.1
          }
        },
        "0c2cf8aac57f4de1aa0d5e97d7c7e424": {
          "model_module": "@jupyter-widgets/output",
          "model_name": "OutputModel",
          "model_module_version": "1.0.0",
          "state": {
            "_dom_classes": [],
            "_model_module": "@jupyter-widgets/output",
            "_model_module_version": "1.0.0",
            "_model_name": "OutputModel",
            "_view_count": null,
            "_view_module": "@jupyter-widgets/output",
            "_view_module_version": "1.0.0",
            "_view_name": "OutputView",
            "layout": "IPY_MODEL_5ef6c2e1e304420bb6b1f2ca95658ff9",
            "msg_id": "",
            "outputs": [
              {
                "output_type": "display_data",
                "data": {
                  "text/plain": "<Figure size 640x480 with 1 Axes>",
                  "image/png": "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\n"
                },
                "metadata": {}
              }
            ]
          }
        },
        "f19c5c4ef7b24e68b2f97ed9fd6e2581": {
          "model_module": "@jupyter-widgets/base",
          "model_name": "LayoutModel",
          "model_module_version": "1.2.0",
          "state": {
            "_model_module": "@jupyter-widgets/base",
            "_model_module_version": "1.2.0",
            "_model_name": "LayoutModel",
            "_view_count": null,
            "_view_module": "@jupyter-widgets/base",
            "_view_module_version": "1.2.0",
            "_view_name": "LayoutView",
            "align_content": null,
            "align_items": null,
            "align_self": null,
            "border": null,
            "bottom": null,
            "display": null,
            "flex": null,
            "flex_flow": null,
            "grid_area": null,
            "grid_auto_columns": null,
            "grid_auto_flow": null,
            "grid_auto_rows": null,
            "grid_column": null,
            "grid_gap": null,
            "grid_row": null,
            "grid_template_areas": null,
            "grid_template_columns": null,
            "grid_template_rows": null,
            "height": null,
            "justify_content": null,
            "justify_items": null,
            "left": null,
            "margin": null,
            "max_height": null,
            "max_width": null,
            "min_height": null,
            "min_width": null,
            "object_fit": null,
            "object_position": null,
            "order": null,
            "overflow": null,
            "overflow_x": null,
            "overflow_y": null,
            "padding": null,
            "right": null,
            "top": null,
            "visibility": null,
            "width": null
          }
        },
        "64b49278f40a4befad3c0881a4f02693": {
          "model_module": "@jupyter-widgets/base",
          "model_name": "LayoutModel",
          "model_module_version": "1.2.0",
          "state": {
            "_model_module": "@jupyter-widgets/base",
            "_model_module_version": "1.2.0",
            "_model_name": "LayoutModel",
            "_view_count": null,
            "_view_module": "@jupyter-widgets/base",
            "_view_module_version": "1.2.0",
            "_view_name": "LayoutView",
            "align_content": null,
            "align_items": null,
            "align_self": null,
            "border": null,
            "bottom": null,
            "display": null,
            "flex": null,
            "flex_flow": null,
            "grid_area": null,
            "grid_auto_columns": null,
            "grid_auto_flow": null,
            "grid_auto_rows": null,
            "grid_column": null,
            "grid_gap": null,
            "grid_row": null,
            "grid_template_areas": null,
            "grid_template_columns": null,
            "grid_template_rows": null,
            "height": null,
            "justify_content": null,
            "justify_items": null,
            "left": null,
            "margin": null,
            "max_height": null,
            "max_width": null,
            "min_height": null,
            "min_width": null,
            "object_fit": null,
            "object_position": null,
            "order": null,
            "overflow": null,
            "overflow_x": null,
            "overflow_y": null,
            "padding": null,
            "right": null,
            "top": null,
            "visibility": null,
            "width": null
          }
        },
        "dc52fcc2c97a4ebba399d650ddfea016": {
          "model_module": "@jupyter-widgets/controls",
          "model_name": "SliderStyleModel",
          "model_module_version": "1.5.0",
          "state": {
            "_model_module": "@jupyter-widgets/controls",
            "_model_module_version": "1.5.0",
            "_model_name": "SliderStyleModel",
            "_view_count": null,
            "_view_module": "@jupyter-widgets/base",
            "_view_module_version": "1.2.0",
            "_view_name": "StyleView",
            "description_width": "",
            "handle_color": null
          }
        },
        "5ef6c2e1e304420bb6b1f2ca95658ff9": {
          "model_module": "@jupyter-widgets/base",
          "model_name": "LayoutModel",
          "model_module_version": "1.2.0",
          "state": {
            "_model_module": "@jupyter-widgets/base",
            "_model_module_version": "1.2.0",
            "_model_name": "LayoutModel",
            "_view_count": null,
            "_view_module": "@jupyter-widgets/base",
            "_view_module_version": "1.2.0",
            "_view_name": "LayoutView",
            "align_content": null,
            "align_items": null,
            "align_self": null,
            "border": null,
            "bottom": null,
            "display": null,
            "flex": null,
            "flex_flow": null,
            "grid_area": null,
            "grid_auto_columns": null,
            "grid_auto_flow": null,
            "grid_auto_rows": null,
            "grid_column": null,
            "grid_gap": null,
            "grid_row": null,
            "grid_template_areas": null,
            "grid_template_columns": null,
            "grid_template_rows": null,
            "height": null,
            "justify_content": null,
            "justify_items": null,
            "left": null,
            "margin": null,
            "max_height": null,
            "max_width": null,
            "min_height": null,
            "min_width": null,
            "object_fit": null,
            "object_position": null,
            "order": null,
            "overflow": null,
            "overflow_x": null,
            "overflow_y": null,
            "padding": null,
            "right": null,
            "top": null,
            "visibility": null,
            "width": null
          }
        }
      }
    }
  },
  "nbformat": 4,
  "nbformat_minor": 5
}
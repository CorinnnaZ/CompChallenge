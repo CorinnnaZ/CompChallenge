{
  "cells": [
    {
      "cell_type": "markdown",
      "metadata": {
        "id": "view-in-github",
        "colab_type": "text"
      },
      "source": [
        "<a href=\"https://colab.research.google.com/github/CorinnnaZ/CompPhysChallenge/blob/main/tutorial/interactive_python.ipynb\" target=\"_parent\"><img src=\"https://colab.research.google.com/assets/colab-badge.svg\" alt=\"Open In Colab\"/></a>"
      ]
    },
    {
      "cell_type": "markdown",
      "id": "98f5f92b",
      "metadata": {
        "id": "98f5f92b"
      },
      "source": [
        "# Interactive Python Plots with IPyWidgets\n",
        "https://www.youtube.com/watch?v=jWT-HXv0LUQ\n",
        "\n",
        "Need to use these everywhere for my plots (especially for Gold) so might as well learn them here.\n"
      ]
    },
    {
      "cell_type": "code",
      "source": [
        "# modules\n",
        "import ipywidgets as ipy\n",
        "import numpy as np\n",
        "import matplotlib.pyplot as plt\n",
        "\n",
        "# After creating your widgets, save the widget state\n",
        "from ipywidgets import Widget\n",
        "Widget.close_all()  # Optional: clean up any existing widgets\n",
        "\n",
        "# Then recreate your widgets and interact with them\n",
        "# The final state will be saved when you download the notebook"
      ],
      "metadata": {
        "id": "YZ8tekP2IJya"
      },
      "id": "YZ8tekP2IJya",
      "execution_count": 24,
      "outputs": []
    },
    {
      "cell_type": "code",
      "source": [
        "def plt_function(w=1):\n",
        "    X = np.random.uniform(0, 5, size=100)\n",
        "    y = 2 * X + w * np.random.normal(0,5, size=100)\n",
        "    plt.scatter(X, y)"
      ],
      "metadata": {
        "id": "pqpU7BwmIYfx"
      },
      "id": "pqpU7BwmIYfx",
      "execution_count": 25,
      "outputs": []
    },
    {
      "cell_type": "code",
      "source": [
        "ipy.interact(plt_function, w=(0.1,1.5, 0.01)) #  indicating how much this variable can change"
      ],
      "metadata": {
        "id": "kByGMYIRIqDE",
        "outputId": "cadb20fc-2ce2-431e-9437-ddbeeea168b2",
        "colab": {
          "base_uri": "https://localhost:8080/",
          "height": 549,
          "referenced_widgets": [
            "0083988decd54502a9b2129026feb1e5",
            "54849193f30f4d7098bc3ea8685a28f1",
            "d986530c5ea242c488c7d56683118cb9",
            "63731769f66c4048b8b81fb222704c53",
            "cece1e0664fa4dff809fe29b7fbb24dd",
            "f3120e736ab84c15b4ff419302241528",
            "58a5e74e63c245868ad0b336aea3e81a"
          ]
        }
      },
      "id": "kByGMYIRIqDE",
      "execution_count": 26,
      "outputs": [
        {
          "output_type": "display_data",
          "data": {
            "text/plain": [
              "interactive(children=(FloatSlider(value=1.0, description='w', max=1.5, min=0.1, step=0.01), Output()), _dom_cl…"
            ],
            "application/vnd.jupyter.widget-view+json": {
              "version_major": 2,
              "version_minor": 0,
              "model_id": "0083988decd54502a9b2129026feb1e5"
            }
          },
          "metadata": {}
        },
        {
          "output_type": "execute_result",
          "data": {
            "text/plain": [
              "<function __main__.plt_function(w=1)>"
            ],
            "text/html": [
              "<div style=\"max-width:800px; border: 1px solid var(--colab-border-color);\"><style>\n",
              "      pre.function-repr-contents {\n",
              "        overflow-x: auto;\n",
              "        padding: 8px 12px;\n",
              "        max-height: 500px;\n",
              "      }\n",
              "\n",
              "      pre.function-repr-contents.function-repr-contents-collapsed {\n",
              "        cursor: pointer;\n",
              "        max-height: 100px;\n",
              "      }\n",
              "    </style>\n",
              "    <pre style=\"white-space: initial; background:\n",
              "         var(--colab-secondary-surface-color); padding: 8px 12px;\n",
              "         border-bottom: 1px solid var(--colab-border-color);\"><b>plt_function</b><br/>def plt_function(w=1)</pre><pre class=\"function-repr-contents function-repr-contents-collapsed\" style=\"\"><a class=\"filepath\" style=\"display:none\" href=\"#\">/tmp/ipython-input-25-106723729.py</a>&lt;no docstring&gt;</pre></div>"
            ]
          },
          "metadata": {},
          "execution_count": 26
        }
      ]
    }
  ],
  "metadata": {
    "language_info": {
      "name": "python"
    },
    "colab": {
      "provenance": [],
      "include_colab_link": true
    },
    "kernelspec": {
      "name": "python3",
      "display_name": "Python 3"
    },
    "widgets": {
      "application/vnd.jupyter.widget-state+json": {
        "0083988decd54502a9b2129026feb1e5": {
          "model_module": "@jupyter-widgets/controls",
          "model_name": "VBoxModel",
          "model_module_version": "1.5.0",
          "state": {
            "_dom_classes": [
              "widget-interact"
            ],
            "_model_module": "@jupyter-widgets/controls",
            "_model_module_version": "1.5.0",
            "_model_name": "VBoxModel",
            "_view_count": null,
            "_view_module": "@jupyter-widgets/controls",
            "_view_module_version": "1.5.0",
            "_view_name": "VBoxView",
            "box_style": "",
            "children": [
              "IPY_MODEL_54849193f30f4d7098bc3ea8685a28f1",
              "IPY_MODEL_d986530c5ea242c488c7d56683118cb9"
            ],
            "layout": "IPY_MODEL_63731769f66c4048b8b81fb222704c53"
          }
        },
        "54849193f30f4d7098bc3ea8685a28f1": {
          "model_module": "@jupyter-widgets/controls",
          "model_name": "FloatSliderModel",
          "model_module_version": "1.5.0",
          "state": {
            "_dom_classes": [],
            "_model_module": "@jupyter-widgets/controls",
            "_model_module_version": "1.5.0",
            "_model_name": "FloatSliderModel",
            "_view_count": null,
            "_view_module": "@jupyter-widgets/controls",
            "_view_module_version": "1.5.0",
            "_view_name": "FloatSliderView",
            "continuous_update": true,
            "description": "w",
            "description_tooltip": null,
            "disabled": false,
            "layout": "IPY_MODEL_cece1e0664fa4dff809fe29b7fbb24dd",
            "max": 1.5,
            "min": 0.1,
            "orientation": "horizontal",
            "readout": true,
            "readout_format": ".2f",
            "step": 0.01,
            "style": "IPY_MODEL_f3120e736ab84c15b4ff419302241528",
            "value": 1
          }
        },
        "d986530c5ea242c488c7d56683118cb9": {
          "model_module": "@jupyter-widgets/output",
          "model_name": "OutputModel",
          "model_module_version": "1.0.0",
          "state": {
            "_dom_classes": [],
            "_model_module": "@jupyter-widgets/output",
            "_model_module_version": "1.0.0",
            "_model_name": "OutputModel",
            "_view_count": null,
            "_view_module": "@jupyter-widgets/output",
            "_view_module_version": "1.0.0",
            "_view_name": "OutputView",
            "layout": "IPY_MODEL_58a5e74e63c245868ad0b336aea3e81a",
            "msg_id": "",
            "outputs": [
              {
                "output_type": "display_data",
                "data": {
                  "text/plain": "<Figure size 640x480 with 1 Axes>",
                  "image/png": "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\n"
                },
                "metadata": {}
              }
            ]
          }
        },
        "63731769f66c4048b8b81fb222704c53": {
          "model_module": "@jupyter-widgets/base",
          "model_name": "LayoutModel",
          "model_module_version": "1.2.0",
          "state": {
            "_model_module": "@jupyter-widgets/base",
            "_model_module_version": "1.2.0",
            "_model_name": "LayoutModel",
            "_view_count": null,
            "_view_module": "@jupyter-widgets/base",
            "_view_module_version": "1.2.0",
            "_view_name": "LayoutView",
            "align_content": null,
            "align_items": null,
            "align_self": null,
            "border": null,
            "bottom": null,
            "display": null,
            "flex": null,
            "flex_flow": null,
            "grid_area": null,
            "grid_auto_columns": null,
            "grid_auto_flow": null,
            "grid_auto_rows": null,
            "grid_column": null,
            "grid_gap": null,
            "grid_row": null,
            "grid_template_areas": null,
            "grid_template_columns": null,
            "grid_template_rows": null,
            "height": null,
            "justify_content": null,
            "justify_items": null,
            "left": null,
            "margin": null,
            "max_height": null,
            "max_width": null,
            "min_height": null,
            "min_width": null,
            "object_fit": null,
            "object_position": null,
            "order": null,
            "overflow": null,
            "overflow_x": null,
            "overflow_y": null,
            "padding": null,
            "right": null,
            "top": null,
            "visibility": null,
            "width": null
          }
        },
        "cece1e0664fa4dff809fe29b7fbb24dd": {
          "model_module": "@jupyter-widgets/base",
          "model_name": "LayoutModel",
          "model_module_version": "1.2.0",
          "state": {
            "_model_module": "@jupyter-widgets/base",
            "_model_module_version": "1.2.0",
            "_model_name": "LayoutModel",
            "_view_count": null,
            "_view_module": "@jupyter-widgets/base",
            "_view_module_version": "1.2.0",
            "_view_name": "LayoutView",
            "align_content": null,
            "align_items": null,
            "align_self": null,
            "border": null,
            "bottom": null,
            "display": null,
            "flex": null,
            "flex_flow": null,
            "grid_area": null,
            "grid_auto_columns": null,
            "grid_auto_flow": null,
            "grid_auto_rows": null,
            "grid_column": null,
            "grid_gap": null,
            "grid_row": null,
            "grid_template_areas": null,
            "grid_template_columns": null,
            "grid_template_rows": null,
            "height": null,
            "justify_content": null,
            "justify_items": null,
            "left": null,
            "margin": null,
            "max_height": null,
            "max_width": null,
            "min_height": null,
            "min_width": null,
            "object_fit": null,
            "object_position": null,
            "order": null,
            "overflow": null,
            "overflow_x": null,
            "overflow_y": null,
            "padding": null,
            "right": null,
            "top": null,
            "visibility": null,
            "width": null
          }
        },
        "f3120e736ab84c15b4ff419302241528": {
          "model_module": "@jupyter-widgets/controls",
          "model_name": "SliderStyleModel",
          "model_module_version": "1.5.0",
          "state": {
            "_model_module": "@jupyter-widgets/controls",
            "_model_module_version": "1.5.0",
            "_model_name": "SliderStyleModel",
            "_view_count": null,
            "_view_module": "@jupyter-widgets/base",
            "_view_module_version": "1.2.0",
            "_view_name": "StyleView",
            "description_width": "",
            "handle_color": null
          }
        },
        "58a5e74e63c245868ad0b336aea3e81a": {
          "model_module": "@jupyter-widgets/base",
          "model_name": "LayoutModel",
          "model_module_version": "1.2.0",
          "state": {
            "_model_module": "@jupyter-widgets/base",
            "_model_module_version": "1.2.0",
            "_model_name": "LayoutModel",
            "_view_count": null,
            "_view_module": "@jupyter-widgets/base",
            "_view_module_version": "1.2.0",
            "_view_name": "LayoutView",
            "align_content": null,
            "align_items": null,
            "align_self": null,
            "border": null,
            "bottom": null,
            "display": null,
            "flex": null,
            "flex_flow": null,
            "grid_area": null,
            "grid_auto_columns": null,
            "grid_auto_flow": null,
            "grid_auto_rows": null,
            "grid_column": null,
            "grid_gap": null,
            "grid_row": null,
            "grid_template_areas": null,
            "grid_template_columns": null,
            "grid_template_rows": null,
            "height": null,
            "justify_content": null,
            "justify_items": null,
            "left": null,
            "margin": null,
            "max_height": null,
            "max_width": null,
            "min_height": null,
            "min_width": null,
            "object_fit": null,
            "object_position": null,
            "order": null,
            "overflow": null,
            "overflow_x": null,
            "overflow_y": null,
            "padding": null,
            "right": null,
            "top": null,
            "visibility": null,
            "width": null
          }
        }
      }
    }
  },
  "nbformat": 4,
  "nbformat_minor": 5
}
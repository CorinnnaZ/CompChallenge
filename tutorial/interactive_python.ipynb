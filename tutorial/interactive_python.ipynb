{
  "cells": [
    {
      "cell_type": "markdown",
      "metadata": {
        "id": "view-in-github",
        "colab_type": "text"
      },
      "source": [
        "<a href=\"https://colab.research.google.com/github/CorinnnaZ/CompPhysChallenge/blob/main/tutorial/interactive_python.ipynb\" target=\"_parent\"><img src=\"https://colab.research.google.com/assets/colab-badge.svg\" alt=\"Open In Colab\"/></a>"
      ]
    },
    {
      "cell_type": "markdown",
      "id": "98f5f92b",
      "metadata": {
        "id": "98f5f92b"
      },
      "source": [
        "# Interactive Python Plots with IPyWidgets\n",
        "https://www.youtube.com/watch?v=jWT-HXv0LUQ\n",
        "\n",
        "Need to use these everywhere for my plots (especially for Gold) so might as well learn them here.\n"
      ]
    },
    {
      "cell_type": "code",
      "source": [
        "import ipywidgets as widgets\n",
        "from ipywidgets import interact, interactive, fixed\n",
        "import matplotlib.pyplot as plt\n",
        "\n",
        "# Example of proper widget usage\n",
        "@interact(x=(0, 10, 0.1))\n",
        "def plot_function(x=5):\n",
        "    plt.figure(figsize=(8, 6))\n",
        "    plt.plot([0, x], [0, x**2])\n",
        "    plt.show()"
      ],
      "metadata": {
        "colab": {
          "base_uri": "https://localhost:8080/",
          "height": 554,
          "referenced_widgets": [
            "98ff5bfc822a4ac2bac34fa4e8b6b7eb",
            "a5dcd104edce4c3fbddeb5d600b8b11f",
            "8dcb0cae37bd49fdae32d925cd0daa57",
            "7e562fbe116945fca031227ffca23343",
            "14e9e0a7cf5d4bee8d78225491af18fe",
            "954f646b07e7473bb4eed770bf2486ac",
            "b6f6ca1e82c245a1806c762db2253b5d"
          ]
        },
        "id": "6c4B4K5eMvsy",
        "outputId": "f440b236-0fe7-4902-d7f5-cf6a0dd985eb"
      },
      "id": "6c4B4K5eMvsy",
      "execution_count": 27,
      "outputs": [
        {
          "output_type": "display_data",
          "data": {
            "text/plain": [
              "interactive(children=(FloatSlider(value=5.0, description='x', max=10.0), Output()), _dom_classes=('widget-inte…"
            ],
            "application/vnd.jupyter.widget-view+json": {
              "version_major": 2,
              "version_minor": 0,
              "model_id": "98ff5bfc822a4ac2bac34fa4e8b6b7eb"
            }
          },
          "metadata": {}
        }
      ]
    }
  ],
  "metadata": {
    "language_info": {
      "name": "python"
    },
    "colab": {
      "provenance": [],
      "include_colab_link": true
    },
    "kernelspec": {
      "name": "python3",
      "display_name": "Python 3"
    },
    "widgets": {
      "application/vnd.jupyter.widget-state+json": {
        "98ff5bfc822a4ac2bac34fa4e8b6b7eb": {
          "model_module": "@jupyter-widgets/controls",
          "model_name": "VBoxModel",
          "model_module_version": "1.5.0",
          "state": {
            "_dom_classes": [
              "widget-interact"
            ],
            "_model_module": "@jupyter-widgets/controls",
            "_model_module_version": "1.5.0",
            "_model_name": "VBoxModel",
            "_view_count": null,
            "_view_module": "@jupyter-widgets/controls",
            "_view_module_version": "1.5.0",
            "_view_name": "VBoxView",
            "box_style": "",
            "children": [
              "IPY_MODEL_a5dcd104edce4c3fbddeb5d600b8b11f",
              "IPY_MODEL_8dcb0cae37bd49fdae32d925cd0daa57"
            ],
            "layout": "IPY_MODEL_7e562fbe116945fca031227ffca23343"
          }
        },
        "a5dcd104edce4c3fbddeb5d600b8b11f": {
          "model_module": "@jupyter-widgets/controls",
          "model_name": "FloatSliderModel",
          "model_module_version": "1.5.0",
          "state": {
            "_dom_classes": [],
            "_model_module": "@jupyter-widgets/controls",
            "_model_module_version": "1.5.0",
            "_model_name": "FloatSliderModel",
            "_view_count": null,
            "_view_module": "@jupyter-widgets/controls",
            "_view_module_version": "1.5.0",
            "_view_name": "FloatSliderView",
            "continuous_update": true,
            "description": "x",
            "description_tooltip": null,
            "disabled": false,
            "layout": "IPY_MODEL_14e9e0a7cf5d4bee8d78225491af18fe",
            "max": 10,
            "min": 0,
            "orientation": "horizontal",
            "readout": true,
            "readout_format": ".2f",
            "step": 0.1,
            "style": "IPY_MODEL_954f646b07e7473bb4eed770bf2486ac",
            "value": 2.9
          }
        },
        "8dcb0cae37bd49fdae32d925cd0daa57": {
          "model_module": "@jupyter-widgets/output",
          "model_name": "OutputModel",
          "model_module_version": "1.0.0",
          "state": {
            "_dom_classes": [],
            "_model_module": "@jupyter-widgets/output",
            "_model_module_version": "1.0.0",
            "_model_name": "OutputModel",
            "_view_count": null,
            "_view_module": "@jupyter-widgets/output",
            "_view_module_version": "1.0.0",
            "_view_name": "OutputView",
            "layout": "IPY_MODEL_b6f6ca1e82c245a1806c762db2253b5d",
            "msg_id": "",
            "outputs": [
              {
                "output_type": "display_data",
                "data": {
                  "text/plain": "<Figure size 800x600 with 1 Axes>",
                  "image/png": "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\n"
                },
                "metadata": {}
              }
            ]
          }
        },
        "7e562fbe116945fca031227ffca23343": {
          "model_module": "@jupyter-widgets/base",
          "model_name": "LayoutModel",
          "model_module_version": "1.2.0",
          "state": {
            "_model_module": "@jupyter-widgets/base",
            "_model_module_version": "1.2.0",
            "_model_name": "LayoutModel",
            "_view_count": null,
            "_view_module": "@jupyter-widgets/base",
            "_view_module_version": "1.2.0",
            "_view_name": "LayoutView",
            "align_content": null,
            "align_items": null,
            "align_self": null,
            "border": null,
            "bottom": null,
            "display": null,
            "flex": null,
            "flex_flow": null,
            "grid_area": null,
            "grid_auto_columns": null,
            "grid_auto_flow": null,
            "grid_auto_rows": null,
            "grid_column": null,
            "grid_gap": null,
            "grid_row": null,
            "grid_template_areas": null,
            "grid_template_columns": null,
            "grid_template_rows": null,
            "height": null,
            "justify_content": null,
            "justify_items": null,
            "left": null,
            "margin": null,
            "max_height": null,
            "max_width": null,
            "min_height": null,
            "min_width": null,
            "object_fit": null,
            "object_position": null,
            "order": null,
            "overflow": null,
            "overflow_x": null,
            "overflow_y": null,
            "padding": null,
            "right": null,
            "top": null,
            "visibility": null,
            "width": null
          }
        },
        "14e9e0a7cf5d4bee8d78225491af18fe": {
          "model_module": "@jupyter-widgets/base",
          "model_name": "LayoutModel",
          "model_module_version": "1.2.0",
          "state": {
            "_model_module": "@jupyter-widgets/base",
            "_model_module_version": "1.2.0",
            "_model_name": "LayoutModel",
            "_view_count": null,
            "_view_module": "@jupyter-widgets/base",
            "_view_module_version": "1.2.0",
            "_view_name": "LayoutView",
            "align_content": null,
            "align_items": null,
            "align_self": null,
            "border": null,
            "bottom": null,
            "display": null,
            "flex": null,
            "flex_flow": null,
            "grid_area": null,
            "grid_auto_columns": null,
            "grid_auto_flow": null,
            "grid_auto_rows": null,
            "grid_column": null,
            "grid_gap": null,
            "grid_row": null,
            "grid_template_areas": null,
            "grid_template_columns": null,
            "grid_template_rows": null,
            "height": null,
            "justify_content": null,
            "justify_items": null,
            "left": null,
            "margin": null,
            "max_height": null,
            "max_width": null,
            "min_height": null,
            "min_width": null,
            "object_fit": null,
            "object_position": null,
            "order": null,
            "overflow": null,
            "overflow_x": null,
            "overflow_y": null,
            "padding": null,
            "right": null,
            "top": null,
            "visibility": null,
            "width": null
          }
        },
        "954f646b07e7473bb4eed770bf2486ac": {
          "model_module": "@jupyter-widgets/controls",
          "model_name": "SliderStyleModel",
          "model_module_version": "1.5.0",
          "state": {
            "_model_module": "@jupyter-widgets/controls",
            "_model_module_version": "1.5.0",
            "_model_name": "SliderStyleModel",
            "_view_count": null,
            "_view_module": "@jupyter-widgets/base",
            "_view_module_version": "1.2.0",
            "_view_name": "StyleView",
            "description_width": "",
            "handle_color": null
          }
        },
        "b6f6ca1e82c245a1806c762db2253b5d": {
          "model_module": "@jupyter-widgets/base",
          "model_name": "LayoutModel",
          "model_module_version": "1.2.0",
          "state": {
            "_model_module": "@jupyter-widgets/base",
            "_model_module_version": "1.2.0",
            "_model_name": "LayoutModel",
            "_view_count": null,
            "_view_module": "@jupyter-widgets/base",
            "_view_module_version": "1.2.0",
            "_view_name": "LayoutView",
            "align_content": null,
            "align_items": null,
            "align_self": null,
            "border": null,
            "bottom": null,
            "display": null,
            "flex": null,
            "flex_flow": null,
            "grid_area": null,
            "grid_auto_columns": null,
            "grid_auto_flow": null,
            "grid_auto_rows": null,
            "grid_column": null,
            "grid_gap": null,
            "grid_row": null,
            "grid_template_areas": null,
            "grid_template_columns": null,
            "grid_template_rows": null,
            "height": null,
            "justify_content": null,
            "justify_items": null,
            "left": null,
            "margin": null,
            "max_height": null,
            "max_width": null,
            "min_height": null,
            "min_width": null,
            "object_fit": null,
            "object_position": null,
            "order": null,
            "overflow": null,
            "overflow_x": null,
            "overflow_y": null,
            "padding": null,
            "right": null,
            "top": null,
            "visibility": null,
            "width": null
          }
        }
      }
    }
  },
  "nbformat": 4,
  "nbformat_minor": 5
}
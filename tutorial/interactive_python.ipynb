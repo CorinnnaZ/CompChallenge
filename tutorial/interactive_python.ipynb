{
 "cells": [
  {
   "cell_type": "markdown",
   "id": "98f5f92b",
   "metadata": {},
   "source": [
    "soemthign"
   ]
  }
 ],
 "metadata": {
  "language_info": {
   "name": "python"
  }
 },
 "nbformat": 4,
 "nbformat_minor": 5
}

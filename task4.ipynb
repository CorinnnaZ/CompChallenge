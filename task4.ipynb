{
 "cells": [
  {
   "cell_type": "markdown",
   "id": "c66371e5",
   "metadata": {},
   "source": [
    "# Task 4 \n",
    "Repeat TASK3, but now forthe scenario of the ray being refracted on a path between two media with differing wave speeds.\n",
    "Demonstrate that Fermat’s principle of minimizing travel time implies Snell’s law of refraction.\n"
   ]
  },
  {
   "cell_type": "markdown",
   "id": "d50fd226",
   "metadata": {},
   "source": [
    "## Extension Opportunities\n",
    "Using the slider from the previous task, I could use this to demonstrate the \"Brachistochrone curve\" (the curve of fastest descent) be demonstrated by having blocks of increasing refractive indices. \n",
    "Somehow extract this curve (or prove that this is the correct curve (how? this seems very difficult to prove (but easy to demonstrate)))"
   ]
  }
 ],
 "metadata": {
  "language_info": {
   "name": "python"
  }
 },
 "nbformat": 4,
 "nbformat_minor": 5
}

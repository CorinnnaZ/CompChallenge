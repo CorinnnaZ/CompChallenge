{
 "cells": [
  {
   "cell_type": "markdown",
   "id": "c66371e5",
   "metadata": {},
   "source": [
    "# Task 4 \n",
    "Repeat TASK3, but now for the scenario of the ray being refracted on a path between two media with differing wave speeds.\n",
    "Demonstrate that Fermat’s principle of minimizing travel time implies Snell’s law of refraction.\n",
    "- https://www.youtube.com/watch?v=NIHUbgs4Q_k&t=65s # useful video\n"
   ]
  },
  {
   "cell_type": "code",
   "execution_count": null,
   "id": "6b02486a",
   "metadata": {},
   "outputs": [],
   "source": [
    "# note: draw out what I mean as well with this code\n",
    "# import modules\n",
    "import matplotlib.pyplot as plt\n",
    "import numpy as np\n",
    "from math import sqrt\n",
    "\n",
    "# define constants\n",
    "n1 = 1.00\n",
    "n2 = 1.33\n",
    "y1 = 5\n",
    "y2 = 30\n",
    "x2 = 100 # the maximum that x can be\n",
    "c = 300000000\n",
    "v1 = c/n1\n",
    "v2 = c/n2\n",
    "\n",
    "x = None # the varying constant as of now\n",
    "t = None\n",
    "\n",
    "# define t and x\n",
    "x = np.linspace(0, x2, 1000)\n",
    "t = [((n1/c) * ((np.sqrt((x**2) + (y1 **2)))) + ((n2/c) * (np.sqrt(((x2 - x)**2) + (y2**2))))) for x in x]# derived through the derivation of this\n",
    "# plot t against x \n",
    "plt.plot(x, t)\n",
    "plt.show()\n",
    "# find when dt/dx = 0\n",
    "\n",
    "# redo the calculations for this (this is annoying me)\n",
    "\n",
    "\n",
    "# plug that x value in the initial equation\n",
    "\n",
    "# see whether it is the value of x such that n1 * sin(i) = n2 * sin(r)\n",
    "\n",
    "# write the list of results in the terminal\n"
   ]
  },
  {
   "cell_type": "markdown",
   "id": "d50fd226",
   "metadata": {},
   "source": [
    "## Extension Opportunities\n",
    "Using the slider from the previous task, I could use this to demonstrate the \"Brachistochrone curve\" (the curve of fastest descent) be demonstrated by having blocks of increasing refractive indices. \n",
    "Somehow extract this curve (or prove that this is the correct curve (how? this seems very difficult to prove (but easy to demonstrate)))"
   ]
  }
 ],
 "metadata": {
  "language_info": {
   "name": "python"
  }
 },
 "nbformat": 4,
 "nbformat_minor": 5
}
